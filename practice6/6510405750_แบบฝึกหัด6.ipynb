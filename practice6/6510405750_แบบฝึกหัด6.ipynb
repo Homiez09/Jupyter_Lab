{
  "cells": [
    {
      "cell_type": "markdown",
      "metadata": {
        "id": "U3ArbMi8JHGD"
      },
      "source": [
        "# แบบฝึกหัด 6"
      ]
    },
    {
      "cell_type": "markdown",
      "metadata": {
        "id": "t9RQYuu-JUwP"
      },
      "source": [
        "---"
      ]
    },
    {
      "cell_type": "code",
      "execution_count": 115,
      "metadata": {
        "id": "5LcuhePsgM1w"
      },
      "outputs": [],
      "source": [
        "import numpy as np\n",
        "import pandas as pd\n",
        "from scipy import stats\n",
        "import math"
      ]
    },
    {
      "cell_type": "markdown",
      "metadata": {
        "id": "ag3TNOoapF2I"
      },
      "source": [
        "6.1 จากการสำรวจโดยหน่วยงานของรัฐ ความน่าจะเป็นที่คนไทยจะมีบัตรเครดิตอย่างน้อย 1 บัตรเท่ากับ 0.6 หากสุ่มตัวอย่างคนไทยจำนวน\n",
        "1000 คน จงประมาณความน่าจะเป็นที่คนไทยอย่างน้อย 615 คน จากที่ถูกเลือกเป็นตัวอย่าง จะมีบัตร\n",
        "เครดิตอย่างน้อย 1 บัตร ด้วยการแจกแจงแบบปกติ"
      ]
    },
    {
      "cell_type": "code",
      "execution_count": 118,
      "metadata": {
        "id": "eGMlvK2UXrtE",
        "colab": {
          "base_uri": "https://localhost:8080/"
        },
        "outputId": "3e547fda-2f5c-41da-8a7e-2e4957a4115f"
      },
      "outputs": [
        {
          "output_type": "execute_result",
          "data": {
            "text/plain": [
              "0.17464406593420118"
            ]
          },
          "metadata": {},
          "execution_count": 118
        }
      ],
      "source": [
        "n, p, x, q = 1000, 0.6, 615, 0.4\n",
        "stats.norm.sf(((x-0.5)-(n*p))/math.sqrt(np * q))"
      ]
    },
    {
      "cell_type": "markdown",
      "metadata": {
        "id": "RIDQz3PGqqY9"
      },
      "source": [
        "###   \n"
      ]
    },
    {
      "cell_type": "markdown",
      "metadata": {
        "id": "AdbMJYLPTRNk"
      },
      "source": [
        "6.2 บริษัทแห่งหนึ่งสุ่มเครื่อง server มา 22 เครื่อง พบว่ามีค่าบำรุงรักษาเฉลี่ยเครื่องละ 10000 บาทต่อปี และมีส่วนเบี่ยงเบนมาตราฐานของค่าบำรุงรักษา 5000 บาทต่อปี \n",
        "หากการวางแผนงบประมาณจะอ้างอิงจากค่าบำรุงรักษาโดยเฉลี่ยของ server จากทั้งบริษัท จงหาความน่าจะเป็นที่ค่าบำรุงรักษา server โดยเฉลี่ยทั้งบริษัทจะมีค่าน้อยกว่า 12000 บาท  \n",
        "หากกำหนดให้การแจกแจงของค่าบำรุงรักษาจากกลุ่มตัวอย่างเป็นแบบที"
      ]
    },
    {
      "cell_type": "code",
      "execution_count": 119,
      "metadata": {
        "id": "7FhHdEZbn2QB",
        "colab": {
          "base_uri": "https://localhost:8080/"
        },
        "outputId": "c89c7bbc-ec53-424a-c4ec-3bfb115a0e63"
      },
      "outputs": [
        {
          "output_type": "execute_result",
          "data": {
            "text/plain": [
              "0.9626993246701723"
            ]
          },
          "metadata": {},
          "execution_count": 119
        }
      ],
      "source": [
        "u, o, x, n = 10000, 5000, 12000, 22\n",
        "stats.t.cdf((x-u)/(o/math.sqrt(n)), df = n - 1)\n"
      ]
    },
    {
      "cell_type": "markdown",
      "metadata": {
        "id": "eudS6wOyWTCb"
      },
      "source": [
        "###   \n"
      ]
    },
    {
      "cell_type": "markdown",
      "metadata": {
        "id": "BfdpCQDiWTCj"
      },
      "source": [
        "6.3 จากข้อ 6.2 จงหาช่วงของค่าบำรุงรักษาโดยเฉลี่ยของ server จากทั้งบริษัทที่ทำให้  \n",
        "P(-a < T < a) = 0.99  โดย a คำนวนณจากค่าสถิติของตัวอย่าง server ในข้อ 6.2"
      ]
    },
    {
      "cell_type": "code",
      "execution_count": 122,
      "metadata": {
        "id": "YEBo5Tr3n22g",
        "colab": {
          "base_uri": "https://localhost:8080/"
        },
        "outputId": "07e3de7b-0366-45db-9232-e30a5909e992"
      },
      "outputs": [
        {
          "output_type": "stream",
          "name": "stdout",
          "text": [
            "6981.760569852157 - 13018.239430147843\n"
          ]
        }
      ],
      "source": [
        "an = stats.t.ppf(0.005,21)\n",
        "ap = stats.t.isf(0.005,21)\n",
        "\n",
        "print(u - ap * (o/math.sqrt(n)), \"-\", u - an * (o/math.sqrt(n)))"
      ]
    }
  ],
  "metadata": {
    "colab": {
      "provenance": []
    },
    "kernelspec": {
      "display_name": "Python 3",
      "language": "python",
      "name": "python3"
    },
    "language_info": {
      "name": "python",
      "version": "3.11.1 (tags/v3.11.1:a7a450f, Dec  6 2022, 19:58:39) [MSC v.1934 64 bit (AMD64)]"
    },
    "vscode": {
      "interpreter": {
        "hash": "043d76f13f687f42c24a11921815e6393a7e8d9975758affe5d9f9afe013c7ea"
      }
    }
  },
  "nbformat": 4,
  "nbformat_minor": 0
}