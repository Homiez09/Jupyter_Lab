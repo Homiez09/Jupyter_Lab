{
 "cells": [
  {
   "cell_type": "code",
   "execution_count": 26,
   "metadata": {},
   "outputs": [],
   "source": [
    "import pandas as pd\n",
    "import numpy as np\n",
    "from scipy import stats\n",
    "import statsmodels.api as SMTP\n",
    "from statsmodels.stats.weightstats import ztest \n",
    "from statsmodels.stats.proportion import proportions_ztest"
   ]
  },
  {
   "cell_type": "code",
   "execution_count": 27,
   "metadata": {},
   "outputs": [
    {
     "name": "stdout",
     "output_type": "stream",
     "text": [
      "ซึ่ง p_value = 0.893 มากกว่า 0.05 จึงยอมรับ H0 นั่นคือ อายุการใช้งานของหลอดไฟ <= 5.85 ปี คำดังกล่าวของบริษัทจึงไม่เป็นความจริง\n"
     ]
    }
   ],
   "source": [
    "#8.1\n",
    "n = 30 # n >= 30\n",
    "bulb_life = [4.17, 5.72, 6.23, 5.65, 6.59, 6.47, 4.67, 6.25, 3.85, 7.02, 5.24, 4.69, 5.75, 5.05, 5.33, 5.45, 6.32, 4.7 , 5.63, 6.22, 6.73, 4.81, 4.29, 4.68, 6.13, 5.44, 6.06, 7.54, 7.28, 5.18 ]\n",
    "#H0 <= 5.85\n",
    "#H1 > 5.85\n",
    "Z_cal, p_value = ztest(x1=bulb_life, value=5.85, alternative='larger')\n",
    "\n",
    "print(\"ซึ่ง p_value = {:.3f} มากกว่า 0.05 จึงยอมรับ H0 นั่นคือ อายุการใช้งานของหลอดไฟ <= 5.85 ปี คำดังกล่าวของบริษัทจึงไม่เป็นความจริง\".format(p_value))"
   ]
  },
  {
   "cell_type": "code",
   "execution_count": 28,
   "metadata": {},
   "outputs": [
    {
     "name": "stdout",
     "output_type": "stream",
     "text": [
      "ซึ่งมี p_value = 0.801 มากกว่า 0.05 จึงยอมรับ H0 นั่นคือ น้ำหนักเฉลี่ยของผลไม้กระป๋องมีค่าเท่ากับ 160 กรัม\n"
     ]
    }
   ],
   "source": [
    "#8.2\n",
    "n = 10 # n < 30\n",
    "alplha = 0.05\n",
    "w = [164, 161, 158, 170, 161, 152, 158, 169, 152, 160]\n",
    "#H0: u = 160\n",
    "#H1: u != 160\n",
    "z_cal, p_value = stats.ttest_1samp(a=w, popmean=160, alternative='two-sided')\n",
    "\n",
    "print(\"ซึ่งมี p_value = {:.3f} มากกว่า 0.05 จึงยอมรับ H0 นั่นคือ น้ำหนักเฉลี่ยของผลไม้กระป๋องมีค่าเท่ากับ 160 กรัม\".format(p_value))"
   ]
  },
  {
   "cell_type": "code",
   "execution_count": 29,
   "metadata": {},
   "outputs": [
    {
     "name": "stdout",
     "output_type": "stream",
     "text": [
      "ซึ่ง p_value = 0.000 น้อยกว่า 0.05 จึงยอมรับ H1 นั่นคือ ค่าความเร็วของอินเตอร์เน็ตที่ให้บริการไม่เท่ากับ 1 Gbps ซึ่งไม่เป็นไปตามที่ผู้ให้บริการอินเตอร์เน็ตรายหนึ่งอ้าง\n"
     ]
    }
   ],
   "source": [
    "#8.3\n",
    "n = 12\n",
    "alpha = 0.05\n",
    "netspeed = [0.68270656, 0.98570868, 0.4025518 , 0.42397662, 0.92248197,\n",
    "0.59625324, 0.61194484, 0.98900446, 0.30617307, 0.36091738,\n",
    "0.21453245, 0.64698407]\n",
    "\n",
    "#H0: u = 1\n",
    "#H1: u != 1\n",
    "\n",
    "z_cal, p_value = stats.ttest_1samp(a=netspeed, popmean=1, alternative='two-sided')\n",
    "print(\"ซึ่ง p_value = {:.3f} น้อยกว่า 0.05 จึงยอมรับ H1 นั่นคือ ค่าความเร็วของอินเตอร์เน็ตที่ให้บริการไม่เท่ากับ 1 Gbps ซึ่งไม่เป็นไปตามที่ผู้ให้บริการอินเตอร์เน็ตรายหนึ่งอ้าง\".format(p_value))"
   ]
  },
  {
   "cell_type": "code",
   "execution_count": 30,
   "metadata": {},
   "outputs": [
    {
     "name": "stdout",
     "output_type": "stream",
     "text": [
      "ซึ่ง p_value = 0.001 น้อยกว่า 0.05 จึงยอมรับ H1 นั่นคือ อายุการใช้งานถ่าน A และ B มีค่าไม่เท่ากัน\n"
     ]
    }
   ],
   "source": [
    "#8.4\n",
    "A = [5.47, 3.91, 5.81, 4.11, 6.86, 4.52, 5.24, 4.96, 5.64, 6.73]\n",
    "B = [6.04, 7.93, 7.53, 7.69, 6.90 , 6.68, 6.00, 7.63, 5.86, 8.26]\n",
    "alpha = 0.05\n",
    "n = 10\n",
    "#H0: A=B\n",
    "#H1: A!=B\n",
    "\n",
    "z_cal, p_value = stats.ttest_ind(a=A, b=B, equal_var=True, alternative='two-sided')\n",
    "print(\"ซึ่ง p_value = {:.3f} น้อยกว่า 0.05 จึงยอมรับ H1 นั่นคือ อายุการใช้งานถ่าน A และ B มีค่าไม่เท่ากัน\".format(p_value))"
   ]
  },
  {
   "cell_type": "code",
   "execution_count": 31,
   "metadata": {},
   "outputs": [
    {
     "name": "stdout",
     "output_type": "stream",
     "text": [
      "ซึ่ง p_value มึค่า 0.003 น้อยกว่า 0.05 จึงยอมรับ H1 นั่นคือ คะแนนเฉลี่ยที่ได้จากข้อสอบชุดที่ 1 จะน้อยกว่าชุดที่ 2\n"
     ]
    }
   ],
   "source": [
    "#8.5\n",
    "alpha = 0.05\n",
    "n = 50\n",
    "x_bar1 = 55\n",
    "x_bar2 = 62\n",
    "s1 = 15\n",
    "s2 = 10\n",
    "#H0: 1 >= 2\n",
    "#H1: 1 < 2\n",
    "\n",
    "z_cal = ((x_bar1 - x_bar2) - (alpha - alpha)) / (np.sqrt(15**2/50 + 10**2/50))\n",
    "z_crit = stats.norm.ppf(0.05)\n",
    "p_value = stats.norm.cdf(z_cal)\n",
    "\n",
    "print(\"ซึ่ง p_value มึค่า {:.3f} น้อยกว่า 0.05 จึงยอมรับ H1 นั่นคือ คะแนนเฉลี่ยที่ได้จากข้อสอบชุดที่ 1 จะน้อยกว่าชุดที่ 2\".format(p_value))\n"
   ]
  },
  {
   "cell_type": "code",
   "execution_count": 32,
   "metadata": {},
   "outputs": [
    {
     "name": "stdout",
     "output_type": "stream",
     "text": [
      "ซึ่ง p_value = 0.02 มากกว่า 0.01 จึงยอมรับ H0 นั่นคือ จำนวนสารตกค้างของยาชนิดนี้ที่อยู่ในเด็กที่ป่วยเป็นโรคหัวใจไม่แตกต่างจากเด็กทีไม่ป่วยเป็นโรคหัวใจ\n"
     ]
    }
   ],
   "source": [
    "#8.6\n",
    "x_bar1 = [17.53, 20.60, 17.62, 28.93, 27.10]\n",
    "x_bar2 = [15.59, 14.76, 13.32, 12.45, 12.79]\n",
    "alpha = 0.05\n",
    "equal = False\n",
    "#H0: a=b\n",
    "#H1: a!=b\n",
    "\n",
    "t_cal, p_value = stats.ttest_ind(a=x_bar1, b=x_bar2, equal_var=equal, alternative='two-sided')\n",
    "print(\"ซึ่ง p_value = {:.2f} มากกว่า 0.01 จึงยอมรับ H0 นั่นคือ จำนวนสารตกค้างของยาชนิดนี้ที่อยู่ในเด็กที่ป่วยเป็นโรคหัวใจไม่แตกต่างจากเด็กทีไม่ป่วยเป็นโรคหัวใจ\".format(p_value))"
   ]
  },
  {
   "cell_type": "code",
   "execution_count": 33,
   "metadata": {},
   "outputs": [
    {
     "name": "stdout",
     "output_type": "stream",
     "text": [
      "ซึ่ง p_value = 0.02 น่อยกว่า 0.05 จึงยอมรับ H1 นั่นคือ ผู้สมัครพรรคการเมืองนี้จะมีโอกาสได้รับเลือกมากกว่า 50%\n"
     ]
    }
   ],
   "source": [
    "#8.7\n",
    "n = 100\n",
    "p = 0.6\n",
    "p0 = 0.5\n",
    "\n",
    "#H0: p <= p0\n",
    "#H1: p > p0\n",
    "\n",
    "z_cal, p_value = proportions_ztest(count=60, nobs=100, value=0.5, alternative='larger', prop_var=0.5)\n",
    "print(\"ซึ่ง p_value = {:.2f} น่อยกว่า 0.05 จึงยอมรับ H1 นั่นคือ ผู้สมัครพรรคการเมืองนี้จะมีโอกาสได้รับเลือกมากกว่า 50%\".format(p_value))"
   ]
  },
  {
   "cell_type": "code",
   "execution_count": 34,
   "metadata": {},
   "outputs": [
    {
     "name": "stdout",
     "output_type": "stream",
     "text": [
      "ซึ่ง p_value = 0.23 มากกว่า 0.01 จึงยอมรับ H0 นั่นคือ จำนวนรถที่ใช้ความเร็วเกินกำหนดนั้นมีน้อยกว่าหรือเท่ากับผลวิจัยดังกล่าว\n"
     ]
    }
   ],
   "source": [
    "#8.8\n",
    "n = 36\n",
    "p = 9/36\n",
    "p0 = 1/5\n",
    "#H0: p <= p0\n",
    "#H1: p > p0\n",
    "z_cal, p_value = proportions_ztest(count=9, nobs=36, value=1/5, alternative='larger', prop_var=1/5)\n",
    "print(\"ซึ่ง p_value = {:.2f} มากกว่า 0.01 จึงยอมรับ H0 นั่นคือ จำนวนรถที่ใช้ความเร็วเกินกำหนดนั้นมีน้อยกว่าหรือเท่ากับผลวิจัยดังกล่าว\".format(p_value))"
   ]
  },
  {
   "cell_type": "code",
   "execution_count": 35,
   "metadata": {},
   "outputs": [
    {
     "name": "stdout",
     "output_type": "stream",
     "text": [
      "ซึ่ง p_value = 0.21 มากกว่า 0.1 จึงยอมรับ H0 นั่นคือ เปอร์เซ็นต์ของคนงานหญิงที่ฉีดวัคซีนจะมีค่าน้อยกว่าหรือเท่ากับเปอร์เซ็นต์ของคนงานชายที่ฉีดวัคซีน\n"
     ]
    }
   ],
   "source": [
    "#8.9\n",
    "n1 = 100\n",
    "n2 = 200\n",
    "x1 = 60\n",
    "x2 = 100\n",
    "p0 = 0.05\n",
    "\n",
    "#H0: n1 <= n2\n",
    "#H1: n1 > n2\n",
    "z_cal, p_value = proportions_ztest(count=[x1, x2], nobs=[n1, n2], value=p0, alternative='larger')\n",
    "print(\"ซึ่ง p_value = {:.2f} มากกว่า 0.1 จึงยอมรับ H0 นั่นคือ เปอร์เซ็นต์ของคนงานหญิงที่ฉีดวัคซีนจะมีค่าน้อยกว่าหรือเท่ากับเปอร์เซ็นต์ของคนงานชายที่ฉีดวัคซีน\".format(p_value))"
   ]
  },
  {
   "cell_type": "code",
   "execution_count": 36,
   "metadata": {},
   "outputs": [
    {
     "name": "stdout",
     "output_type": "stream",
     "text": [
      "ซึ่ง p_value = 0.49 มากกว่า 0.05 จึงยอมรับ H0 นั่นคือ เด็กนักเรียนหญิงและนักเรียนชายทั้งหมด มีสัดส่วนฟันผุไม่แตกต่างกัน\n"
     ]
    }
   ],
   "source": [
    "#8.10\n",
    "n1 = 380\n",
    "n2 = 300\n",
    "x1 = 50\n",
    "x2 = 45\n",
    "p0 = 0 # โจทย์บอกว่ามีสัดส่วนการฟันผุไม่ต่างกัน = มีค่าเท่ากับ 0\n",
    "alpha = 0.05\n",
    "\n",
    "#H0: n1 = n2\n",
    "#H1: n1 != n2\n",
    "\n",
    "z_cal, p_value = proportions_ztest(count=[x1, x2], nobs=[n1, n2], value = p0, alternative='two-sided')\n",
    "print(\"ซึ่ง p_value = {:.2f} มากกว่า 0.05 จึงยอมรับ H0 นั่นคือ เด็กนักเรียนหญิงและนักเรียนชายทั้งหมด มีสัดส่วนฟันผุไม่แตกต่างกัน\".format(p_value))"
   ]
  },
  {
   "cell_type": "code",
   "execution_count": 37,
   "metadata": {},
   "outputs": [
    {
     "name": "stdout",
     "output_type": "stream",
     "text": [
      "ซึ่ง p_value = 0.30 มากกว่า 0.01 จึงยอมรับ H0 นั่นคือ ปริมาณน้ำตาลทรายบรรจุถุงขนาด 1 kg <= 30\n"
     ]
    }
   ],
   "source": [
    "#8.11\n",
    "n = 20\n",
    "s = 32\n",
    "o = 30\n",
    "v = n-1\n",
    "#H0: ปริมาณน้ำตาลทรายบรรจุถุงขนาด 1 kg <= 30\n",
    "#H1: ปริมาณน้ำตาลทรายบรรจุถุงขนาด 1 kg > 30\n",
    "\n",
    "chi2_cal = (v*(s**2))/o**2\n",
    "chi2_crit = stats.chi2.isf(0.01, df=v)\n",
    "p_value = stats.chi2.sf(chi2_cal, df=v)\n",
    "\n",
    "print(\"ซึ่ง p_value = {:.2f} มากกว่า 0.01 จึงยอมรับ H0 นั่นคือ ปริมาณน้ำตาลทรายบรรจุถุงขนาด 1 kg <= 30\".format(p_value))"
   ]
  },
  {
   "cell_type": "code",
   "execution_count": 38,
   "metadata": {},
   "outputs": [
    {
     "name": "stdout",
     "output_type": "stream",
     "text": [
      "ซึ่ง p_value = 23.18 มากกว่า 0.01 จึงยอมรับ H0 นั่นคือ ค่าความแปรปรวนของกรดยูริกมีค่าไม่แตกต่างจาก 1 ที่ระดับนัยสำคัญ 0.1\n"
     ]
    }
   ],
   "source": [
    "#8.12\n",
    "n = 22\n",
    "v = n-1\n",
    "x_bar = 4.6\n",
    "s2 = 1.44\n",
    "s20 = 1\n",
    "alpha = 0.1\n",
    "\n",
    "#H0: ค่าความแปรปรวนของกรดยูริกมีค่าไม่แตกต่างจาก 1 ที่ระดับนัยสำคัญ 0.1\n",
    "#H1: ค่าความแปรปรวนของกรดยูริกมีค่าแตกต่างจาก 1 ที่ระดับนัยสำคัญ 0.1\n",
    "chi2_cal = v*s2\n",
    "chi2_crit_l = stats.chi2.ppf(0.1/2, df=v)\n",
    "chi2_crit_r = stats.chi2.isf(0.1/2, df=v)\n",
    "p_value = 2*min(chi2_crit_l, chi2_crit_r)\n",
    "\n",
    "print(\"ซึ่ง p_value = {:.2f} มากกว่า 0.01 จึงยอมรับ H0 นั่นคือ ค่าความแปรปรวนของกรดยูริกมีค่าไม่แตกต่างจาก 1 ที่ระดับนัยสำคัญ 0.1\".format(p_value))"
   ]
  },
  {
   "cell_type": "code",
   "execution_count": 39,
   "metadata": {},
   "outputs": [
    {
     "name": "stdout",
     "output_type": "stream",
     "text": [
      "ซึ่ง p_value = 0.23 มากกว่า 0.01 จึงยอมรับ H0 นั่นคือ ความแปรปรวนของผลผลิต ถั่วเหลืองทั้งสองพันธุ์ไม่แตกต่างกัน\n"
     ]
    }
   ],
   "source": [
    "#8.13\n",
    "x1 = [36, 34, 32, 35, 50, 46, 45, 38]\n",
    "x2 = [35, 39, 37, 38, 35, 42, 43, 36, 39, 40]\n",
    "\n",
    "n1 = len(x1)\n",
    "n2 = len(x2)\n",
    "\n",
    "v1 = np.var(x1, ddof=1)\n",
    "v2 = np.var(x2, ddof=1)\n",
    "\n",
    "f_cal = v1/v2\n",
    "\n",
    "f_crit_l = stats.f.ppf(0.01/2, dfn=7, dfd=9)\n",
    "f_crit_r = stats.f.isf(0.01/2, dfn=7, dfd=9)\n",
    "\n",
    "#H0: ความแปรปรวนของผลผลิต ถั่วเหลืองทั้งสองพันธุ์ไม่แตกต่างกัน\n",
    "#H1: ความแปรแรวนของผลผลิต ถั่วเหลืองทั้งสองพันธุ์แตกต่างกัน\n",
    "p_value = 2*min(f_crit_l, f_crit_r)\n",
    "print(\"ซึ่ง p_value = {:.2f} มากกว่า 0.01 จึงยอมรับ H0 นั่นคือ ความแปรปรวนของผลผลิต ถั่วเหลืองทั้งสองพันธุ์ไม่แตกต่างกัน\".format(p_value))"
   ]
  },
  {
   "cell_type": "code",
   "execution_count": 41,
   "metadata": {},
   "outputs": [
    {
     "name": "stdout",
     "output_type": "stream",
     "text": [
      "ซึ่ง p_value = 0.58 มากกว่า 0.1 จึงยอมรับ H0 นั่นคือ ความแปรปรวนของปริมาณวิตามิน A ที่สกัดด้วยวิธีการทั้งสองไม่ต่างกัน\n"
     ]
    }
   ],
   "source": [
    "#8.14\n",
    "n1 = 13\n",
    "n2 = 12\n",
    "x_bar1 = 48.80\n",
    "x_bar2 = 51.60\n",
    "s1 = 50.17\n",
    "s2 = 42.32\n",
    "alpha = 0.1\n",
    "\n",
    "#H0: ความแปรปรวนของปริมาณวิตามิน A ที่สกัดด้วยวิธีการทั้งสองไม่ต่างกัน\n",
    "#H1: ความแปรแรวนของปริมาณวิตามิน A ที่สกัดด้วยวิธีการทั้งสองต่างกัน\n",
    "\n",
    "f_cal = (s1**2/s2**2)\n",
    "f_crit_l = stats.f.ppf(alpha/2, dfn=n1-1, dfd=n2-1)\n",
    "f_crit_r = stats.f.isf(alpha/2, dfn=n1-1, dfd=n2-1)\n",
    "p_value = 2*min(stats.f.sf(f_cal, dfn=n1-1, dfd=n2-1), stats.f.cdf(f_cal, dfn=n1-1, dfd=n2-1))\n",
    "print(\"ซึ่ง p_value = {:.2f} มากกว่า 0.1 จึงยอมรับ H0 นั่นคือ ความแปรปรวนของปริมาณวิตามิน A ที่สกัดด้วยวิธีการทั้งสองไม่ต่างกัน\".format(p_value))"
   ]
  },
  {
   "cell_type": "code",
   "execution_count": null,
   "metadata": {},
   "outputs": [],
   "source": []
  }
 ],
 "metadata": {
  "kernelspec": {
   "display_name": "Python 3",
   "language": "python",
   "name": "python3"
  },
  "language_info": {
   "codemirror_mode": {
    "name": "ipython",
    "version": 3
   },
   "file_extension": ".py",
   "mimetype": "text/x-python",
   "name": "python",
   "nbconvert_exporter": "python",
   "pygments_lexer": "ipython3",
   "version": "3.10.6"
  },
  "orig_nbformat": 4
 },
 "nbformat": 4,
 "nbformat_minor": 2
}
