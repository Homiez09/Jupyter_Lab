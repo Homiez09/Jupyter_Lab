{
 "cells": [
  {
   "cell_type": "code",
   "execution_count": 39,
   "metadata": {},
   "outputs": [],
   "source": [
    "import numpy as np\n",
    "from scipy import stats\n",
    "import pandas as pd"
   ]
  },
  {
   "cell_type": "code",
   "execution_count": 10,
   "metadata": {},
   "outputs": [
    {
     "name": "stdout",
     "output_type": "stream",
     "text": [
      "ซึ่ง p_value = 0.39 > 0.1 จึงยอมรับ H0 นั่นคือ อัตราส่วนของคนที่มีกรุ๊ปเลือด A, B, AB, O = 2:2:1:3\n"
     ]
    }
   ],
   "source": [
    "#9.1\n",
    "O = np.array([20, 25, 10, 45])\n",
    "p = np.array([2/8, 2/8, 1/8, 3/8])\n",
    "E = 100 * p\n",
    "alpha = 0.1\n",
    "chi2_cal = sum((O - E)**2 / E)\n",
    "chi2_cal, p_value = stats.chisquare(O, E)\n",
    "\n",
    "#H0: อัตราส่วนของคนที่มีกรุ๊ปเลือด A, B, AB, O = 2:2:1:3\n",
    "#H1: อัตราส่วนของคนที่มีกรุ๊ปเลือด A, B, AB, O != 2:2:1:3\n",
    "print(\"ซึ่ง p_value = {:.2f} > 0.1 จึงยอมรับ H0 นั่นคือ อัตราส่วนของคนที่มีกรุ๊ปเลือด A, B, AB, O = 2:2:1:3\".format(p_value))"
   ]
  },
  {
   "cell_type": "code",
   "execution_count": 19,
   "metadata": {},
   "outputs": [
    {
     "name": "stdout",
     "output_type": "stream",
     "text": [
      "ซึ่ง p_value = 0.17 > 0.05 จึงยอมรับ H1 นั่นคือ อัตราส่วนระหว่างถั่วเมล็ดเรียบต่อถั่วเมล็ดขรุขระ = 3:1\n"
     ]
    },
    {
     "data": {
      "text/plain": [
       "1.92"
      ]
     },
     "execution_count": 19,
     "metadata": {},
     "output_type": "execute_result"
    }
   ],
   "source": [
    "#9.2\n",
    "#H0: อัตราส่วนระหว่างถั่วเมล็ดเรียบต่อถั่วเมล็ดขรุขระ = 3:1\n",
    "#H1: อัตราส่วนระหว่างถั่วเมล็ดเรียบต่อถั่วเมล็ดขรุขระ != 3:1\n",
    "\n",
    "n = 100\n",
    "O = np.array([69, 31])\n",
    "p = np.array([3/4, 1/4])\n",
    "alpha = 0.05\n",
    "E = n*p\n",
    "chi2_cal, p_value = stats.chisquare(O, E)\n",
    "print(\"ซึ่ง p_value = {:.2f} > 0.05 จึงยอมรับ H0 นั่นคือ อัตราส่วนระหว่างถั่วเมล็ดเรียบต่อถั่วเมล็ดขรุขระ = 3:1\".format(p_value))"
   ]
  },
  {
   "cell_type": "code",
   "execution_count": 20,
   "metadata": {},
   "outputs": [
    {
     "name": "stdout",
     "output_type": "stream",
     "text": [
      "4.158596491228071 0.24483999080719207\n"
     ]
    }
   ],
   "source": [
    "#9.3\n",
    "\n",
    "#H0: อัตราส่วนลูกค้าที่นิยมใช้ theme light:dark:blue:dark-blue = 1:2:2:3\n",
    "#H1: อัตราส่วนลูกค้าที่นิยมใช้ theme light:dark:blue:dark-blue != 1:2:2:3\n",
    "n = 100\n",
    "O = np.array([16, 17, 27, 40])\n",
    "p = np.array([1/8, 2/8, 2/8, 3/8])\n",
    "alpha = 0.01\n",
    "E = np.round(n*p)\n",
    "chi2_cal, p_value = stats.chisquare(O, E)\n",
    "print(\"ซึ่ง p_value = {:.2f} > 0.05 จึงยอมรับ H0 นั่นคือ อัตราส่วนระหว่างถั่วเมล็ดเรียบต่อถั่วเมล็ดขรุขระ = 3:1\".format(p_value))"
   ]
  },
  {
   "cell_type": "code",
   "execution_count": 23,
   "metadata": {},
   "outputs": [
    {
     "name": "stdout",
     "output_type": "stream",
     "text": [
      "ซึ่ง p_value = 0.30 > 0.05 จึงยอมรับ H0 นั่นคือ เพศและความชอบของสูตรวาฟเฟิลไม่มีความสัมพันธ์\n"
     ]
    }
   ],
   "source": [
    "#9.5\n",
    "\n",
    "#H0: เพศและความชอบของสูตรวาฟเฟิลไม่มีความสัมพันธ์\n",
    "#H1: เพศและความชอบของสูตรวาฟเฟิลมีความสัมพันธ์\n",
    "O = np.array([[15, 13, 5, 12], [20, 10, 13, 12]])\n",
    "chi2_cal, p_value, dof, E = stats.chi2_contingency(O, correction=False)\n",
    "print(\"ซึ่ง p_value = {:.2f} > 0.05 จึงยอมรับ H0 นั่นคือ เพศและความชอบของสูตรวาฟเฟิลไม่มีความสัมพันธ์\".format(p_value))"
   ]
  },
  {
   "cell_type": "code",
   "execution_count": 34,
   "metadata": {},
   "outputs": [
    {
     "name": "stdout",
     "output_type": "stream",
     "text": [
      "ซึ่ง p_value = 0.00 < 0.05 จึงยอมรับ H1 นั่นคือ สาขาที่นิสิตเรียนและ OS ที่ใช้ในการเรีนยการสอนมีความสัมพันธ์กัน\n"
     ]
    },
    {
     "data": {
      "text/plain": [
       "4.6320524991183165e-17"
      ]
     },
     "execution_count": 34,
     "metadata": {},
     "output_type": "execute_result"
    }
   ],
   "source": [
    "#9.6\n",
    "\n",
    "#H0: สาขาที่นิสิตเรียนและ OS ที่ใช้ในการเรีนยการสอนไม่มีความสัมพันธ์กัน\n",
    "#H1: สาขาที่นิสิตเรียนและ OS ที่ใช้ในการเรีนยการสอนมีความสัมพันธ์กัน\n",
    "\n",
    "O = np.array([[45, 40, 10, 5], [5, 20, 40, 35]])\n",
    "chi2_cal, p_value, dof, E = stats.chi2_contingency(O, correction=False)\n",
    "print(\"ซึ่ง p_value = {:.2f} < 0.05 จึงยอมรับ H1 นั่นคือ สาขาที่นิสิตเรียนและ OS ที่ใช้ในการเรีนยการสอนมีความสัมพันธ์กัน\".format(p_value))"
   ]
  },
  {
   "cell_type": "code",
   "execution_count": 38,
   "metadata": {},
   "outputs": [
    {
     "name": "stdout",
     "output_type": "stream",
     "text": [
      "ซึ่ง p_value = 0.00 < 0.05 จึงยอมรับ H1 นั่นคือ จำนวนครั้งของการเกิดอุบัติเหตุกับช่วงการทำงาน มีความสัมพันธ์กัน\n"
     ]
    }
   ],
   "source": [
    "#9.7\n",
    "\n",
    "#H0 จำนวนครั้งของการเกิดอุบัติเหตุกับช่วงการทำงาน ไม่มีความสัมพันธ์กัน\n",
    "#H1 จำนวนครั้งของการเกิดอุบัติเหตุกับช่วงการทำงาน มีความสัมพันธ์กัน\n",
    "\n",
    "alpha = 0.05\n",
    "O = np.array([[51, 183, 146], [173, 104, 57], [203, 154, 79]])\n",
    "chi2_cal, p_value, dof, E = stats.chi2_contingency(O, correction=False)\n",
    "print(\"ซึ่ง p_value = {:.2f} < 0.05 จึงยอมรับ H1 นั่นคือ จำนวนครั้งของการเกิดอุบัติเหตุกับช่วงการทำงาน มีความสัมพันธ์กัน\".format(p_value))\n"
   ]
  },
  {
   "cell_type": "code",
   "execution_count": 43,
   "metadata": {},
   "outputs": [
    {
     "name": "stdout",
     "output_type": "stream",
     "text": [
      "ซึ่ง p_value = 0.00 < 0.05 จึงยอมรับ H1 นั่นคือ ข้อมูลเพศไม่เป็นอิสระจากข้อมูลจำนวนผู้เสียชีวิต\n"
     ]
    }
   ],
   "source": [
    "#9.8\n",
    "\n",
    "#H0: ข้อมูลเพศเป็นอิสระจากข้อมูลจำนวนผู้เสียชีวิต\n",
    "#H1: ข้อมูลเพศไม่เป็นอิสระจากข้อมูลจำนวนผู้เสียชีวิต\n",
    "df = pd.read_csv(\"csv/titanic.csv\")\n",
    "alpha = 0.01\n",
    "O = np.array(pd.crosstab(df.Sex, df.Survived))\n",
    "chi2_cal, p_value, dof, E = stats.chi2_contingency(O, correction=False)\n",
    "print(\"ซึ่ง p_value = {:.2f} < 0.05 จึงยอมรับ H1 นั่นคือ ข้อมูลเพศไม่เป็นอิสระจากข้อมูลจำนวนผู้เสียชีวิต\".format(p_value))\n"
   ]
  },
  {
   "cell_type": "code",
   "execution_count": null,
   "metadata": {},
   "outputs": [],
   "source": []
  }
 ],
 "metadata": {
  "kernelspec": {
   "display_name": "Python 3",
   "language": "python",
   "name": "python3"
  },
  "language_info": {
   "codemirror_mode": {
    "name": "ipython",
    "version": 3
   },
   "file_extension": ".py",
   "mimetype": "text/x-python",
   "name": "python",
   "nbconvert_exporter": "python",
   "pygments_lexer": "ipython3",
   "version": "3.10.6"
  },
  "orig_nbformat": 4
 },
 "nbformat": 4,
 "nbformat_minor": 2
}
