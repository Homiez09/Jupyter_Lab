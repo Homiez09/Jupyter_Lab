{
 "cells": [
  {
   "cell_type": "code",
   "execution_count": 9,
   "metadata": {},
   "outputs": [],
   "source": [
    "import pandas as pd\n",
    "import numpy as np\n",
    "from scipy import stats\n",
    "import statsmodels.api as sm"
   ]
  },
  {
   "cell_type": "code",
   "execution_count": 4,
   "metadata": {},
   "outputs": [
    {
     "name": "stdout",
     "output_type": "stream",
     "text": [
      "0.8410425833995455\n"
     ]
    }
   ],
   "source": [
    "#11.2\n",
    "sale = pd.read_csv('csv/sale.csv')\n",
    "x = sale.ad_cost\n",
    "y = sale.sale\n",
    "\n",
    "r, p_value = stats.pearsonr(x=sale.ad_cost, y=sale.sale)\n",
    "print(r)"
   ]
  },
  {
   "cell_type": "code",
   "execution_count": 5,
   "metadata": {},
   "outputs": [
    {
     "name": "stdout",
     "output_type": "stream",
     "text": [
      "0.8410425833995455 0.0006081181882655834\n"
     ]
    }
   ],
   "source": [
    "#11.3 จาก 11.2\n",
    "#H0: p = 0\n",
    "#H1: p != 0\n",
    "r, p_val = stats.pearsonr(x=sale.ad_cost, y=sale.sale)\n",
    "print(r, p_value)"
   ]
  },
  {
   "cell_type": "code",
   "execution_count": 8,
   "metadata": {},
   "outputs": [
    {
     "name": "stdout",
     "output_type": "stream",
     "text": [
      "0.86392120041863 6.793657739462234e-05\n"
     ]
    }
   ],
   "source": [
    "cosmetics = pd.read_csv('csv/cosmetic.csv')\n",
    "x = cosmetics.mk_share\n",
    "y = cosmetics.payback_customer\n",
    "r, p_value = stats.pearsonr(x = x, y = y)\n",
    "print(r, p_value)"
   ]
  },
  {
   "cell_type": "code",
   "execution_count": null,
   "metadata": {},
   "outputs": [],
   "source": [
    "sale = pd.read_csv('csv/sale.csv')\n",
    "x = sale.ad_cost\n",
    "y = sale.sample"
   ]
  }
 ],
 "metadata": {
  "kernelspec": {
   "display_name": "Python 3",
   "language": "python",
   "name": "python3"
  },
  "language_info": {
   "codemirror_mode": {
    "name": "ipython",
    "version": 3
   },
   "file_extension": ".py",
   "mimetype": "text/x-python",
   "name": "python",
   "nbconvert_exporter": "python",
   "pygments_lexer": "ipython3",
   "version": "3.10.6"
  },
  "orig_nbformat": 4
 },
 "nbformat": 4,
 "nbformat_minor": 2
}
