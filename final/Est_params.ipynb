{
 "cells": [
  {
   "cell_type": "code",
   "execution_count": 4,
   "metadata": {},
   "outputs": [],
   "source": [
    "import numpy as np\n",
    "from scipy import stats"
   ]
  },
  {
   "cell_type": "code",
   "execution_count": 15,
   "metadata": {},
   "outputs": [
    {
     "name": "stdout",
     "output_type": "stream",
     "text": [
      "166.7\n"
     ]
    }
   ],
   "source": [
    "#8.1\n",
    "n = 10\n",
    "x = [165, 172, 157, 138, 180, 175, 159, 149, 190, 182]\n",
    "\n",
    "x_bar = np.mean(x)\n",
    "print(x_bar)"
   ]
  },
  {
   "cell_type": "code",
   "execution_count": 14,
   "metadata": {},
   "outputs": [
    {
     "name": "stdout",
     "output_type": "stream",
     "text": [
      "1.3925586109974042 1.6074413890025958\n"
     ]
    }
   ],
   "source": [
    "#8.2\n",
    "n = 150\n",
    "x_bar = 1.5\n",
    "s = 0.8\n",
    "alpha = 0.1\n",
    "\n",
    "x = x_bar + (stats.norm.ppf(alpha/2) * s) / np.sqrt(n)\n",
    "y = x_bar + (stats.norm.isf(alpha/2) * s) / np.sqrt(n)\n",
    "\n",
    "print(x, y)"
   ]
  },
  {
   "cell_type": "code",
   "execution_count": 27,
   "metadata": {},
   "outputs": [
    {
     "name": "stdout",
     "output_type": "stream",
     "text": [
      "180.2839104760659 279.7160895239341\n",
      "168.6477472191342 291.3522527808658\n",
      "141.8607959355553 318.1392040644447\n"
     ]
    }
   ],
   "source": [
    "#8.3\n",
    "x = [200, 150, 120, 300, 250, 170, 220, 180, 310, 400]\n",
    "x_bar = np.mean(x)\n",
    "s = np.std(x, ddof = 1)\n",
    "alpha = 0.1\n",
    "print(x_bar + (stats.t.ppf(alpha/2, df = len(x) - 1)) * s  / np.sqrt(len(x)), x_bar + (stats.t.isf(alpha/2, df = len(x) - 1)) * s / np.sqrt(len(x)))\n",
    "alpha = 0.05\n",
    "print(x_bar + (stats.t.ppf(alpha/2, df = len(x) - 1)) * s  / np.sqrt(len(x)), x_bar + (stats.t.isf(alpha/2, df = len(x) - 1)) * s / np.sqrt(len(x)))\n",
    "alpha = 0.01\n",
    "print(x_bar + (stats.t.ppf(alpha/2, df = len(x) - 1)) * s  / np.sqrt(len(x)), x_bar + (stats.t.isf(alpha/2, df = len(x) - 1)) * s / np.sqrt(len(x)))"
   ]
  },
  {
   "cell_type": "code",
   "execution_count": 31,
   "metadata": {},
   "outputs": [
    {
     "name": "stdout",
     "output_type": "stream",
     "text": [
      "0.5333333333333333\n"
     ]
    }
   ],
   "source": [
    "#8.4\n",
    "n = 150\n",
    "x = 80\n",
    "p = x/n\n",
    "print(p)\n"
   ]
  },
  {
   "cell_type": "code",
   "execution_count": 35,
   "metadata": {},
   "outputs": [
    {
     "name": "stdout",
     "output_type": "stream",
     "text": [
      "0.52\n",
      "0.44649878117243413 0.5935012188275659\n"
     ]
    }
   ],
   "source": [
    "#8.5\n",
    "n = 125\n",
    "x = 65\n",
    "p= x/n\n",
    "# ประมาณสัดส่วน (แบบจุด) ของลูกค้าทั้งหมดที่พอใจซอฟแวร์จากบริษัทนี้\n",
    "print(p)\n",
    "\n",
    "# ประมาณสัดส่วนของลูกค้าทั้งหมดที่พอใจซอฟต์แวร์จากบริษัทนี้ ที่ช่วงความเชื่อมั่นที่ 90%\n",
    "print(p+stats.norm.ppf(0.1/2)*np.sqrt(p*(1-p)/n), p+stats.norm.isf(0.1/2)*np.sqrt(p*(1-p)/n))"
   ]
  },
  {
   "cell_type": "code",
   "execution_count": 39,
   "metadata": {},
   "outputs": [
    {
     "name": "stdout",
     "output_type": "stream",
     "text": [
      "0.018722639118515533 0.021277360881484467\n"
     ]
    }
   ],
   "source": [
    "#8.6\n",
    "n = 32500\n",
    "x = 650\n",
    "alpha = 0.1\n",
    "p = x/n\n",
    "print(p+stats.norm.ppf(alpha/2)*np.sqrt(p*(1-p)/n), p+stats.norm.isf(alpha/2)*np.sqrt(p*(1-p)/n))"
   ]
  },
  {
   "cell_type": "code",
   "execution_count": 41,
   "metadata": {},
   "outputs": [
    {
     "name": "stdout",
     "output_type": "stream",
     "text": [
      "238.66781609195402\n"
     ]
    }
   ],
   "source": [
    "#8.7\n",
    "n = 30\n",
    "x = [40,64,49,41,57,49,61,36,72,42,47,80,57,62,26,40,53,63,42,44,50,70,92,55,60,42,63,54,24,78]\n",
    "print(np.var(x, ddof = 1))"
   ]
  },
  {
   "cell_type": "code",
   "execution_count": 43,
   "metadata": {},
   "outputs": [
    {
     "name": "stdout",
     "output_type": "stream",
     "text": [
      "151.37840431492018 431.31649176004277\n"
     ]
    }
   ],
   "source": [
    "#8.8\n",
    "n = 30\n",
    "x = [40, 64, 49, 41, 57, 49, 61, 36, 72, 42, 47, 80, 57, 62, 26, 40, 53, 63, 42, 44, 50, 70, 92, 55, 60, 42, 63, 54, 24, 78]\n",
    "alpha = 0.05\n",
    "s2 = np.var(x, ddof = 1)\n",
    "print((n-1)*s2/stats.chi2.isf(alpha/2, df = n-1), (n-1)*s2/stats.chi2.ppf(alpha/2, df = n-1))"
   ]
  },
  {
   "cell_type": "code",
   "execution_count": 46,
   "metadata": {},
   "outputs": [
    {
     "name": "stdout",
     "output_type": "stream",
     "text": [
      "2.517991229277205 23.859835105009978\n"
     ]
    }
   ],
   "source": [
    "#8.9\n",
    "n = 8\n",
    "x_bar = 18.6\n",
    "s = 2.4\n",
    "alpha = 0.05\n",
    "print((n-1)*s**2/stats.chi2.isf(alpha/2, df = n-1), (n-1)*s**2/stats.chi2.ppf(alpha/2, df = n-1))"
   ]
  },
  {
   "cell_type": "code",
   "execution_count": null,
   "metadata": {},
   "outputs": [],
   "source": []
  }
 ],
 "metadata": {
  "kernelspec": {
   "display_name": "Python 3",
   "language": "python",
   "name": "python3"
  },
  "language_info": {
   "codemirror_mode": {
    "name": "ipython",
    "version": 3
   },
   "file_extension": ".py",
   "mimetype": "text/x-python",
   "name": "python",
   "nbconvert_exporter": "python",
   "pygments_lexer": "ipython3",
   "version": "3.10.6"
  },
  "orig_nbformat": 4
 },
 "nbformat": 4,
 "nbformat_minor": 2
}
