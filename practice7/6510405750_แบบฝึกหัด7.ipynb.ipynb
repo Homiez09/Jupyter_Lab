{
  "cells": [
    {
      "cell_type": "markdown",
      "metadata": {
        "id": "U3ArbMi8JHGD"
      },
      "source": [
        "# แบบฝึกหัด 7"
      ]
    },
    {
      "cell_type": "markdown",
      "metadata": {
        "id": "t9RQYuu-JUwP"
      },
      "source": [
        "---"
      ]
    },
    {
      "cell_type": "code",
      "execution_count": 2,
      "metadata": {
        "id": "5LcuhePsgM1w"
      },
      "outputs": [],
      "source": [
        "import numpy as np\n",
        "from scipy import stats\n",
        "from statsmodels.stats.weightstats import ztest"
      ]
    },
    {
      "cell_type": "markdown",
      "metadata": {
        "id": "ag3TNOoapF2I"
      },
      "source": [
        "7.1 จากการเก็บข้อมูลของบูธร้านค้าร้านหนึ่งในงานเกษตรแฟร์โดยสุ่มตัวอย่างลูกค้ามาทั้งหมด 200 คน พบว่ามีอายุเฉลี่ย 42.8 ปี ส่วนเบี่ยงเบนมาตราฐาน 6.89 ปี ผู้ประกอบการร้านแห่งนี้จึงตั้งสมมุติฐานว่า ลูกค้าของทางร้านมีอายุเฉลี่ยสูงกว่า 40 ปี ที่ระดับนัยสำคัญ 0.01 สมมุติฐานนี้ถูกต้องหรือไม่ หากกำหนดให้การแจกแจงของอายุเป็นแบบปกติ  "
      ]
    },
    {
      "cell_type": "code",
      "execution_count": 3,
      "metadata": {
        "id": "eGMlvK2UXrtE"
      },
      "outputs": [
        {
          "name": "stdout",
          "output_type": "stream",
          "text": [
            "ยอมรับสมมติฐานรอง คือ ลูกค้าของทางร้านมีอายุเฉลี่ย > 40 ปี\n"
          ]
        }
      ],
      "source": [
        "zCal = (42.8 - 40) / (6.89 / (np.sqrt(200)))\n",
        "zCri = stats.norm.isf(0.01) \n",
        "print('ยอมรับสมมติฐานรอง คือ ลูกค้าของทางร้านมีอายุเฉลี่ย > 40 ปี' if zCal > zCri else ...)"
      ]
    },
    {
      "cell_type": "code",
      "execution_count": 6,
      "metadata": {},
      "outputs": [
        {
          "data": {
            "text/plain": [
              "5.747166871762936"
            ]
          },
          "execution_count": 6,
          "metadata": {},
          "output_type": "execute_result"
        }
      ],
      "source": [
        "Z_cal = (42.8 - 40) /  (6.89 / np.sqrt(200))\n",
        "Z_cal"
      ]
    },
    {
      "cell_type": "code",
      "execution_count": 5,
      "metadata": {},
      "outputs": [
        {
          "data": {
            "text/plain": [
              "2.3263478740408408"
            ]
          },
          "execution_count": 5,
          "metadata": {},
          "output_type": "execute_result"
        }
      ],
      "source": [
        "Z_crit = stats.norm.isf(0.01)\n",
        "Z_crit"
      ]
    },
    {
      "cell_type": "code",
      "execution_count": 11,
      "metadata": {},
      "outputs": [
        {
          "data": {
            "text/plain": [
              "4.537557863298819e-09"
            ]
          },
          "execution_count": 11,
          "metadata": {},
          "output_type": "execute_result"
        }
      ],
      "source": [
        "p_value = stats.norm.sf(Z_cal)\n",
        "p_value"
      ]
    },
    {
      "cell_type": "markdown",
      "metadata": {
        "id": "IzcoD0hL8AQB"
      },
      "source": [
        "###   "
      ]
    },
    {
      "cell_type": "markdown",
      "metadata": {
        "id": "QIrBZzg28EEi"
      },
      "source": [
        "7.2 สุ่มตัวอย่างผลิตภัณฑ์ซักล้างยี่ห้อหนึ่งมาจำนวน 8 ชิ้นเพื่อวัดปริมาณสารพิษ พบว่าได้ปริมาณดังนี้ (10<sup>6</sup>ppm) 15, 8, 10, 13, 6, 16, 11, 18 จงทดสอบว่าปริมาณสารพิษของผลิตภัณฑ์ซักล้างยี่ห้อนี้มากกว่าหรือเท่ากับ (≥) 18x10<sup>6</sup>ppm ที่ระดับนัยสำคัญ 0.05 หรือไม่ หากกำหนดให้ปริมาณสารพิษชนิดนี้มีการแจกแจงแบบปกติ      "
      ]
    },
    {
      "cell_type": "code",
      "execution_count": 12,
      "metadata": {
        "id": "z7-tVncsuMB2"
      },
      "outputs": [
        {
          "name": "stdout",
          "output_type": "stream",
          "text": [
            "ยอมรับสมมติฐานรอง คือ สารพิษของผลิตภัณฑ์ซักล้างยี่ห้อนี้ < 18x10^6ppm tCal\n"
          ]
        }
      ],
      "source": [
        "x = [15, 8, 10, 13, 6, 16, 11, 18]\n",
        "sd = np.std(x, ddof=1)\n",
        "xBar = np.mean(x)\n",
        "\n",
        "tCal = (xBar - 18) / (sd / (np.sqrt(len(x))) )\n",
        "tCri = stats.t.ppf(0.05, df=len(x)-1)\n",
        "print(\"ยอมรับสมมติฐานรอง คือ สารพิษของผลิตภัณฑ์ซักล้างยี่ห้อนี้ < 18x10^6ppm tCal\" if tCal < tCri else ...)"
      ]
    },
    {
      "cell_type": "code",
      "execution_count": 14,
      "metadata": {},
      "outputs": [
        {
          "data": {
            "text/plain": [
              "TtestResult(statistic=-4.032335130364934, pvalue=0.0024905124764684917, df=7)"
            ]
          },
          "execution_count": 14,
          "metadata": {},
          "output_type": "execute_result"
        }
      ],
      "source": [
        "x = [15, 8, 10, 13, 6, 16, 11, 18]\n",
        "stats.ttest_1samp(a=x, popmean=18, alternative='less')"
      ]
    },
    {
      "cell_type": "markdown",
      "metadata": {
        "id": "NfuOc0DEX-mV"
      },
      "source": [
        "###   "
      ]
    },
    {
      "cell_type": "markdown",
      "metadata": {
        "id": "LRa6VC8dX-mc"
      },
      "source": [
        "7.3 ทำการ ping 158.108.216.5 จำนวน 10 ครั้ง ได้ระยะเวลาในหน่วย ms (milliseconds) ดังนี้ 28.2, 26.5, 30.7, 24.1, 25.3, 29.2, 21.6, 26.7, 23.4, 27.3 จงทดสอบว่าระยะเวลาที่ใช้ในการ ping โดยเฉลี่ยมีค่าเท่ากับ 26 ms หรือไม่ที่ระดับนัยสำคัญ 0.05 หากทราบมาว่าระยะเวลาที่ใช้ในการ ping มีการแจกแจงแบบปกติ"
      ]
    },
    {
      "cell_type": "code",
      "execution_count": 13,
      "metadata": {
        "id": "4SyUkxgouNU4"
      },
      "outputs": [
        {
          "name": "stdout",
          "output_type": "stream",
          "text": [
            "ยอมรับสมมติฐานหลัก คือ ping โดยเฉลี่ยมีค่า = 26 ms tCal = 0.34282294000695074, tCriR = 2.262157162740992, tCriL = -2.262157162740992\n"
          ]
        }
      ],
      "source": [
        "x = [28.2, 26.5, 30.7, 24.1, 25.3, 29.2, 21.6, 26.7, 23.4, 27.3]\n",
        "n = len(x)\n",
        "sd = np.std(x, ddof=1)\n",
        "xBar = np.mean(x)\n",
        "\n",
        "tCal = (xBar - 26) / ( sd / (np.sqrt(n)) )\n",
        "tCriL = stats.t.ppf(0.05/2, df=n-1)\n",
        "tCriR = stats.t.isf(0.05/2, df=n-1)\n",
        "\n",
        "print(f\"ยอมรับสมมติฐานหลัก คือ ping โดยเฉลี่ยมีค่า = 26 ms tCal = {tCal}, tCriR = {tCriR}, tCriL = {tCriL}\" if(tCal > tCriL and  tCal < tCriR) else ...)"
      ]
    },
    {
      "cell_type": "code",
      "execution_count": 15,
      "metadata": {},
      "outputs": [
        {
          "data": {
            "text/plain": [
              "TtestResult(statistic=0.3428229400069507, pvalue=0.7396027657579756, df=9)"
            ]
          },
          "execution_count": 15,
          "metadata": {},
          "output_type": "execute_result"
        }
      ],
      "source": [
        "x = [28.2, 26.5, 30.7, 24.1, 25.3, 29.2, 21.6, 26.7, 23.4, 27.3]\n",
        "\n",
        "stats.ttest_1samp(a=x, popmean=26, alternative='two-sided')"
      ]
    },
    {
      "cell_type": "markdown",
      "metadata": {
        "id": "2L30gP1ae_Du"
      },
      "source": [
        "###   "
      ]
    },
    {
      "cell_type": "markdown",
      "metadata": {
        "id": "jb1NBlWke_D2"
      },
      "source": [
        "7.4 ห้องปฏิบัติการ 2 แห่ง สุ่มตรวจสอบปริมาณนิโคตินในบุหรี่ยี่ห้อหนึ่งด้ผลการวิเคราะห์ปริมาณนิโคติน (มิลลิกรัม) ดังนี้  \n",
        "ห้องปฏิบัติการ1: 56, 37, 61, 56, 65, 41, 63, 50, 42   \n",
        "ห้องปฏิบัติการ2: 46, 25, 46, 64, 34, 56   \n",
        "จงทดสอบสมมติฐานว่าปริมาณนิโคตินที่วิเคราะห์ได้โดยห้องปฏิบัติการสองแห่งนี้ไม่แตกต่างกัน\n",
        "ที่ระดับนัยสำคัญ 0.10 หากกำหนดให้ปริมาณนิโคตินในบุหรี่ที่วิเคราะห์ได้โดยห้องปฏิบัติการทั้งสองมีการ\n",
        "แจกแจงแบบปกติที่มีค่าความแปรปรวนเท่ากัน  "
      ]
    },
    {
      "cell_type": "code",
      "execution_count": 14,
      "metadata": {
        "id": "r4oVfpk9uTVG"
      },
      "outputs": [
        {
          "name": "stdout",
          "output_type": "stream",
          "text": [
            "ยอมรับสมมติฐานหลัก คือ ปริมาณนิโคตินที่วิเคราะห์ได้โดยห้องปฏิบัติการสองแห่งนี้ไม่แตกต่างกัน pVal = 0.2757530487532558 Alpha = 0.1\n"
          ]
        }
      ],
      "source": [
        "A = [56, 37, 61, 56, 65, 41, 63, 50, 42]\n",
        "B = [46, 25, 46, 64, 34, 56]\n",
        "nA = len(A)\n",
        "nB = len(B)\n",
        "alpha = 0.10\n",
        "xBarA = np.mean(A)\n",
        "xBarB = np.mean(B)\n",
        "varA = np.var(A, ddof=1) #ส่วนเบี่ยงเบนมาตรฐาน (Variance)\n",
        "varB= np.var(B, ddof=1)\n",
        "s2p = ( (nA-1)*varA + (nB-1)*varB ) / ( nA + nB - 2 )\n",
        "\n",
        "tCal = ( (xBarA - xBarB) - (0) ) / np.sqrt( s2p*( (1/nA) + (1/nB) ) ) #mu1 - mu2 = 0 สองแห่งนี้ไม่แตกต่างกัน\n",
        "tCriL = stats.t.ppf(alpha/2, df=nA+nB-2)\n",
        "tCriR = stats.t.isf(alpha/2, df=nA+nB-2)\n",
        "pVal = 2*stats.t.sf(abs(tCal), df=nA+nB-2)\n",
        "print(f\"ยอมรับสมมติฐานหลัก คือ ปริมาณนิโคตินที่วิเคราะห์ได้โดยห้องปฏิบัติการสองแห่งนี้ไม่แตกต่างกัน pVal = {pVal} Alpha = {alpha}\" if(pVal > alpha) else ...)"
      ]
    },
    {
      "cell_type": "code",
      "execution_count": 17,
      "metadata": {},
      "outputs": [
        {
          "data": {
            "text/plain": [
              "Ttest_indResult(statistic=1.1377678816988284, pvalue=0.2757530487532558)"
            ]
          },
          "execution_count": 17,
          "metadata": {},
          "output_type": "execute_result"
        }
      ],
      "source": [
        "A = [56, 37, 61, 56, 65, 41, 63, 50, 42]\n",
        "B = [46, 25, 46, 64, 34, 56]\n",
        "stats.ttest_ind(a=A, b=B, equal_var=True, alternative='two-sided')"
      ]
    },
    {
      "cell_type": "markdown",
      "metadata": {
        "id": "HV7pSFLVjP8J"
      },
      "source": [
        "###   "
      ]
    },
    {
      "cell_type": "markdown",
      "metadata": {
        "id": "9IshON3wjP8J"
      },
      "source": [
        "7.5 เครื่องใช้พลาสติกชนิดหนึ่ง ผลิตโดยกระบวนการผลิตแตกต่างกัน 2 วิธี คือ A และ B ต้องการตรวจสอบความ\n",
        "เหนียวของพลาสติกที่ผลิตได้โดยทั้งสองกระบวนการนี้ว่าแตกต่างกันหรือไม่ จึงสุ่มตัวอย่าง\n",
        "ผลิตภัณฑ์จากกระบวนการผลิต A มา 30 ชิ้น ทดสอบและคำนวณค่าความเหนียวเฉลี่ยได้เป็น\n",
        "28.3 ส่วนเบี่ยงเบนมาตรฐาน 3.3 เมื่อสุ่มผลิตภัณฑ์จากกระบวนการผลิต B 40 ชิ้น คำนวณค่าความเหนียวเฉลี่ยได้เป็น 26.7 ส่วนเบี่ยงเบนมาตรฐานเป็น 4.9 หากการทดสอบโดยใช้ระดับนัยสำคัญ 0.05  "
      ]
    },
    {
      "cell_type": "code",
      "execution_count": 16,
      "metadata": {
        "id": "HA_rpEPNuUdd"
      },
      "outputs": [
        {
          "name": "stdout",
          "output_type": "stream",
          "text": [
            "ยอมรับสมมติฐานรอง คือ ความเหนียวของพลาสติกที่ผลิตได้โดยทั้งสองกระบวนการนี้แตกต่างกัน pVal = 0.0009058485425290886 Alpha = 0.05\n"
          ]
        }
      ],
      "source": [
        "nA = 30\n",
        "xBarA = 28.3\n",
        "varA = 3.3 #ส่วนเบี่ยงเบนมาตรฐาน (Variance)\n",
        "nB = 40\n",
        "xBarB = 26.7\n",
        "varB = 4.9\n",
        "alpha = 0.05\n",
        "\n",
        "zCal = ( (xBarA - xBarB) - (0) ) / np.sqrt( (varA/nA) + (varB/nB) ) #mu1 - mu2 = 0 สองแห่งนี้ไม่แตกต่างกัน\n",
        "zCriL = stats.norm.ppf(alpha/2)\n",
        "zCriR = stats.norm.isf(alpha/2)\n",
        "\n",
        "pVal = 2*stats.norm.sf(abs(zCal))\n",
        "\n",
        "print(f\"ยอมรับสมมติฐานรอง คือ ความเหนียวของพลาสติกที่ผลิตได้โดยทั้งสองกระบวนการนี้แตกต่างกัน pVal = {pVal} Alpha = {alpha}\" if(pVal < alpha) else ...)"
      ]
    },
    {
      "cell_type": "code",
      "execution_count": 19,
      "metadata": {},
      "outputs": [
        {
          "data": {
            "text/plain": [
              "1.6302359794089838"
            ]
          },
          "execution_count": 19,
          "metadata": {},
          "output_type": "execute_result"
        }
      ],
      "source": [
        "z_cal = ((28.3 - 26.7))/np.sqrt((3.3**2/30)+(4.9**2/40))\n",
        "z_cal"
      ]
    },
    {
      "cell_type": "code",
      "execution_count": 20,
      "metadata": {},
      "outputs": [
        {
          "name": "stdout",
          "output_type": "stream",
          "text": [
            "-1.9599639845400545 1.9599639845400545\n"
          ]
        }
      ],
      "source": [
        "z_crit_left = stats.norm.ppf(0.05/2)\n",
        "z_crit_right = stats.norm.isf(0.05/2)\n",
        "print(z_crit_left, z_crit_right)"
      ]
    },
    {
      "cell_type": "code",
      "execution_count": 21,
      "metadata": {},
      "outputs": [
        {
          "data": {
            "text/plain": [
              "0.10305163240311598"
            ]
          },
          "execution_count": 21,
          "metadata": {},
          "output_type": "execute_result"
        }
      ],
      "source": [
        "p_val = 2*stats.norm.sf(abs(z_cal))\n",
        "p_val"
      ]
    },
    {
      "cell_type": "code",
      "execution_count": null,
      "metadata": {},
      "outputs": [],
      "source": []
    }
  ],
  "metadata": {
    "colab": {
      "provenance": []
    },
    "kernelspec": {
      "display_name": "Python 3",
      "language": "python",
      "name": "python3"
    },
    "language_info": {
      "codemirror_mode": {
        "name": "ipython",
        "version": 3
      },
      "file_extension": ".py",
      "mimetype": "text/x-python",
      "name": "python",
      "nbconvert_exporter": "python",
      "pygments_lexer": "ipython3",
      "version": "3.10.6"
    },
    "vscode": {
      "interpreter": {
        "hash": "916dbcbb3f70747c44a77c7bcd40155683ae19c65e1c03b4aa3499c5328201f1"
      }
    }
  },
  "nbformat": 4,
  "nbformat_minor": 0
}
