{
 "cells": [
  {
   "cell_type": "markdown",
   "id": "2484fb9e-8a71-45ce-a278-b3b6f6b41adc",
   "metadata": {
    "id": "2484fb9e-8a71-45ce-a278-b3b6f6b41adc"
   },
   "source": [
    "# <span style=\"color:#DE1509\">List</span>\n",
    "##   \n",
    "#### <span style=\"color:#2e9c14\"><i>What Is a List?</i></span>\n",
    "\n",
    "A list is a collection of items in a particular order. You can make a list that includes the letters of the alphabet, the digits from 0–9, or the names of all the people in your family. You can put anything you want into a list, and the items in your list don’t have to be related in any particular way. Because a list usually contains more than one element, it’s a good idea to make the name of your list plural, such as letters, digits, or names.\n",
    "\n",
    "In Python, square brackets ([ ]) indicate a list, and individual elements in the list are separated by commas. Here’s a simple example of a list that contains a few kinds of fruits:"
   ]
  },
  {
   "cell_type": "code",
   "execution_count": 1,
   "id": "141dbc8d-a02c-4f44-9dd0-9d1e49887ad4",
   "metadata": {
    "executionInfo": {
     "elapsed": 586,
     "status": "ok",
     "timestamp": 1670155595109,
     "user": {
      "displayName": "Thammakorn SAETHANG",
      "userId": "08182570455347153646"
     },
     "user_tz": -420
    },
    "id": "141dbc8d-a02c-4f44-9dd0-9d1e49887ad4"
   },
   "outputs": [],
   "source": [
    "fruits = [\"apple\", \"banana\", \"orange\", \"mango\"]"
   ]
  },
  {
   "cell_type": "markdown",
   "id": "e6ea60ec-9c32-4ef0-9bc4-292638d1735e",
   "metadata": {
    "id": "e6ea60ec-9c32-4ef0-9bc4-292638d1735e"
   },
   "source": [
    "When print  a list, Python returns its representation of the list, including the square brackets"
   ]
  },
  {
   "cell_type": "code",
   "execution_count": 2,
   "id": "9b0cb2b4-c873-4b33-8f17-97776302033e",
   "metadata": {
    "colab": {
     "base_uri": "https://localhost:8080/"
    },
    "executionInfo": {
     "elapsed": 2,
     "status": "ok",
     "timestamp": 1670155596867,
     "user": {
      "displayName": "Thammakorn SAETHANG",
      "userId": "08182570455347153646"
     },
     "user_tz": -420
    },
    "id": "9b0cb2b4-c873-4b33-8f17-97776302033e",
    "outputId": "f1d4ad2c-ee1b-4be5-8f43-8860cb18bb3c"
   },
   "outputs": [
    {
     "name": "stdout",
     "output_type": "stream",
     "text": [
      "['apple', 'banana', 'orange', 'mango']\n"
     ]
    }
   ],
   "source": [
    "print(fruits)"
   ]
  },
  {
   "cell_type": "code",
   "execution_count": 3,
   "id": "7388231d-1c83-4aef-abb4-c1ac26a3d36b",
   "metadata": {
    "colab": {
     "base_uri": "https://localhost:8080/"
    },
    "executionInfo": {
     "elapsed": 719,
     "status": "ok",
     "timestamp": 1670155624193,
     "user": {
      "displayName": "Thammakorn SAETHANG",
      "userId": "08182570455347153646"
     },
     "user_tz": -420
    },
    "id": "7388231d-1c83-4aef-abb4-c1ac26a3d36b",
    "outputId": "c796634e-cf86-4dc7-d4cc-266936f179d6"
   },
   "outputs": [
    {
     "data": {
      "text/plain": [
       "list"
      ]
     },
     "execution_count": 3,
     "metadata": {},
     "output_type": "execute_result"
    }
   ],
   "source": [
    "type(fruits)"
   ]
  },
  {
   "cell_type": "code",
   "execution_count": 4,
   "id": "aac5f699-bd9e-415b-b7e3-a680811ac483",
   "metadata": {
    "colab": {
     "base_uri": "https://localhost:8080/"
    },
    "executionInfo": {
     "elapsed": 2,
     "status": "ok",
     "timestamp": 1670155496596,
     "user": {
      "displayName": "Thammakorn SAETHANG",
      "userId": "08182570455347153646"
     },
     "user_tz": -420
    },
    "id": "aac5f699-bd9e-415b-b7e3-a680811ac483",
    "outputId": "3cfc973f-a9c4-472a-c666-ec3f587a0b31"
   },
   "outputs": [
    {
     "name": "stdout",
     "output_type": "stream",
     "text": [
      "[12, 45, 60, 25, 31]\n"
     ]
    }
   ],
   "source": [
    "ages = [12, 45, 60, 25, 31]\n",
    "print(ages)"
   ]
  },
  {
   "cell_type": "code",
   "execution_count": 5,
   "id": "E_-k_-gOA847",
   "metadata": {
    "executionInfo": {
     "elapsed": 474,
     "status": "ok",
     "timestamp": 1670155424033,
     "user": {
      "displayName": "Thammakorn SAETHANG",
      "userId": "08182570455347153646"
     },
     "user_tz": -420
    },
    "id": "E_-k_-gOA847"
   },
   "outputs": [],
   "source": [
    "values = ['a', 1, 0.1, sum, [1,2,3]]"
   ]
  },
  {
   "cell_type": "code",
   "execution_count": 6,
   "id": "Xsv6cA-7BRU0",
   "metadata": {
    "colab": {
     "base_uri": "https://localhost:8080/"
    },
    "executionInfo": {
     "elapsed": 692,
     "status": "ok",
     "timestamp": 1670155478458,
     "user": {
      "displayName": "Thammakorn SAETHANG",
      "userId": "08182570455347153646"
     },
     "user_tz": -420
    },
    "id": "Xsv6cA-7BRU0",
    "outputId": "3141bcd6-0ebf-4a71-81dc-2a571777462e"
   },
   "outputs": [
    {
     "data": {
      "text/plain": [
       "[str, int, float, builtin_function_or_method, list]"
      ]
     },
     "execution_count": 6,
     "metadata": {},
     "output_type": "execute_result"
    }
   ],
   "source": [
    "[type(i) for i in values]"
   ]
  },
  {
   "cell_type": "markdown",
   "id": "ab83d1d5-985e-46d8-8be3-b9014bfe4401",
   "metadata": {
    "id": "ab83d1d5-985e-46d8-8be3-b9014bfe4401"
   },
   "source": [
    "###   \n",
    "#### <span style=\"color:#2e9c14\"><i>Accessing Elements in a List</i></span>\n",
    "\n",
    "Lists are ordered collections, so you can access any element in a list by telling Python the position, or <u>index</u>, of the item desired. \n",
    "\n",
    "To access an element in a list, write the name of the list followed by the <u>index</u> of the item enclosed in square brackets."
   ]
  },
  {
   "cell_type": "code",
   "execution_count": 7,
   "id": "31bae915-1e91-4fa0-b704-46b394d40e37",
   "metadata": {
    "colab": {
     "base_uri": "https://localhost:8080/"
    },
    "executionInfo": {
     "elapsed": 486,
     "status": "ok",
     "timestamp": 1669028038679,
     "user": {
      "displayName": "Thammakorn SAETHANG",
      "userId": "08182570455347153646"
     },
     "user_tz": -420
    },
    "id": "31bae915-1e91-4fa0-b704-46b394d40e37",
    "outputId": "74092f96-bff8-496b-9a9e-6bc2cabb1534"
   },
   "outputs": [
    {
     "name": "stdout",
     "output_type": "stream",
     "text": [
      "12\n",
      "45\n"
     ]
    }
   ],
   "source": [
    "print(ages[0])  #12\n",
    "print(ages[1])  #45"
   ]
  },
  {
   "cell_type": "code",
   "execution_count": 8,
   "id": "2cebcdae-496b-4dd2-96e8-2ca1ccd1678b",
   "metadata": {
    "colab": {
     "base_uri": "https://localhost:8080/"
    },
    "executionInfo": {
     "elapsed": 5,
     "status": "ok",
     "timestamp": 1669028065195,
     "user": {
      "displayName": "Thammakorn SAETHANG",
      "userId": "08182570455347153646"
     },
     "user_tz": -420
    },
    "id": "2cebcdae-496b-4dd2-96e8-2ca1ccd1678b",
    "outputId": "b83f0dbe-b537-423d-8250-adee19f4f2fa"
   },
   "outputs": [
    {
     "name": "stdout",
     "output_type": "stream",
     "text": [
      "I love to eat apple\n"
     ]
    }
   ],
   "source": [
    "message = f\"I love to eat {fruits[0]}\"\n",
    "print(message)"
   ]
  },
  {
   "cell_type": "code",
   "execution_count": 9,
   "id": "6b5e9abf-0457-4fcb-8d2a-ad3530f76783",
   "metadata": {
    "colab": {
     "base_uri": "https://localhost:8080/"
    },
    "executionInfo": {
     "elapsed": 3,
     "status": "ok",
     "timestamp": 1669028070246,
     "user": {
      "displayName": "Thammakorn SAETHANG",
      "userId": "08182570455347153646"
     },
     "user_tz": -420
    },
    "id": "6b5e9abf-0457-4fcb-8d2a-ad3530f76783",
    "outputId": "4fee0eb2-52b5-4eab-d696-97aa930fffcf"
   },
   "outputs": [
    {
     "name": "stdout",
     "output_type": "stream",
     "text": [
      "I love to eat MANGO\n"
     ]
    }
   ],
   "source": [
    "message = f\"I love to eat {fruits[3].upper()}\"  #use function upper() on an element of a list\n",
    "print(message)"
   ]
  },
  {
   "cell_type": "markdown",
   "id": "a8ae3cc9-fe9f-45d7-a59b-e14f0b543305",
   "metadata": {
    "id": "a8ae3cc9-fe9f-45d7-a59b-e14f0b543305",
    "tags": []
   },
   "source": [
    "####  \n",
    "##### <span style=\"color:#029DA3\"><u>Index Positions Start at 0, Not 1</u></span>"
   ]
  },
  {
   "cell_type": "markdown",
   "id": "be77dc87-a027-420d-8c82-d0ffada0cb17",
   "metadata": {
    "id": "be77dc87-a027-420d-8c82-d0ffada0cb17"
   },
   "source": [
    "Python considers the first item in a list to be at position 0, not position 1. This is true of most programming languages, and the reason has to do with how the list operations are implemented at a lower level. If you’re receiving unexpected results, determine whether you are making a simple off-by-one error.\n",
    "\n",
    "The second item in a list has an index of 1. Using this counting system, you can get any element you want from a list by subtracting one from its position in the list. For instance, to access the fourth item in a list, you request the item at index 3."
   ]
  },
  {
   "cell_type": "code",
   "execution_count": 10,
   "id": "ed648194-987f-429b-9951-40d0816f4b5e",
   "metadata": {
    "colab": {
     "base_uri": "https://localhost:8080/"
    },
    "executionInfo": {
     "elapsed": 4,
     "status": "ok",
     "timestamp": 1670155917265,
     "user": {
      "displayName": "Thammakorn SAETHANG",
      "userId": "08182570455347153646"
     },
     "user_tz": -420
    },
    "id": "ed648194-987f-429b-9951-40d0816f4b5e",
    "outputId": "e2f9d99a-62d7-492a-c24a-3f3825afe035"
   },
   "outputs": [
    {
     "name": "stdout",
     "output_type": "stream",
     "text": [
      "banana\n",
      "mango\n"
     ]
    }
   ],
   "source": [
    "fruits = [\"apple\", \"banana\", \"orange\", \"mango\"]\n",
    "print(fruits[1])\n",
    "print(fruits[3])"
   ]
  },
  {
   "cell_type": "code",
   "execution_count": 11,
   "id": "bd23c858-b471-433e-ae64-ae3f5f5e49ac",
   "metadata": {
    "colab": {
     "base_uri": "https://localhost:8080/"
    },
    "executionInfo": {
     "elapsed": 2,
     "status": "ok",
     "timestamp": 1670155919325,
     "user": {
      "displayName": "Thammakorn SAETHANG",
      "userId": "08182570455347153646"
     },
     "user_tz": -420
    },
    "id": "bd23c858-b471-433e-ae64-ae3f5f5e49ac",
    "outputId": "5a83f657-46e9-4cef-8b15-0a220e6d4919",
    "tags": []
   },
   "outputs": [
    {
     "data": {
      "text/plain": [
       "4"
      ]
     },
     "execution_count": 11,
     "metadata": {},
     "output_type": "execute_result"
    }
   ],
   "source": [
    "len(fruits)"
   ]
  },
  {
   "cell_type": "code",
   "execution_count": 12,
   "id": "78319638-9110-4d48-a55c-bb7dc9020fb5",
   "metadata": {
    "colab": {
     "base_uri": "https://localhost:8080/"
    },
    "executionInfo": {
     "elapsed": 2,
     "status": "ok",
     "timestamp": 1670155921276,
     "user": {
      "displayName": "Thammakorn SAETHANG",
      "userId": "08182570455347153646"
     },
     "user_tz": -420
    },
    "id": "78319638-9110-4d48-a55c-bb7dc9020fb5",
    "outputId": "a8d3f94b-b314-491e-e869-4979e9937a95"
   },
   "outputs": [
    {
     "name": "stdout",
     "output_type": "stream",
     "text": [
      "apple\n",
      "mango\n"
     ]
    }
   ],
   "source": [
    "print(fruits[0])\n",
    "print(fruits[3])"
   ]
  },
  {
   "cell_type": "markdown",
   "id": "08aa5c90-ce5b-4a19-a486-b0849347482b",
   "metadata": {
    "id": "08aa5c90-ce5b-4a19-a486-b0849347482b"
   },
   "source": [
    "\\\n",
    "At index -1, Python always returns the last item in the list.\n",
    "\n",
    "The index -2 returns the second item from the end of the list, the index -3 returns the third item from the end, and so forth.\n"
   ]
  },
  {
   "cell_type": "code",
   "execution_count": 13,
   "id": "4b922ee6-7642-43f9-acbe-729d020ddfbf",
   "metadata": {
    "colab": {
     "base_uri": "https://localhost:8080/"
    },
    "executionInfo": {
     "elapsed": 2,
     "status": "ok",
     "timestamp": 1670155925555,
     "user": {
      "displayName": "Thammakorn SAETHANG",
      "userId": "08182570455347153646"
     },
     "user_tz": -420
    },
    "id": "4b922ee6-7642-43f9-acbe-729d020ddfbf",
    "outputId": "d3289d8e-21df-468f-b68e-063eb43f6c9b"
   },
   "outputs": [
    {
     "name": "stdout",
     "output_type": "stream",
     "text": [
      "mango\n",
      "orange\n",
      "banana\n"
     ]
    }
   ],
   "source": [
    "print(fruits[-1])\n",
    "print(fruits[-2])\n",
    "print(fruits[-3])"
   ]
  },
  {
   "cell_type": "markdown",
   "id": "7e58201d-9d61-4994-b94f-4707a60ca832",
   "metadata": {
    "id": "7e58201d-9d61-4994-b94f-4707a60ca832"
   },
   "source": [
    "##  \n",
    "#### <span style=\"color:#2e9c14\"><i>Modifying Elements in a List</i></span>\n",
    "The syntax for modifying an element is similar to the syntax for accessing an element in a list. To change an element, use the name of the list followed by the index of the element you want to change, and then provide the new value you want that item to have.\n"
   ]
  },
  {
   "cell_type": "code",
   "execution_count": 14,
   "id": "c6ac29d2-baa0-42e4-88b2-6c42bd656b60",
   "metadata": {
    "colab": {
     "base_uri": "https://localhost:8080/"
    },
    "executionInfo": {
     "elapsed": 563,
     "status": "ok",
     "timestamp": 1670155942348,
     "user": {
      "displayName": "Thammakorn SAETHANG",
      "userId": "08182570455347153646"
     },
     "user_tz": -420
    },
    "id": "c6ac29d2-baa0-42e4-88b2-6c42bd656b60",
    "outputId": "5baa5554-4a8d-4042-e7f2-868b6cabd0e6"
   },
   "outputs": [
    {
     "name": "stdout",
     "output_type": "stream",
     "text": [
      "['apricot', 'banana', 'orange', 'mango']\n"
     ]
    }
   ],
   "source": [
    "fruits = [\"apple\", \"banana\", \"orange\", \"mango\"]\n",
    "fruits[0] = \"apricot\"\n",
    "print(fruits)"
   ]
  },
  {
   "cell_type": "markdown",
   "id": "a9366d3d-0f25-4a34-a524-2fc7e015c6c7",
   "metadata": {
    "id": "a9366d3d-0f25-4a34-a524-2fc7e015c6c7"
   },
   "source": [
    "##  \n",
    "#### <span style=\"color:#2e9c14\"><i>Adding Elements to a List</i></span>\n",
    "- <span style=\"color:#029DA3\">Appending Elements to the End of a List</span>\n",
    ">The simplest way to add a new element to a list is to append the item to the list. When you append an item to a list, the new element is added to the end of the list."
   ]
  },
  {
   "cell_type": "code",
   "execution_count": 15,
   "id": "1f9d30b5-27cb-4324-a945-d1b6ea27ef93",
   "metadata": {
    "colab": {
     "base_uri": "https://localhost:8080/"
    },
    "executionInfo": {
     "elapsed": 3,
     "status": "ok",
     "timestamp": 1670155955559,
     "user": {
      "displayName": "Thammakorn SAETHANG",
      "userId": "08182570455347153646"
     },
     "user_tz": -420
    },
    "id": "1f9d30b5-27cb-4324-a945-d1b6ea27ef93",
    "outputId": "3c14632b-91cb-4b1a-b486-c48197f1132f"
   },
   "outputs": [
    {
     "name": "stdout",
     "output_type": "stream",
     "text": [
      "['apricot', 'banana', 'orange', 'mango', 'pear']\n"
     ]
    }
   ],
   "source": [
    "fruits.append(\"pear\")\n",
    "print(fruits)"
   ]
  },
  {
   "cell_type": "markdown",
   "id": "e8ea7a3a-768e-483f-b8ac-75f6263e5552",
   "metadata": {
    "id": "e8ea7a3a-768e-483f-b8ac-75f6263e5552",
    "tags": []
   },
   "source": [
    ">The append() method makes it easy to build lists dynamically. For example, you can start with an empty list and then add items to the list using a series of append() calls. "
   ]
  },
  {
   "cell_type": "code",
   "execution_count": 16,
   "id": "eb0c8871-8027-4f29-b8a9-1c7dfca9fa85",
   "metadata": {
    "id": "eb0c8871-8027-4f29-b8a9-1c7dfca9fa85",
    "outputId": "9bf68082-60b7-4b9f-9c14-c87000a197e3"
   },
   "outputs": [
    {
     "name": "stdout",
     "output_type": "stream",
     "text": [
      "['apple', 'banana', 'orange', 'mango']\n"
     ]
    }
   ],
   "source": [
    "fruits = []  #empty list\n",
    "\n",
    "fruits.append(\"apple\")\n",
    "fruits.append(\"banana\")\n",
    "fruits.append(\"orange\")\n",
    "fruits.append(\"mango\")\n",
    "\n",
    "print(fruits)"
   ]
  },
  {
   "cell_type": "markdown",
   "id": "2df37f2d-d57e-48ce-8cfa-b7a6aeef41a7",
   "metadata": {
    "id": "2df37f2d-d57e-48ce-8cfa-b7a6aeef41a7",
    "tags": []
   },
   "source": [
    ">Building lists this way is very common, because you often won’t know the data your users want to store in a program until after the program is running. To put your users in control, start by defining an empty list that will hold the users’ values. Then append each new value provided to the list you just created."
   ]
  },
  {
   "cell_type": "markdown",
   "id": "d21ed405-0791-4414-a7e7-2248d4713002",
   "metadata": {
    "id": "d21ed405-0791-4414-a7e7-2248d4713002"
   },
   "source": [
    "####   \n",
    "- <span style=\"color:#029DA3\">Inserting Elements into a List</span>\n",
    ">You can add a new element at any position in your list by using the insert() method. You do this by specifying the index of the new element and the value of the new item."
   ]
  },
  {
   "cell_type": "code",
   "execution_count": 17,
   "id": "4357db3c-2760-4b02-816d-1594d360b8e2",
   "metadata": {
    "colab": {
     "base_uri": "https://localhost:8080/"
    },
    "executionInfo": {
     "elapsed": 515,
     "status": "ok",
     "timestamp": 1670155990990,
     "user": {
      "displayName": "Thammakorn SAETHANG",
      "userId": "08182570455347153646"
     },
     "user_tz": -420
    },
    "id": "4357db3c-2760-4b02-816d-1594d360b8e2",
    "outputId": "947be0d5-caa2-436b-ede7-0d6483904c45"
   },
   "outputs": [
    {
     "name": "stdout",
     "output_type": "stream",
     "text": [
      "['apple', 'apricot', 'banana', 'orange', 'mango']\n"
     ]
    }
   ],
   "source": [
    "fruits = [\"apple\", \"banana\", \"orange\", \"mango\"]\n",
    "fruits.insert(1, \"apricot\")  # insert \"apricot\" at index 1\n",
    "print(fruits)"
   ]
  },
  {
   "cell_type": "code",
   "execution_count": 18,
   "id": "aaa75342-af49-427c-9eee-3e93ab5050d2",
   "metadata": {
    "colab": {
     "base_uri": "https://localhost:8080/"
    },
    "executionInfo": {
     "elapsed": 4,
     "status": "ok",
     "timestamp": 1670155991474,
     "user": {
      "displayName": "Thammakorn SAETHANG",
      "userId": "08182570455347153646"
     },
     "user_tz": -420
    },
    "id": "aaa75342-af49-427c-9eee-3e93ab5050d2",
    "outputId": "b1963a69-882a-4e40-87f6-d7d777cce06c"
   },
   "outputs": [
    {
     "name": "stdout",
     "output_type": "stream",
     "text": [
      "['acerola', 'apple', 'apricot', 'banana', 'orange', 'mango']\n"
     ]
    }
   ],
   "source": [
    "fruits.insert(0, \"acerola\")\n",
    "print(fruits)"
   ]
  },
  {
   "cell_type": "markdown",
   "id": "29c6dc95-db22-41ec-9cb9-fce3a7ad9720",
   "metadata": {
    "id": "29c6dc95-db22-41ec-9cb9-fce3a7ad9720"
   },
   "source": [
    "####  \n",
    "- <span style=\"color:#029DA3\">Removing an Item Using the del and pop Statement</span>\n",
    "\n",
    "        If you know the position of the item you want to remove from a list, you can use the del statement."
   ]
  },
  {
   "cell_type": "code",
   "execution_count": 19,
   "id": "4f312649-1bca-43e0-ac2e-290489165b2f",
   "metadata": {
    "id": "4f312649-1bca-43e0-ac2e-290489165b2f",
    "outputId": "de42ac49-29d6-4584-a156-c9376374b124",
    "tags": []
   },
   "outputs": [
    {
     "name": "stdout",
     "output_type": "stream",
     "text": [
      "['apple', 'banana', 'mango']\n"
     ]
    }
   ],
   "source": [
    "fruits = [\"apple\", \"banana\", \"orange\", \"mango\"]\n",
    "del fruits[2]  #remove orange\n",
    "print(fruits)"
   ]
  },
  {
   "cell_type": "markdown",
   "id": "fb34ae48-b79c-4573-a569-c7fce3c294f2",
   "metadata": {
    "id": "fb34ae48-b79c-4573-a569-c7fce3c294f2"
   },
   "source": [
    ">The pop() method removes the last item in a list, but it lets you work with that item after removing it. The term pop comes from thinking of a list as a stack of items and popping one item off the top of the stack. In this analogy, the top of a stack corresponds to the end of a list."
   ]
  },
  {
   "cell_type": "code",
   "execution_count": 20,
   "id": "031a81af-00db-4c18-ab29-aef0e9f0f4e2",
   "metadata": {
    "id": "031a81af-00db-4c18-ab29-aef0e9f0f4e2",
    "outputId": "345ca455-4173-4d88-abd3-4606596518ac"
   },
   "outputs": [
    {
     "name": "stdout",
     "output_type": "stream",
     "text": [
      "['apple', 'banana', 'orange']\n",
      "mango\n"
     ]
    }
   ],
   "source": [
    "fruits = [\"apple\", \"banana\", \"orange\", \"mango\"]\n",
    "popped_fruit = fruits.pop()\n",
    "\n",
    "print(fruits)\n",
    "print(popped_fruit)"
   ]
  },
  {
   "cell_type": "markdown",
   "id": "4653515b-ec0b-4ee2-888f-1442bb4ca2bb",
   "metadata": {
    "id": "4653515b-ec0b-4ee2-888f-1442bb4ca2bb"
   },
   "source": [
    ">You can use pop() to remove an item from any position in a list by including the index of the item you want to remove in parentheses."
   ]
  },
  {
   "cell_type": "code",
   "execution_count": 21,
   "id": "6a93824d-1b0a-4169-adbf-2584657a86ef",
   "metadata": {
    "id": "6a93824d-1b0a-4169-adbf-2584657a86ef",
    "outputId": "0afce82d-3933-4d21-fc67-e0d983a56180"
   },
   "outputs": [
    {
     "name": "stdout",
     "output_type": "stream",
     "text": [
      "['apple', 'orange', 'mango']\n",
      "banana\n"
     ]
    }
   ],
   "source": [
    "fruits = [\"apple\", \"banana\", \"orange\", \"mango\"]\n",
    "popped_fruit = fruits.pop(1)\n",
    "print(fruits)\n",
    "print(popped_fruit)"
   ]
  },
  {
   "cell_type": "markdown",
   "id": "c619974a-bd35-4d1e-935b-40f51df56b40",
   "metadata": {
    "id": "c619974a-bd35-4d1e-935b-40f51df56b40"
   },
   "source": [
    ">If you’re unsure whether to use the del statement or the pop() method, here’s a simple way to decide: when you want to delete an item from a list and not use that item in any way, use the del statement; if you want to use an item as you remove it, use the pop() method."
   ]
  },
  {
   "cell_type": "markdown",
   "id": "21523b81-7564-42d4-b68d-4b9e7e24c6f0",
   "metadata": {
    "id": "21523b81-7564-42d4-b68d-4b9e7e24c6f0"
   },
   "source": [
    "####  \n",
    "- <span style=\"color:#029DA3\">Removing an Item by Value</span>\n",
    ">Sometimes you won’t know the position of the value you want to remove from a list. If you only know the value of the item you want to remove, you can use the remove() method."
   ]
  },
  {
   "cell_type": "code",
   "execution_count": 22,
   "id": "59d201f4-1167-4bee-a0cb-2d6afe58372c",
   "metadata": {
    "id": "59d201f4-1167-4bee-a0cb-2d6afe58372c",
    "outputId": "14b3b100-c14e-4850-936d-ab48e6064c7b"
   },
   "outputs": [
    {
     "name": "stdout",
     "output_type": "stream",
     "text": [
      "['apple', 'banana', 'mango']\n"
     ]
    }
   ],
   "source": [
    "fruits = [\"apple\", \"banana\", \"orange\", \"mango\"]\n",
    "fruits.remove(\"orange\")\n",
    "print(fruits)"
   ]
  },
  {
   "cell_type": "markdown",
   "id": "ea3f2506-1279-4984-a066-74dfc7d2feb0",
   "metadata": {
    "id": "ea3f2506-1279-4984-a066-74dfc7d2feb0"
   },
   "source": [
    ">You can also use the remove() method to work with a value that’s being removed from a list."
   ]
  },
  {
   "cell_type": "code",
   "execution_count": 23,
   "id": "f6276a8c-6a05-467f-adb3-625a07a6a474",
   "metadata": {
    "id": "f6276a8c-6a05-467f-adb3-625a07a6a474",
    "outputId": "d8a35cf4-6491-4ef4-dca7-4986374ef5e4"
   },
   "outputs": [
    {
     "name": "stdout",
     "output_type": "stream",
     "text": [
      "['apple', 'orange', 'mango']\n"
     ]
    }
   ],
   "source": [
    "fruits = [\"apple\", \"banana\", \"orange\", \"mango\"]\n",
    "banned_fruit = \"banana\"\n",
    "\n",
    "fruits.remove(banned_fruit)\n",
    "print(fruits)"
   ]
  },
  {
   "cell_type": "markdown",
   "id": "9d9cfe8f-2696-4980-8de0-2c9190c2465c",
   "metadata": {
    "id": "9d9cfe8f-2696-4980-8de0-2c9190c2465c"
   },
   "source": [
    ">The remove() method deletes only the first occurrence of the value you specify. If there’s a possibility the value appears more than once in the list, you’ll need to use a lambda / loop to make sure all occurrences of the value are removed."
   ]
  },
  {
   "cell_type": "code",
   "execution_count": 24,
   "id": "0191f8b6-a3e2-4c9e-9fd2-689f2d56a595",
   "metadata": {
    "id": "0191f8b6-a3e2-4c9e-9fd2-689f2d56a595",
    "outputId": "1c432ccd-2225-4200-8e73-38841bfe7bd9"
   },
   "outputs": [
    {
     "name": "stdout",
     "output_type": "stream",
     "text": [
      "['apple', 'banana', 'orange', 'mango']\n"
     ]
    }
   ],
   "source": [
    "fruits = [\"apple\", \"banana\", \"banana\", \"orange\", \"mango\"]  #there are 2 bananas\n",
    "banned_fruit = \"banana\"\n",
    "\n",
    "fruits.remove(banned_fruit)\n",
    "print(fruits)"
   ]
  },
  {
   "cell_type": "code",
   "execution_count": 25,
   "id": "c36eddeb-d827-4b61-a459-5e1593f28959",
   "metadata": {
    "id": "c36eddeb-d827-4b61-a459-5e1593f28959",
    "outputId": "e388b477-2957-4ec0-f12c-2a3ea592074e"
   },
   "outputs": [
    {
     "name": "stdout",
     "output_type": "stream",
     "text": [
      "['apple', 'orange', 'mango']\n"
     ]
    }
   ],
   "source": [
    "#using list comprehesion\n",
    "fruits = [\"apple\", \"banana\", \"banana\", \"orange\", \"mango\"]\n",
    "banned_fruit = \"banana\"\n",
    "\n",
    "fruits = [each_fruit for each_fruit in fruits if each_fruit != banned_fruit]\n",
    "print(fruits)"
   ]
  },
  {
   "cell_type": "code",
   "execution_count": 26,
   "id": "0d01fd86-9ac3-4f4a-a368-2b53991bed61",
   "metadata": {
    "id": "0d01fd86-9ac3-4f4a-a368-2b53991bed61",
    "outputId": "3cbfb04b-8fbf-45ea-f57e-9766634d80e2"
   },
   "outputs": [
    {
     "name": "stdout",
     "output_type": "stream",
     "text": [
      "['apple', 'orange', 'mango']\n"
     ]
    }
   ],
   "source": [
    "#using lambda\n",
    "fruits = [\"apple\", \"banana\", \"banana\", \"orange\", \"mango\"]\n",
    "banned_fruit = \"banana\"\n",
    "\n",
    "fruits = list(filter(lambda each_fruit: each_fruit != banned_fruit, fruits))\n",
    "print(fruits)"
   ]
  },
  {
   "cell_type": "markdown",
   "id": "aef0a15d-28ca-4eed-8716-ff3e5ed886fd",
   "metadata": {
    "id": "aef0a15d-28ca-4eed-8716-ff3e5ed886fd"
   },
   "source": [
    "##   \n",
    "#### <span style=\"color:#2e9c14\"><i>Organizing a List</i></span>\n",
    "\n",
    "Often, your lists will be created in an unpredictable order, because you can’t always control the order in which your users provide their data. Although this is unavoidable in most circumstances, you’ll frequently want to present your information in a particular order. \n",
    "\n",
    "Sometimes you’ll want to preserve the original order of your list, and other times you’ll want to change the original order. Python provides a number of different ways to organize your lists, depending on the situation.\n",
    "\n",
    "\n",
    "- <span style=\"color:#029DA3\">Sorting a List Permanently with the sort() Method</span>"
   ]
  },
  {
   "cell_type": "code",
   "execution_count": 27,
   "id": "39eec2af-be0b-4bcd-998c-af00831e3757",
   "metadata": {
    "colab": {
     "base_uri": "https://localhost:8080/"
    },
    "executionInfo": {
     "elapsed": 5,
     "status": "ok",
     "timestamp": 1670156262377,
     "user": {
      "displayName": "Thammakorn SAETHANG",
      "userId": "08182570455347153646"
     },
     "user_tz": -420
    },
    "id": "39eec2af-be0b-4bcd-998c-af00831e3757",
    "outputId": "58597a4d-ad7f-40e5-9c18-a21b36e2d3e9"
   },
   "outputs": [
    {
     "name": "stdout",
     "output_type": "stream",
     "text": [
      "['C#', 'C++', 'Go', 'Html', 'Java', 'Python', 'R', 'Ruby']\n"
     ]
    }
   ],
   "source": [
    "languages = [\"C++\", \"Java\", \"Python\", \"Go\", \"Ruby\", \"C#\", \"Html\", \"R\"]\n",
    "languages.sort()\n",
    "print(languages)"
   ]
  },
  {
   "cell_type": "markdown",
   "id": "1036eb2d-32ca-4110-962b-0609debfb614",
   "metadata": {
    "id": "1036eb2d-32ca-4110-962b-0609debfb614"
   },
   "source": [
    "You can also sort this list in reverse alphabetical order by passing the argument reverse=True to the sort() method."
   ]
  },
  {
   "cell_type": "code",
   "execution_count": 28,
   "id": "33bdfc19-7c53-4584-a236-892db275d4ac",
   "metadata": {
    "colab": {
     "base_uri": "https://localhost:8080/"
    },
    "executionInfo": {
     "elapsed": 3,
     "status": "ok",
     "timestamp": 1670156305059,
     "user": {
      "displayName": "Thammakorn SAETHANG",
      "userId": "08182570455347153646"
     },
     "user_tz": -420
    },
    "id": "33bdfc19-7c53-4584-a236-892db275d4ac",
    "outputId": "74eaa387-584b-49e9-f27c-eba8531c0c74"
   },
   "outputs": [
    {
     "name": "stdout",
     "output_type": "stream",
     "text": [
      "['Ruby', 'R', 'Python', 'Java', 'Html', 'Go', 'C++', 'C#']\n"
     ]
    }
   ],
   "source": [
    "languages.sort(reverse=True)\n",
    "print(languages)"
   ]
  },
  {
   "cell_type": "markdown",
   "id": "c35351cd-b365-45f1-9ca7-e395bd469c97",
   "metadata": {
    "id": "c35351cd-b365-45f1-9ca7-e395bd469c97"
   },
   "source": [
    "- <span style=\"color:#029DA3\">Sorting a List Temporarily with the sorted() Function</span>\n",
    ">To maintain the original order of a list but present it in a sorted order, you can use the sorted() function. The sorted() function lets you display your list in a particular order but doesn’t affect the actual order of the list.\n"
   ]
  },
  {
   "cell_type": "code",
   "execution_count": 29,
   "id": "d1636259-236f-49c8-b496-1a589511fc02",
   "metadata": {
    "colab": {
     "base_uri": "https://localhost:8080/"
    },
    "executionInfo": {
     "elapsed": 468,
     "status": "ok",
     "timestamp": 1670156381011,
     "user": {
      "displayName": "Thammakorn SAETHANG",
      "userId": "08182570455347153646"
     },
     "user_tz": -420
    },
    "id": "d1636259-236f-49c8-b496-1a589511fc02",
    "outputId": "f918e097-1364-4293-b28b-591c2b135686"
   },
   "outputs": [
    {
     "name": "stdout",
     "output_type": "stream",
     "text": [
      "sorted: ['Ruby', 'R', 'Python', 'Java', 'Html', 'Go', 'C++', 'C#']\n",
      "original: ['C++', 'Java', 'Python', 'Go', 'Ruby', 'C#', 'Html', 'R']\n"
     ]
    }
   ],
   "source": [
    "languages = [\"C++\", \"Java\", \"Python\", \"Go\", \"Ruby\", \"C#\", \"Html\", \"R\"]\n",
    "sort_languages = sorted(languages, reverse=True)\n",
    "print(\"sorted:\",sort_languages)\n",
    "print(\"original:\",languages)"
   ]
  },
  {
   "cell_type": "markdown",
   "id": "c22318de-d918-4703-a9f4-044506457197",
   "metadata": {
    "id": "c22318de-d918-4703-a9f4-044506457197"
   },
   "source": [
    ">Notice that the list still exists in its original order after the sorted() function has been used. The sorted() function can also accept a reverse=True argument if you want to display a list in reverse alphabetical order. \n",
    "    "
   ]
  },
  {
   "cell_type": "markdown",
   "id": "efe2b6ed-15a4-418f-bd37-26504e9b6c77",
   "metadata": {
    "id": "efe2b6ed-15a4-418f-bd37-26504e9b6c77"
   },
   "source": [
    "- <span style=\"color:#029DA3\">Printing a List in Reverse Order</span>\n",
    ">To reverse the original order of a list, you can use the reverse() method.\n",
    "If we originally stored the list of cars in chronological order according to when we owned them, we could easily rearrange the list into reverse chron- ological order:"
   ]
  },
  {
   "cell_type": "code",
   "execution_count": 30,
   "id": "49199884-e075-49c4-917d-36db652d68ee",
   "metadata": {
    "id": "49199884-e075-49c4-917d-36db652d68ee",
    "outputId": "25134e78-0f9b-4b14-d760-6a600f1a2cca"
   },
   "outputs": [
    {
     "name": "stdout",
     "output_type": "stream",
     "text": [
      "['C++', 'Java', 'Python', 'Go', 'Ruby', 'C#', 'Html', 'R']\n",
      "['R', 'Html', 'C#', 'Ruby', 'Go', 'Python', 'Java', 'C++']\n"
     ]
    }
   ],
   "source": [
    "languages = [\"C++\", \"Java\", \"Python\", \"Go\", \"Ruby\", \"C#\", \"Html\", \"R\"]\n",
    "print(languages)\n",
    "\n",
    "languages.reverse()\n",
    "print(languages)"
   ]
  },
  {
   "cell_type": "markdown",
   "id": "61bbd675-54d1-49bb-be62-e9c4287ca62c",
   "metadata": {
    "id": "61bbd675-54d1-49bb-be62-e9c4287ca62c"
   },
   "source": [
    "####  \n",
    "- <span style=\"color:#029DA3\">Finding the Length of a List</span>\n",
    ">You can quickly find the length of a list by using the len() function."
   ]
  },
  {
   "cell_type": "code",
   "execution_count": 31,
   "id": "55a768b2-896f-4bce-8dd6-a33afa050524",
   "metadata": {
    "id": "55a768b2-896f-4bce-8dd6-a33afa050524",
    "outputId": "33aa7b6f-c9e5-44b5-8f96-079236db7951"
   },
   "outputs": [
    {
     "data": {
      "text/plain": [
       "8"
      ]
     },
     "execution_count": 31,
     "metadata": {},
     "output_type": "execute_result"
    }
   ],
   "source": [
    "languages = [\"C++\", \"Java\", \"Python\", \"Go\", \"Ruby\", \"C#\", \"Html\", \"R\"]\n",
    "len(languages)"
   ]
  },
  {
   "cell_type": "markdown",
   "id": "d646d131-7111-4489-b8a1-5b025bb3ac40",
   "metadata": {
    "id": "d646d131-7111-4489-b8a1-5b025bb3ac40"
   },
   "source": [
    "##  \n",
    "#### <span style=\"color:#2e9c14\"><i>Copying a List</i></span>\n",
    "You can also work with a specific group of items in a list, which Python calls a slice. \n",
    "\n",
    "To copy a list, you can make a slice that includes the entire original list by omitting the first index and the second index ([:]). This tells Python to make a slice that starts at the first item and ends with the last item, producing a copy of the entire list."
   ]
  },
  {
   "cell_type": "code",
   "execution_count": 32,
   "id": "d4cc725f-6762-4e3a-a7c3-a111acf6ee93",
   "metadata": {
    "colab": {
     "base_uri": "https://localhost:8080/"
    },
    "executionInfo": {
     "elapsed": 477,
     "status": "ok",
     "timestamp": 1670156578874,
     "user": {
      "displayName": "Thammakorn SAETHANG",
      "userId": "08182570455347153646"
     },
     "user_tz": -420
    },
    "id": "d4cc725f-6762-4e3a-a7c3-a111acf6ee93",
    "outputId": "efd5ff05-8e56-4930-8bef-8114c0207044"
   },
   "outputs": [
    {
     "name": "stdout",
     "output_type": "stream",
     "text": [
      "Shop A sales: ['apple', 'banana', 'orange', 'mango']\n",
      "Shop B sales: ['apple', 'banana', 'orange', 'mango']\n",
      "Shop A change apple -> apricot\n",
      "Shop A sales: ['apricot', 'banana', 'orange', 'mango']\n",
      "Shop B sales: ['apple', 'banana', 'orange', 'mango']\n"
     ]
    }
   ],
   "source": [
    "fruits_shopA = [\"apple\", \"banana\", \"orange\", \"mango\"]\n",
    "fruits_shopB = fruits_shopA.copy() #or fruits_shopA[:]\n",
    "\n",
    "print(\"Shop A sales: \" + str(fruits_shopA))\n",
    "print(\"Shop B sales: \" + str(fruits_shopB))\n",
    "\n",
    "print(\"Shop A change apple -> apricot\")\n",
    "fruits_shopA[0] = \"apricot\"\n",
    "print(\"Shop A sales: \" + str(fruits_shopA))\n",
    "print(\"Shop B sales: \" + str(fruits_shopB))"
   ]
  },
  {
   "cell_type": "markdown",
   "id": "c74b144c-5f09-463a-b244-ec0d5e4b1a72",
   "metadata": {
    "id": "c74b144c-5f09-463a-b244-ec0d5e4b1a72"
   },
   "source": [
    "\\\n",
    "If we had simply set fruits_shopA = fruits_shopB, we would not produce two separate lists. For example, here’s what happens when you try to copy a list without using a slice:"
   ]
  },
  {
   "cell_type": "code",
   "execution_count": 33,
   "id": "7ff9882d-623f-4499-a83b-321a4a7a451d",
   "metadata": {
    "colab": {
     "base_uri": "https://localhost:8080/"
    },
    "executionInfo": {
     "elapsed": 479,
     "status": "ok",
     "timestamp": 1670156452962,
     "user": {
      "displayName": "Thammakorn SAETHANG",
      "userId": "08182570455347153646"
     },
     "user_tz": -420
    },
    "id": "7ff9882d-623f-4499-a83b-321a4a7a451d",
    "outputId": "100eb7da-9e4f-4849-9ef9-604f715cfe89"
   },
   "outputs": [
    {
     "name": "stdout",
     "output_type": "stream",
     "text": [
      "Shop A sales: ['apple', 'banana', 'orange', 'mango']\n",
      "Shop B sales: ['apple', 'banana', 'orange', 'mango']\n",
      "Shop A change apple -> apricot\n",
      "Shop A sales: ['apricot', 'banana', 'orange', 'mango']\n",
      "Shop B sales: ['apricot', 'banana', 'orange', 'mango']\n"
     ]
    }
   ],
   "source": [
    "fruits_shopA = [\"apple\", \"banana\", \"orange\", \"mango\"]\n",
    "fruits_shopB = fruits_shopA \n",
    "\n",
    "print(\"Shop A sales: \" + str(fruits_shopA))\n",
    "print(\"Shop B sales: \" + str(fruits_shopB))\n",
    "\n",
    "print(\"Shop A change apple -> apricot\")\n",
    "fruits_shopA[0] = \"apricot\"\n",
    "print(\"Shop A sales: \" + str(fruits_shopA))\n",
    "print(\"Shop B sales: \" + str(fruits_shopB))"
   ]
  }
 ],
 "metadata": {
  "colab": {
   "collapsed_sections": [
    "61bbd675-54d1-49bb-be62-e9c4287ca62c"
   ],
   "provenance": []
  },
  "kernelspec": {
   "display_name": "Python 3 (ipykernel)",
   "language": "python",
   "name": "python3"
  },
  "language_info": {
   "codemirror_mode": {
    "name": "ipython",
    "version": 3
   },
   "file_extension": ".py",
   "mimetype": "text/x-python",
   "name": "python",
   "nbconvert_exporter": "python",
   "pygments_lexer": "ipython3",
   "version": "3.9.7"
  }
 },
 "nbformat": 4,
 "nbformat_minor": 5
}
