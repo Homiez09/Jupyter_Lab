{
 "cells": [
  {
   "cell_type": "markdown",
   "id": "139abcec-f71a-41fd-a1f7-cda02ca4d575",
   "metadata": {
    "id": "139abcec-f71a-41fd-a1f7-cda02ca4d575"
   },
   "source": [
    "# <span style=\"color:#DE1509\">NumPy</span>"
   ]
  },
  {
   "cell_type": "markdown",
   "id": "b5ee174b-5e02-4c69-ac12-04900d4e1542",
   "metadata": {
    "id": "b5ee174b-5e02-4c69-ac12-04900d4e1542"
   },
   "source": [
    "NumPy (Numerical Python) is a Python library for data science and numerical computing. Many advanced data science and machine learning libraries require data to be in the form of NumPy arrays before it can be processed."
   ]
  },
  {
   "cell_type": "markdown",
   "id": "a8843981-9df5-4ee2-8082-65235d36b9da",
   "metadata": {
    "id": "a8843981-9df5-4ee2-8082-65235d36b9da"
   },
   "source": [
    "### Advantages of NumPy Library\n",
    "A NumPy array has many advantages over regular Python lists. Some of them are listed below:\n",
    "\n",
    "- NumPy arrays are much faster for insertion, deletion, updating, and reading of data.\n",
    "- NumPy arrays contain advanced broadcasting functionalities compared with regular Python lists.\n",
    "- NumPy array comes with a lot of methods that support advanced arithmetic and linear algebra options.\n",
    "- NumPy provides advanced multi-dimensional array slicing capabilities.\n"
   ]
  },
  {
   "cell_type": "markdown",
   "id": "8ba06e59-27dc-47b2-9f86-de06409bcba0",
   "metadata": {
    "id": "8ba06e59-27dc-47b2-9f86-de06409bcba0",
    "tags": []
   },
   "source": [
    "###  \n",
    "#### <span style=\"color:#127C02\">*Creating NumPy Arrays*</span>\n",
    "\n",
    "Depending upon the type of data you need inside your NumPy array, different methods can be used to create a NumPy array\n",
    "  \n",
    "**1. Using Array Methods**\n"
   ]
  },
  {
   "cell_type": "code",
   "execution_count": 2,
   "id": "f65da516-773f-4ebd-9cf3-9a4de2da1cab",
   "metadata": {
    "colab": {
     "base_uri": "https://localhost:8080/"
    },
    "executionInfo": {
     "elapsed": 619,
     "status": "ok",
     "timestamp": 1670177119892,
     "user": {
      "displayName": "Thammakorn SAETHANG",
      "userId": "08182570455347153646"
     },
     "user_tz": -420
    },
    "id": "f65da516-773f-4ebd-9cf3-9a4de2da1cab",
    "outputId": "4037f5f0-8085-4077-8609-6223bd933f12"
   },
   "outputs": [
    {
     "name": "stdout",
     "output_type": "stream",
     "text": [
      "nums_list:  [1, 0, 5, 10, -7]\n",
      "nums_array:  [ 1  0  5 10 -7]\n"
     ]
    },
    {
     "data": {
      "text/plain": [
       "numpy.ndarray"
      ]
     },
     "execution_count": 2,
     "metadata": {},
     "output_type": "execute_result"
    }
   ],
   "source": [
    "import numpy as np  #to use Numpy arrays, we must import numpy library\n",
    "# \"as np\" will let us use numpy by just typing \"np\"\n",
    "\n",
    "nums_list = [1, 0, 5, 10, -7]\n",
    "nums_array = np.array(nums_list)\n",
    "print(\"nums_list: \", nums_list)\n",
    "print(\"nums_array: \", nums_array)\n",
    "type(nums_array)"
   ]
  },
  {
   "cell_type": "markdown",
   "id": "b4794a4c-d935-4656-b6da-a13590016d55",
   "metadata": {
    "id": "b4794a4c-d935-4656-b6da-a13590016d55"
   },
   "source": [
    "\\\n",
    "To get what data type array stores, use .dtype"
   ]
  },
  {
   "cell_type": "code",
   "execution_count": 3,
   "id": "47f7ed0f-f63b-4958-874c-de17b76b8d63",
   "metadata": {
    "colab": {
     "base_uri": "https://localhost:8080/"
    },
    "executionInfo": {
     "elapsed": 328,
     "status": "ok",
     "timestamp": 1670177173034,
     "user": {
      "displayName": "Thammakorn SAETHANG",
      "userId": "08182570455347153646"
     },
     "user_tz": -420
    },
    "id": "47f7ed0f-f63b-4958-874c-de17b76b8d63",
    "outputId": "80eae5c2-e5ea-4b71-def1-7c4b87145369"
   },
   "outputs": [
    {
     "data": {
      "text/plain": [
       "dtype('int32')"
      ]
     },
     "execution_count": 3,
     "metadata": {},
     "output_type": "execute_result"
    }
   ],
   "source": [
    "nums_array.dtype"
   ]
  },
  {
   "cell_type": "markdown",
   "id": "98e9c97d-3cbc-4429-98be-3c08b81ae7b2",
   "metadata": {
    "id": "98e9c97d-3cbc-4429-98be-3c08b81ae7b2"
   },
   "source": [
    "\\\n",
    "You can also create a multi-dimensional NumPy array. To do so, you need to create a list of lists where each internal list corresponds to the row in a 2-dimensional array."
   ]
  },
  {
   "cell_type": "code",
   "execution_count": 4,
   "id": "cf0c09b3-3bf6-422e-98f8-b7ac12fe1baa",
   "metadata": {
    "colab": {
     "base_uri": "https://localhost:8080/"
    },
    "executionInfo": {
     "elapsed": 1005,
     "status": "ok",
     "timestamp": 1670177344466,
     "user": {
      "displayName": "Thammakorn SAETHANG",
      "userId": "08182570455347153646"
     },
     "user_tz": -420
    },
    "id": "cf0c09b3-3bf6-422e-98f8-b7ac12fe1baa",
    "outputId": "ad7c8c67-20b5-41f0-80ba-b1b881515c86"
   },
   "outputs": [
    {
     "name": "stdout",
     "output_type": "stream",
     "text": [
      "[[ 1  2  3]\n",
      " [ 4  5  6]\n",
      " [ 7  8  9]\n",
      " [10 11 12]]\n"
     ]
    }
   ],
   "source": [
    "r1 = [1, 2, 3]\n",
    "r2 = [4, 5, 6]\n",
    "r3 = [7, 8, 9]\n",
    "r4 = [10, 11, 12]\n",
    "\n",
    "nums_2d = np.array([r1, r2, r3, r4])\n",
    "print(nums_2d)"
   ]
  },
  {
   "cell_type": "code",
   "execution_count": 5,
   "id": "728c7713-eda4-437b-85dd-01b8a2999e9c",
   "metadata": {
    "colab": {
     "base_uri": "https://localhost:8080/"
    },
    "executionInfo": {
     "elapsed": 22,
     "status": "ok",
     "timestamp": 1670177345907,
     "user": {
      "displayName": "Thammakorn SAETHANG",
      "userId": "08182570455347153646"
     },
     "user_tz": -420
    },
    "id": "728c7713-eda4-437b-85dd-01b8a2999e9c",
    "outputId": "b6dcd05a-f634-45ef-be9b-1e2003e3ae0c"
   },
   "outputs": [
    {
     "name": "stdout",
     "output_type": "stream",
     "text": [
      "1\n",
      "8\n"
     ]
    }
   ],
   "source": [
    "print(nums_2d[0, 0])\n",
    "print(nums_2d[2, 1])"
   ]
  },
  {
   "cell_type": "markdown",
   "id": "2e79ce28-7074-42ca-b9ff-a75df53fb8e9",
   "metadata": {
    "id": "2e79ce28-7074-42ca-b9ff-a75df53fb8e9"
   },
   "source": [
    "\\\n",
    "To get the dimension of np.array, use .shape.  \n",
    "The outout is (<#rows>, <#columns>)"
   ]
  },
  {
   "cell_type": "code",
   "execution_count": 6,
   "id": "b8076a55-6ad0-47e8-b9ac-87bf0ca1ab2b",
   "metadata": {
    "colab": {
     "base_uri": "https://localhost:8080/"
    },
    "executionInfo": {
     "elapsed": 334,
     "status": "ok",
     "timestamp": 1670177351257,
     "user": {
      "displayName": "Thammakorn SAETHANG",
      "userId": "08182570455347153646"
     },
     "user_tz": -420
    },
    "id": "b8076a55-6ad0-47e8-b9ac-87bf0ca1ab2b",
    "outputId": "1df66535-caa6-42b9-926f-dcb03d75be1c"
   },
   "outputs": [
    {
     "data": {
      "text/plain": [
       "(4, 3)"
      ]
     },
     "execution_count": 6,
     "metadata": {},
     "output_type": "execute_result"
    }
   ],
   "source": [
    "nums_2d.shape"
   ]
  },
  {
   "cell_type": "markdown",
   "id": "9003ad65-08db-46dd-9f16-ddf9cce37cca",
   "metadata": {
    "id": "9003ad65-08db-46dd-9f16-ddf9cce37cca"
   },
   "source": [
    "With the arrange () method, you can create a NumPy array that contains a range of integers. The first parameter to the arrange method is the lower bound, and the second parameter is the upper bound. The lower bound is included in the array. However, the upper bound is not included. "
   ]
  },
  {
   "cell_type": "code",
   "execution_count": 7,
   "id": "07c4c0db-759b-45c8-89c3-b787a94764a7",
   "metadata": {
    "colab": {
     "base_uri": "https://localhost:8080/"
    },
    "executionInfo": {
     "elapsed": 888,
     "status": "ok",
     "timestamp": 1670177444576,
     "user": {
      "displayName": "Thammakorn SAETHANG",
      "userId": "08182570455347153646"
     },
     "user_tz": -420
    },
    "id": "07c4c0db-759b-45c8-89c3-b787a94764a7",
    "outputId": "69f71b43-3dfa-4a48-e096-bf2853c9416e"
   },
   "outputs": [
    {
     "name": "stdout",
     "output_type": "stream",
     "text": [
      "[ 1  2  3  4  5  6  7  8  9 10]\n"
     ]
    }
   ],
   "source": [
    "nums = np.arange(1, 11)  #1-10\n",
    "print(nums)"
   ]
  },
  {
   "cell_type": "markdown",
   "id": "cd9a2239-53d5-430b-b371-99d6bf68db74",
   "metadata": {
    "id": "cd9a2239-53d5-430b-b371-99d6bf68db74"
   },
   "source": [
    "You can also specify the step as a third parameter in the arrange() function. A step defines the distance between two consecutive points in the array."
   ]
  },
  {
   "cell_type": "code",
   "execution_count": 8,
   "id": "33966b3a-8a31-4fb9-a08b-1890be900047",
   "metadata": {
    "colab": {
     "base_uri": "https://localhost:8080/"
    },
    "executionInfo": {
     "elapsed": 330,
     "status": "ok",
     "timestamp": 1670177505134,
     "user": {
      "displayName": "Thammakorn SAETHANG",
      "userId": "08182570455347153646"
     },
     "user_tz": -420
    },
    "id": "33966b3a-8a31-4fb9-a08b-1890be900047",
    "outputId": "f933dd58-1315-41e9-dc28-7177a706ffc1"
   },
   "outputs": [
    {
     "name": "stdout",
     "output_type": "stream",
     "text": [
      "[1 3 5 7 9]\n"
     ]
    }
   ],
   "source": [
    "nums = np.arange(1, 11, 2)  #1-10\n",
    "print(nums)"
   ]
  },
  {
   "cell_type": "markdown",
   "id": "9b8d78ee-db6f-4148-bec8-f6bd008e9d7a",
   "metadata": {
    "id": "9b8d78ee-db6f-4148-bec8-f6bd008e9d7a"
   },
   "source": [
    "###    \n",
    "**2. Using ones() method**  \n",
    "The ones() method can be used to create a NumPy array of all ones."
   ]
  },
  {
   "cell_type": "code",
   "execution_count": 9,
   "id": "da14b137-7118-4860-87f1-f6f528847c81",
   "metadata": {
    "id": "da14b137-7118-4860-87f1-f6f528847c81",
    "outputId": "775ec764-74d0-4eb8-e811-9cb80897abd8"
   },
   "outputs": [
    {
     "name": "stdout",
     "output_type": "stream",
     "text": [
      "[1. 1. 1. 1. 1. 1. 1. 1. 1. 1.]\n"
     ]
    },
    {
     "data": {
      "text/plain": [
       "10"
      ]
     },
     "execution_count": 9,
     "metadata": {},
     "output_type": "execute_result"
    }
   ],
   "source": [
    "ones = np.ones(10)\n",
    "print(ones)\n",
    "len(ones)"
   ]
  },
  {
   "cell_type": "code",
   "execution_count": 10,
   "id": "597f1e15-5cf9-426e-83b0-de4702b0101a",
   "metadata": {
    "id": "597f1e15-5cf9-426e-83b0-de4702b0101a",
    "outputId": "0f862293-feca-4e1d-be44-5234da760f62"
   },
   "outputs": [
    {
     "data": {
      "text/plain": [
       "dtype('float64')"
      ]
     },
     "execution_count": 10,
     "metadata": {},
     "output_type": "execute_result"
    }
   ],
   "source": [
    "ones.dtype"
   ]
  },
  {
   "cell_type": "code",
   "execution_count": 11,
   "id": "2651640c-d7ef-4df0-8c83-6b8b835fff3b",
   "metadata": {
    "id": "2651640c-d7ef-4df0-8c83-6b8b835fff3b",
    "outputId": "77b10f5b-9622-4a0f-ffde-07316fe9c966"
   },
   "outputs": [
    {
     "name": "stdout",
     "output_type": "stream",
     "text": [
      "[1 1 1 1 1 1 1 1 1 1]\n"
     ]
    }
   ],
   "source": [
    "ones = np.ones(10, dtype=int)\n",
    "print(ones)"
   ]
  },
  {
   "cell_type": "markdown",
   "id": "979f84d2-df04-4ca7-89fb-90698c23794a",
   "metadata": {
    "id": "979f84d2-df04-4ca7-89fb-90698c23794a"
   },
   "source": [
    "\\\n",
    "Define the second parameter of ones() method to create a 2-dimensional array"
   ]
  },
  {
   "cell_type": "code",
   "execution_count": 12,
   "id": "d640565e-fc89-4565-861c-f41fef304a63",
   "metadata": {
    "id": "d640565e-fc89-4565-861c-f41fef304a63",
    "outputId": "f11e4096-7ab8-459b-f544-960cfd45d088"
   },
   "outputs": [
    {
     "name": "stdout",
     "output_type": "stream",
     "text": [
      "[[1. 1. 1. 1. 1. 1. 1. 1. 1. 1.]\n",
      " [1. 1. 1. 1. 1. 1. 1. 1. 1. 1.]\n",
      " [1. 1. 1. 1. 1. 1. 1. 1. 1. 1.]]\n"
     ]
    }
   ],
   "source": [
    "ones = np.ones((3, 10))\n",
    "print(ones)"
   ]
  },
  {
   "cell_type": "markdown",
   "id": "fd10e1b5-9def-4584-ba33-b86af826a0ef",
   "metadata": {
    "id": "fd10e1b5-9def-4584-ba33-b86af826a0ef"
   },
   "source": [
    "###   \n",
    "**3. Using zeros() method**  \n",
    "The zeros() method can be used to create a NumPy array of all zeros."
   ]
  },
  {
   "cell_type": "code",
   "execution_count": 13,
   "id": "1d6fd54f-3957-4684-b89e-4dac7f37ae5f",
   "metadata": {
    "id": "1d6fd54f-3957-4684-b89e-4dac7f37ae5f",
    "outputId": "33286d7d-11d9-4342-9e74-870086d49103"
   },
   "outputs": [
    {
     "name": "stdout",
     "output_type": "stream",
     "text": [
      "[0. 0. 0. 0. 0. 0. 0. 0. 0. 0.]\n"
     ]
    }
   ],
   "source": [
    "zeros = np.zeros(10)\n",
    "print(zeros)"
   ]
  },
  {
   "cell_type": "code",
   "execution_count": 14,
   "id": "2025c59e-53ca-4d8d-b51f-84f1ddf55c36",
   "metadata": {
    "id": "2025c59e-53ca-4d8d-b51f-84f1ddf55c36",
    "outputId": "7c22eb7a-652d-449a-8eef-b0b7d3a47546"
   },
   "outputs": [
    {
     "name": "stdout",
     "output_type": "stream",
     "text": [
      "[[0. 0. 0. 0. 0. 0. 0. 0. 0. 0.]\n",
      " [0. 0. 0. 0. 0. 0. 0. 0. 0. 0.]\n",
      " [0. 0. 0. 0. 0. 0. 0. 0. 0. 0.]]\n"
     ]
    }
   ],
   "source": [
    "zeros = np.zeros((3, 10))\n",
    "print(zeros)"
   ]
  },
  {
   "cell_type": "markdown",
   "id": "eb1e7cd8-137b-434d-8dba-f4614238aa72",
   "metadata": {
    "id": "eb1e7cd8-137b-434d-8dba-f4614238aa72"
   },
   "source": [
    "###   \n",
    "**4. Using eye() method**  \n",
    "The eye() method is used to create an identity matrix in the form of a 2-dimensional numPy array. An identity contains 1s along the diagonal, while the rest of the elements are 0 in the array."
   ]
  },
  {
   "cell_type": "code",
   "execution_count": 15,
   "id": "32494537-67fb-4304-9158-40e33ec71b8c",
   "metadata": {
    "id": "32494537-67fb-4304-9158-40e33ec71b8c",
    "outputId": "bb6a91c1-5fc1-4487-b0cd-346fd33c2816"
   },
   "outputs": [
    {
     "name": "stdout",
     "output_type": "stream",
     "text": [
      "[[1. 0. 0.]\n",
      " [0. 1. 0.]\n",
      " [0. 0. 1.]]\n"
     ]
    }
   ],
   "source": [
    "eyes = np.eye(3)\n",
    "print(eyes)"
   ]
  },
  {
   "cell_type": "markdown",
   "id": "7fbe4d80-2285-42f8-beca-5b310ad1adb5",
   "metadata": {
    "id": "7fbe4d80-2285-42f8-beca-5b310ad1adb5"
   },
   "source": [
    "###   \n",
    "**5. Using random.rand()**  \n",
    "The random.rand() function can be used to create a NumPy array of value [0, 1) with uniform distribution."
   ]
  },
  {
   "cell_type": "code",
   "execution_count": 16,
   "id": "041e6cca-5cc2-43e1-9675-dbd9d3fe2996",
   "metadata": {
    "id": "041e6cca-5cc2-43e1-9675-dbd9d3fe2996",
    "outputId": "cbb6fead-7014-4a2a-988b-f879aa776c39"
   },
   "outputs": [
    {
     "name": "stdout",
     "output_type": "stream",
     "text": [
      "[0.44611066 0.40642286 0.83325387 0.55236149 0.71273792 0.20395489\n",
      " 0.00376801 0.75700584 0.14227383 0.33587139]\n"
     ]
    }
   ],
   "source": [
    "rands = np.random.rand(10)\n",
    "print(rands)"
   ]
  },
  {
   "cell_type": "code",
   "execution_count": 17,
   "id": "683672f8-553a-408f-8dbe-6fb93ccf012a",
   "metadata": {
    "colab": {
     "base_uri": "https://localhost:8080/",
     "height": 283
    },
    "executionInfo": {
     "elapsed": 1744,
     "status": "ok",
     "timestamp": 1670177747849,
     "user": {
      "displayName": "Thammakorn SAETHANG",
      "userId": "08182570455347153646"
     },
     "user_tz": -420
    },
    "id": "683672f8-553a-408f-8dbe-6fb93ccf012a",
    "outputId": "dbaa1a04-2319-4094-a7bf-68664873deed"
   },
   "outputs": [
    {
     "data": {
      "text/plain": [
       "<AxesSubplot:ylabel='Count'>"
      ]
     },
     "execution_count": 17,
     "metadata": {},
     "output_type": "execute_result"
    },
    {
     "data": {
      "image/png": "[encoded data removed]",
      "text/plain": [
       "<Figure size 432x288 with 1 Axes>"
      ]
     },
     "metadata": {
      "needs_background": "light"
     },
     "output_type": "display_data"
    }
   ],
   "source": [
    "rands = np.random.rand(500)\n",
    "import seaborn as sns\n",
    "\n",
    "sns.histplot(rands)"
   ]
  },
  {
   "cell_type": "code",
   "execution_count": 18,
   "id": "160433df-82dd-4912-b5ee-05509748aea4",
   "metadata": {
    "colab": {
     "base_uri": "https://localhost:8080/"
    },
    "executionInfo": {
     "elapsed": 393,
     "status": "ok",
     "timestamp": 1670177674090,
     "user": {
      "displayName": "Thammakorn SAETHANG",
      "userId": "08182570455347153646"
     },
     "user_tz": -420
    },
    "id": "160433df-82dd-4912-b5ee-05509748aea4",
    "outputId": "de9ca6ae-7669-4fb9-fa60-6c82092c5413"
   },
   "outputs": [
    {
     "name": "stdout",
     "output_type": "stream",
     "text": [
      "[[0.74371109 0.23653256 0.38845999 0.24027832 0.11266421 0.25136436\n",
      "  0.51235624 0.32067213 0.91054019 0.19179329]\n",
      " [0.52497302 0.04629674 0.60587961 0.76356341 0.58393473 0.09858431\n",
      "  0.82671507 0.4050564  0.93513081 0.71579163]\n",
      " [0.81771306 0.45429002 0.81881594 0.08238031 0.48221523 0.34188223\n",
      "  0.44709151 0.76989477 0.30137303 0.02389685]]\n"
     ]
    }
   ],
   "source": [
    "rands = np.random.rand(3, 10)\n",
    "print(rands)"
   ]
  },
  {
   "cell_type": "markdown",
   "id": "024289bb-7f68-45eb-98e4-b45085600a1d",
   "metadata": {
    "id": "024289bb-7f68-45eb-98e4-b45085600a1d"
   },
   "source": [
    "###  \n",
    "**6. Using random.randn()**   \n",
    "The random.randn() function from the NumPy module can be used to create a NumPy array with normal distribution, as shown in the following example."
   ]
  },
  {
   "cell_type": "code",
   "execution_count": 19,
   "id": "c91b5590-8e13-4296-be01-4f759c40ceb1",
   "metadata": {
    "id": "c91b5590-8e13-4296-be01-4f759c40ceb1",
    "outputId": "598403d2-5bda-46cb-c339-af3c69ec47a9"
   },
   "outputs": [
    {
     "name": "stdout",
     "output_type": "stream",
     "text": [
      "[ 0.56689635  0.5778401  -0.34126311  0.38898231  0.21256224 -1.64971786\n",
      "  0.9571762   1.12839006 -0.77332257 -0.47371252]\n"
     ]
    }
   ],
   "source": [
    "nrands = np.random.randn(10)\n",
    "print(nrands)"
   ]
  },
  {
   "cell_type": "code",
   "execution_count": 20,
   "id": "a68ee8b8-fc03-4db5-90dd-9dca5bf04880",
   "metadata": {
    "colab": {
     "base_uri": "https://localhost:8080/",
     "height": 283
    },
    "executionInfo": {
     "elapsed": 355,
     "status": "ok",
     "timestamp": 1670177759503,
     "user": {
      "displayName": "Thammakorn SAETHANG",
      "userId": "08182570455347153646"
     },
     "user_tz": -420
    },
    "id": "a68ee8b8-fc03-4db5-90dd-9dca5bf04880",
    "outputId": "3edfdc6d-2e2b-4515-b40a-acac214b5967"
   },
   "outputs": [
    {
     "data": {
      "text/plain": [
       "<AxesSubplot:ylabel='Count'>"
      ]
     },
     "execution_count": 20,
     "metadata": {},
     "output_type": "execute_result"
    },
    {
     "data": {
      "image/png": "[encoded data removed]",
      "text/plain": [
       "<Figure size 432x288 with 1 Axes>"
      ]
     },
     "metadata": {
      "needs_background": "light"
     },
     "output_type": "display_data"
    }
   ],
   "source": [
    "nrands = np.random.randn(500)\n",
    "sns.histplot(nrands)"
   ]
  },
  {
   "cell_type": "markdown",
   "id": "ba13df7a-23e1-4684-91b0-0b4cf2a604eb",
   "metadata": {
    "id": "ba13df7a-23e1-4684-91b0-0b4cf2a604eb"
   },
   "source": [
    "###  \n",
    "**7. Using random.randint()**\n",
    "\n",
    "the random.randint() function from the NumPy module can be used to create a NumPy array with random integers between a certain range. The first parameter to the randint() function specifies the lower bound, the second parameter specifies the upper bound, while the last parameter specifies the number of random integers to generate between the range."
   ]
  },
  {
   "cell_type": "code",
   "execution_count": 21,
   "id": "a8fb6e6c-6253-4c71-8d42-3eafbf6f4765",
   "metadata": {
    "colab": {
     "base_uri": "https://localhost:8080/"
    },
    "executionInfo": {
     "elapsed": 405,
     "status": "ok",
     "timestamp": 1670177797791,
     "user": {
      "displayName": "Thammakorn SAETHANG",
      "userId": "08182570455347153646"
     },
     "user_tz": -420
    },
    "id": "a8fb6e6c-6253-4c71-8d42-3eafbf6f4765",
    "outputId": "8c7ed623-23d3-435f-bf7e-7f6a3791c491"
   },
   "outputs": [
    {
     "name": "stdout",
     "output_type": "stream",
     "text": [
      "[56 92 83 21 23 60 47 90 57 13]\n"
     ]
    }
   ],
   "source": [
    "int_rands = np.random.randint(1, 100, 10)\n",
    "print(int_rands)"
   ]
  },
  {
   "cell_type": "code",
   "execution_count": 22,
   "id": "b53c106f-2595-4ee8-8eaf-709a82b70620",
   "metadata": {
    "colab": {
     "base_uri": "https://localhost:8080/",
     "height": 283
    },
    "executionInfo": {
     "elapsed": 365,
     "status": "ok",
     "timestamp": 1670177804251,
     "user": {
      "displayName": "Thammakorn SAETHANG",
      "userId": "08182570455347153646"
     },
     "user_tz": -420
    },
    "id": "b53c106f-2595-4ee8-8eaf-709a82b70620",
    "outputId": "f06b8752-d768-4980-8e9a-84b1b1bc0ec4"
   },
   "outputs": [
    {
     "data": {
      "text/plain": [
       "<AxesSubplot:ylabel='Count'>"
      ]
     },
     "execution_count": 22,
     "metadata": {},
     "output_type": "execute_result"
    },
    {
     "data": {
      "image/png": "[encoded data removed]",
      "text/plain": [
       "<Figure size 432x288 with 1 Axes>"
      ]
     },
     "metadata": {
      "needs_background": "light"
     },
     "output_type": "display_data"
    }
   ],
   "source": [
    "int_rands = np.random.randint(1, 100, 1000)\n",
    "sns.histplot(int_rands)"
   ]
  },
  {
   "cell_type": "markdown",
   "id": "216c1c74-44ab-43dc-a3ea-b2e938719085",
   "metadata": {
    "id": "216c1c74-44ab-43dc-a3ea-b2e938719085"
   },
   "source": [
    "##  \n",
    "### <span style=\"color:#127C02\">*Reshaping NumPy Arrays*</span>\n",
    "\n",
    "A NumPy array can be reshaped using the reshape() function. It is important to mention that the product of the rows and columns in the reshaped array must be equal to the product of rows and columns in the original array. "
   ]
  },
  {
   "cell_type": "code",
   "execution_count": 23,
   "id": "47932e7a-5396-423c-a515-6598e13eb117",
   "metadata": {
    "id": "47932e7a-5396-423c-a515-6598e13eb117",
    "outputId": "cef2844d-e2e2-451c-9b85-6c421872c21f"
   },
   "outputs": [
    {
     "name": "stdout",
     "output_type": "stream",
     "text": [
      "Before reshape: [[0.13990345 0.79620446]\n",
      " [0.09006965 0.42722763]\n",
      " [0.0316282  0.01119489]\n",
      " [0.74745034 0.12149275]\n",
      " [0.69215696 0.4393964 ]\n",
      " [0.29606526 0.53260859]]\n",
      "After reshape: [[0.13990345 0.79620446 0.09006965 0.42722763]\n",
      " [0.0316282  0.01119489 0.74745034 0.12149275]\n",
      " [0.69215696 0.4393964  0.29606526 0.53260859]]\n"
     ]
    }
   ],
   "source": [
    "rands = np.random.rand(6, 2)\n",
    "print(\"Before reshape:\", rands)\n",
    "rands_reshape = rands.reshape(3, 4)\n",
    "print(\"After reshape:\", rands_reshape)"
   ]
  },
  {
   "cell_type": "markdown",
   "id": "6dea9f8a-0787-4854-9933-f1411cd72c1e",
   "metadata": {
    "id": "6dea9f8a-0787-4854-9933-f1411cd72c1e"
   },
   "source": [
    "##  \n",
    "### <span style=\"color:#127C02\">*Array Indexing And Slicing*</span>\n",
    "\n",
    "NumPy arrays can be indexed and sliced. Slicing an array means dividing an array into multiple parts.\n",
    "\n",
    "NumPy arrays are indexed just like normal lists. Indexes in NumPy arrays start from 0, which means that the first item of a NumPy array is stored at the index 0.\n"
   ]
  },
  {
   "cell_type": "code",
   "execution_count": 24,
   "id": "8b35bf04-d60a-424f-8efe-577717398375",
   "metadata": {
    "id": "8b35bf04-d60a-424f-8efe-577717398375",
    "outputId": "ef1007f6-3b7a-45fc-8141-6e52804bf9a5"
   },
   "outputs": [
    {
     "name": "stdout",
     "output_type": "stream",
     "text": [
      "[ 1  2  3  4  5  6  7  8  9 10]\n",
      "1\n",
      "4\n",
      "10\n"
     ]
    }
   ],
   "source": [
    "nums = np.arange(1, 11)\n",
    "print(nums)\n",
    "print(nums[0])\n",
    "print(nums[3])\n",
    "print(nums[-1])"
   ]
  },
  {
   "cell_type": "markdown",
   "id": "c30d02e9-895f-48be-827a-a054e23f00cb",
   "metadata": {
    "id": "c30d02e9-895f-48be-827a-a054e23f00cb"
   },
   "source": [
    "\\\n",
    "To slice an array, you have to pass the lower index, followed by a colon and the upper index. The items from the lower index (inclusive) to the upper index (exclusive) will be filtered. The following script slices the array “s” from the 0 index to the 9 index. The elements from index 0 to 8 are printed in the output."
   ]
  },
  {
   "cell_type": "code",
   "execution_count": 25,
   "id": "09d0be0e-2cd5-4db4-84b8-3bc86c081e6f",
   "metadata": {
    "id": "09d0be0e-2cd5-4db4-84b8-3bc86c081e6f",
    "outputId": "3aa53564-1010-4e14-afac-bbf2f1eb41f2"
   },
   "outputs": [
    {
     "name": "stdout",
     "output_type": "stream",
     "text": [
      "[1 2 3 4 5 6 7 8 9]\n"
     ]
    }
   ],
   "source": [
    "print(nums[0:9])"
   ]
  },
  {
   "cell_type": "markdown",
   "id": "f9296506-2503-44d7-bb97-8d0dc6fdca25",
   "metadata": {
    "id": "f9296506-2503-44d7-bb97-8d0dc6fdca25"
   },
   "source": [
    "\\\n",
    "If you specify only the upper bound, all the items from the first index to the upper bound are returned. similarly, if you specify only the lower bound, all the items from the lower bound to the last item of the array are returned."
   ]
  },
  {
   "cell_type": "code",
   "execution_count": 26,
   "id": "7bb342a7-59e0-4386-accb-f0f371b81782",
   "metadata": {
    "id": "7bb342a7-59e0-4386-accb-f0f371b81782",
    "outputId": "02a97408-f9d9-4f28-beba-b55e1b27a8f3"
   },
   "outputs": [
    {
     "name": "stdout",
     "output_type": "stream",
     "text": [
      "[ 5  6  7  8  9 10]\n",
      "[1 2 3 4]\n"
     ]
    }
   ],
   "source": [
    "print(nums[4:])\n",
    "print(nums[:4])  #ends at index 3"
   ]
  },
  {
   "cell_type": "markdown",
   "id": "e61c0333-4bd7-40cb-9061-17dedfb0d963",
   "metadata": {
    "id": "e61c0333-4bd7-40cb-9061-17dedfb0d963"
   },
   "source": [
    "\\\n",
    "Array slicing can also be applied on a 2-dimensional array. To do so, you have to apply slicing on arrays and columns separately. A comma separates the rows and columns slicing. In the following script, the rows from the first and second index are returned, While all the columns returned. You can see the first two complete rows in the output."
   ]
  },
  {
   "cell_type": "code",
   "execution_count": 27,
   "id": "da4831ed-1fdb-4ee7-8e1a-0f461155e4a8",
   "metadata": {
    "colab": {
     "base_uri": "https://localhost:8080/"
    },
    "executionInfo": {
     "elapsed": 349,
     "status": "ok",
     "timestamp": 1670177957492,
     "user": {
      "displayName": "Thammakorn SAETHANG",
      "userId": "08182570455347153646"
     },
     "user_tz": -420
    },
    "id": "da4831ed-1fdb-4ee7-8e1a-0f461155e4a8",
    "outputId": "5c621220-1feb-404f-a39d-7093467a08c4"
   },
   "outputs": [
    {
     "name": "stdout",
     "output_type": "stream",
     "text": [
      "[[1 2 3]\n",
      " [4 5 6]\n",
      " [7 8 9]]\n"
     ]
    }
   ],
   "source": [
    "r1 = [1, 2, 3]\n",
    "r2 = [4, 5, 6]\n",
    "r3 = [7, 8, 9]\n",
    "\n",
    "nums = np.array([r1, r2, r3])\n",
    "print(nums)"
   ]
  },
  {
   "cell_type": "code",
   "execution_count": 28,
   "id": "7f5430d6-e75f-4e6c-bec0-53a058225f7d",
   "metadata": {
    "colab": {
     "base_uri": "https://localhost:8080/"
    },
    "executionInfo": {
     "elapsed": 801,
     "status": "ok",
     "timestamp": 1670177995614,
     "user": {
      "displayName": "Thammakorn SAETHANG",
      "userId": "08182570455347153646"
     },
     "user_tz": -420
    },
    "id": "7f5430d6-e75f-4e6c-bec0-53a058225f7d",
    "outputId": "82909b34-c310-447a-da99-5685c33359a6"
   },
   "outputs": [
    {
     "name": "stdout",
     "output_type": "stream",
     "text": [
      "[[4 5]\n",
      " [7 8]]\n"
     ]
    }
   ],
   "source": [
    "print(nums[1:, :2])  #ends at column index 1"
   ]
  },
  {
   "cell_type": "code",
   "execution_count": 29,
   "id": "bac2507a-1a6b-444f-b490-e3179ae91d1c",
   "metadata": {
    "id": "bac2507a-1a6b-444f-b490-e3179ae91d1c",
    "outputId": "91a9f2be-0f9c-4948-9fa6-16d7b41841cf"
   },
   "outputs": [
    {
     "name": "stdout",
     "output_type": "stream",
     "text": [
      "[[4 5 6]\n",
      " [7 8 9]]\n"
     ]
    }
   ],
   "source": [
    "print(nums[1:, :]) #from row index 1, all columns"
   ]
  },
  {
   "cell_type": "code",
   "execution_count": 30,
   "id": "14f96cb6-8f5c-46c5-afd8-19e680e31882",
   "metadata": {
    "id": "14f96cb6-8f5c-46c5-afd8-19e680e31882",
    "outputId": "6b6754a4-eede-4d4d-dabd-71bcc87a124a"
   },
   "outputs": [
    {
     "name": "stdout",
     "output_type": "stream",
     "text": [
      "[[2 3]\n",
      " [5 6]\n",
      " [8 9]]\n"
     ]
    }
   ],
   "source": [
    "print(nums[:, 1:])  #all rows, from column 1"
   ]
  },
  {
   "cell_type": "markdown",
   "id": "b2c88b57-939c-45d9-80d7-75b68925287c",
   "metadata": {
    "id": "b2c88b57-939c-45d9-80d7-75b68925287c"
   },
   "source": [
    "##  \n",
    "### <span style=\"color:#127C02\">*Using where () function*</span>"
   ]
  },
  {
   "cell_type": "markdown",
   "id": "91977bf9-d55c-45b8-85f6-c78f4a6fb6a8",
   "metadata": {
    "id": "91977bf9-d55c-45b8-85f6-c78f4a6fb6a8"
   },
   "source": [
    "\\\n",
    "Numpy’s where function can find array elements according to specific logical criteria. Note that np.where returns a tuple of Numpy indices"
   ]
  },
  {
   "cell_type": "code",
   "execution_count": 31,
   "id": "1f528947-50cd-499c-8fa1-cc0876d32791",
   "metadata": {
    "colab": {
     "base_uri": "https://localhost:8080/"
    },
    "executionInfo": {
     "elapsed": 360,
     "status": "ok",
     "timestamp": 1670178149079,
     "user": {
      "displayName": "Thammakorn SAETHANG",
      "userId": "08182570455347153646"
     },
     "user_tz": -420
    },
    "id": "1f528947-50cd-499c-8fa1-cc0876d32791",
    "outputId": "8d552c45-db70-4f9c-87e0-335f4879f08b"
   },
   "outputs": [
    {
     "data": {
      "text/plain": [
       "(array([1, 3], dtype=int64),)"
      ]
     },
     "execution_count": 31,
     "metadata": {},
     "output_type": "execute_result"
    }
   ],
   "source": [
    "nums = np.array([3,10,7,12])\n",
    "np.where(nums % 2 == 0)"
   ]
  },
  {
   "cell_type": "markdown",
   "id": "7c53ccb8-085e-42bb-ab20-77838ae3bb88",
   "metadata": {
    "id": "7c53ccb8-085e-42bb-ab20-77838ae3bb88"
   },
   "source": [
    "\\\n",
    "Additionally, Numpy arrays can be indexed by logical Numpy arrays where only the corresponding True entries are selected."
   ]
  },
  {
   "cell_type": "code",
   "execution_count": 32,
   "id": "e0770e12-d859-4eda-8dd4-90631825e22d",
   "metadata": {
    "colab": {
     "base_uri": "https://localhost:8080/"
    },
    "executionInfo": {
     "elapsed": 3,
     "status": "ok",
     "timestamp": 1670178187642,
     "user": {
      "displayName": "Thammakorn SAETHANG",
      "userId": "08182570455347153646"
     },
     "user_tz": -420
    },
    "id": "e0770e12-d859-4eda-8dd4-90631825e22d",
    "outputId": "70f4032b-5c65-42f2-dc24-360aa2248e47"
   },
   "outputs": [
    {
     "name": "stdout",
     "output_type": "stream",
     "text": [
      "[False  True False  True]\n"
     ]
    },
    {
     "data": {
      "text/plain": [
       "array([10, 12])"
      ]
     },
     "execution_count": 32,
     "metadata": {},
     "output_type": "execute_result"
    }
   ],
   "source": [
    "print(nums % 2 == 0)\n",
    "nums[nums % 2 == 0]"
   ]
  },
  {
   "cell_type": "markdown",
   "id": "d89f111a-f0a7-4165-bd33-6896fe6c8c14",
   "metadata": {
    "id": "d89f111a-f0a7-4165-bd33-6896fe6c8c14",
    "tags": []
   },
   "source": [
    "##  \n",
    "### <span style=\"color:#127C02\">*Dtypes & Field Name*</span>"
   ]
  },
  {
   "cell_type": "markdown",
   "id": "855b8710-1ce5-4252-9309-d164e61e7041",
   "metadata": {
    "id": "855b8710-1ce5-4252-9309-d164e61e7041"
   },
   "source": [
    "Although Python is dynamically typed, Numpy permits fine-grained specification of number types using dtypes"
   ]
  },
  {
   "cell_type": "code",
   "execution_count": 33,
   "id": "e2cb0d3a-af8b-4816-b0a8-52fb54de93a5",
   "metadata": {
    "id": "e2cb0d3a-af8b-4816-b0a8-52fb54de93a5",
    "outputId": "067b7734-edb9-41a4-d7b9-c2fbae6a37b5"
   },
   "outputs": [
    {
     "name": "stdout",
     "output_type": "stream",
     "text": [
      "int32\n",
      "[0]\n"
     ]
    }
   ],
   "source": [
    "num = np.array([0], dtype=\"int\")\n",
    "print(num.dtype)\n",
    "print(num)"
   ]
  },
  {
   "cell_type": "code",
   "execution_count": 34,
   "id": "6eb5aea6-7ce1-4b99-bf68-c85df7965f47",
   "metadata": {
    "id": "6eb5aea6-7ce1-4b99-bf68-c85df7965f47",
    "outputId": "0fac6ac2-af90-4d87-9acd-ab8a46a5bf52"
   },
   "outputs": [
    {
     "name": "stdout",
     "output_type": "stream",
     "text": [
      "int16\n",
      "[0]\n"
     ]
    }
   ],
   "source": [
    "num = np.array([0], dtype=\"int16\")\n",
    "print(num.dtype)\n",
    "print(num)"
   ]
  },
  {
   "cell_type": "code",
   "execution_count": 35,
   "id": "1329a3d4-9c41-47dd-a73e-b033e8789dbc",
   "metadata": {
    "id": "1329a3d4-9c41-47dd-a73e-b033e8789dbc",
    "outputId": "d198ea6b-9791-4edf-b422-2e9852712fb7"
   },
   "outputs": [
    {
     "name": "stdout",
     "output_type": "stream",
     "text": [
      "float64\n",
      "[0.]\n"
     ]
    }
   ],
   "source": [
    "num = np.array([0], dtype=\"float\")\n",
    "print(num.dtype)\n",
    "print(num)"
   ]
  },
  {
   "cell_type": "markdown",
   "id": "32c948c8-3b49-4f1b-aae9-cb783f1a8cd8",
   "metadata": {
    "id": "32c948c8-3b49-4f1b-aae9-cb783f1a8cd8"
   },
   "source": [
    "##  \n",
    "### <span style=\"color:#127C02\">*NumPy for Arithmetic Operations*</span>\n",
    "\n",
    "NumPy arrays provide a variety of functions to perform arithmetic operations. Some of these functions are explained in this section.\n",
    "\n",
    "####   \n",
    "**1. Finding Square Roots**  \n",
    "The sqrt() function is used to find the square roots of all the elements in a list"
   ]
  },
  {
   "cell_type": "code",
   "execution_count": 36,
   "id": "9ed9de6e-d314-44b1-a65e-b33296ce96cc",
   "metadata": {
    "colab": {
     "base_uri": "https://localhost:8080/"
    },
    "executionInfo": {
     "elapsed": 316,
     "status": "ok",
     "timestamp": 1670178236026,
     "user": {
      "displayName": "Thammakorn SAETHANG",
      "userId": "08182570455347153646"
     },
     "user_tz": -420
    },
    "id": "9ed9de6e-d314-44b1-a65e-b33296ce96cc",
    "outputId": "b1c31d6c-4136-4c15-f40d-be01b7b495fb"
   },
   "outputs": [
    {
     "name": "stdout",
     "output_type": "stream",
     "text": [
      "[ 1.          2.          3.          3.16227766  3.87298335  5.\n",
      " 10.        ]\n"
     ]
    }
   ],
   "source": [
    "nums = [1, 4, 9, 10, 15, 25, 100]\n",
    "np_sqr = np.sqrt(nums)\n",
    "print(np_sqr)"
   ]
  },
  {
   "cell_type": "markdown",
   "id": "6c5e9515-b761-443e-aada-9a248c9e2046",
   "metadata": {
    "id": "6c5e9515-b761-443e-aada-9a248c9e2046"
   },
   "source": [
    "####  \n",
    "**2. Finding Logs**  \n",
    "The log() function is used to find the logs of all the elements in a list"
   ]
  },
  {
   "cell_type": "code",
   "execution_count": 37,
   "id": "0b4350c3-6719-44fe-a459-71e4a7be0bb9",
   "metadata": {
    "id": "0b4350c3-6719-44fe-a459-71e4a7be0bb9",
    "outputId": "abdc9d4f-8a37-4515-a034-1e29b1fe5a32"
   },
   "outputs": [
    {
     "name": "stdout",
     "output_type": "stream",
     "text": [
      "[0.         0.60205999 0.95424251 1.         1.17609126 1.39794001\n",
      " 2.        ]\n",
      "[0.         2.         3.169925   3.32192809 3.9068906  4.64385619\n",
      " 6.64385619]\n",
      "[0.         1.38629436 2.19722458 2.30258509 2.7080502  3.21887582\n",
      " 4.60517019]\n"
     ]
    }
   ],
   "source": [
    "nums = [1, 4, 9, 10, 15, 25, 100]\n",
    "np_sqr = np.log10(nums)  #base = 10\n",
    "print(np_sqr)\n",
    "\n",
    "np_sqr = np.log2(nums)  #base = 2\n",
    "print(np_sqr)\n",
    "\n",
    "np_sqr = np.log(nums)  #base = e (2.71828, np.e)\n",
    "print(np_sqr)\n",
    "\n",
    "#Note: Other base use math.log"
   ]
  },
  {
   "cell_type": "markdown",
   "id": "b4c6b9a0-6c32-4d1d-a74c-ddfad7358291",
   "metadata": {
    "id": "b4c6b9a0-6c32-4d1d-a74c-ddfad7358291"
   },
   "source": [
    "####   \n",
    "**3. Finding Exponents**  \n",
    "The exp() function takes the exponents of all the elements in a list"
   ]
  },
  {
   "cell_type": "code",
   "execution_count": 38,
   "id": "c9b35ffb-39cb-4f91-b827-b793b5d75769",
   "metadata": {
    "id": "c9b35ffb-39cb-4f91-b827-b793b5d75769",
    "outputId": "e0882bc7-d5e2-4024-e098-ccc6fb3a6e96"
   },
   "outputs": [
    {
     "name": "stdout",
     "output_type": "stream",
     "text": [
      "[2.71828183e+00 5.45981500e+01 8.10308393e+03 2.20264658e+04\n",
      " 3.26901737e+06 7.20048993e+10 2.68811714e+43]\n"
     ]
    }
   ],
   "source": [
    "nums = [1, 4, 9, 10, 15, 25, 100]\n",
    "np_exp = np.exp(nums) #np_exp**<value>\n",
    "print(np_exp)"
   ]
  },
  {
   "cell_type": "markdown",
   "id": "0be45742-74b4-4030-9d4d-f04a0eaae559",
   "metadata": {
    "id": "0be45742-74b4-4030-9d4d-f04a0eaae559"
   },
   "source": [
    "##  \n",
    "### <span style=\"color:#127C02\">*NumPy for Linear Algebra Operations*</span>\n",
    "\n",
    "Data science makes extensive use of linear algebra. The support for performing advanced linear algebra functions in a fast and efficient way makes NumPy one of the most routinely used libraries for data science. In this section, you will perform some of the most linear algebraic operations with NumPy\n",
    "\n",
    "####   \n",
    "**1. Finding Matrix Dot Product**  \n",
    "To find a matrix dot product, you can use the dot() function. To find the dot product, the number of columns in the first matrix must match the number of rows in the second matrix. Here is an example."
   ]
  },
  {
   "cell_type": "code",
   "execution_count": 39,
   "id": "bb1ec95f-9a99-4354-b263-4fb9234405f0",
   "metadata": {
    "id": "bb1ec95f-9a99-4354-b263-4fb9234405f0",
    "outputId": "d259a126-a1e8-4208-d397-d9cdcd5aa66e"
   },
   "outputs": [
    {
     "name": "stdout",
     "output_type": "stream",
     "text": [
      "[[14]]\n"
     ]
    }
   ],
   "source": [
    "a = [[1, 2, 3]]\n",
    "b = [[1], \n",
    "     [2], \n",
    "     [3]]\n",
    "c = np.dot(a, b)\n",
    "print(c)"
   ]
  },
  {
   "cell_type": "code",
   "execution_count": 40,
   "id": "c6653e54-fc2b-4351-9bc4-d407fe621566",
   "metadata": {
    "id": "c6653e54-fc2b-4351-9bc4-d407fe621566",
    "outputId": "2c05046b-8177-48d0-fdbb-3aad17678bdb"
   },
   "outputs": [
    {
     "name": "stdout",
     "output_type": "stream",
     "text": [
      "[[14 14 14]]\n"
     ]
    }
   ],
   "source": [
    "a = [[1, 2, 3]]\n",
    "b = [[1, 1, 1], [2, 2, 2], [3, 3, 3]]\n",
    "c = np.dot(a, b)\n",
    "print(c)"
   ]
  },
  {
   "cell_type": "markdown",
   "id": "8a5dfc30-2310-4b7a-a125-c67d40b822b8",
   "metadata": {
    "id": "8a5dfc30-2310-4b7a-a125-c67d40b822b8"
   },
   "source": [
    "####   \n",
    "**2. Element-wise Matrix Multiplication**  \n",
    "In addition to finding the dot product of two matrices, you can element-wise multiply two matrices. To do so, you can use the multiply() function. The dimensions of the two matrices must match"
   ]
  },
  {
   "cell_type": "code",
   "execution_count": 41,
   "id": "3fb985bc-85f8-424d-abeb-403f45fb9930",
   "metadata": {
    "id": "3fb985bc-85f8-424d-abeb-403f45fb9930",
    "outputId": "796169bb-b56a-48ff-a790-da04743b564f"
   },
   "outputs": [
    {
     "name": "stdout",
     "output_type": "stream",
     "text": [
      "a:\n",
      "[[1 2 3]\n",
      " [4 5 6]\n",
      " [7 8 9]]\n",
      "b:\n",
      "[[1 2 3]\n",
      " [4 5 6]\n",
      " [7 8 9]]\n",
      "c:\n",
      "[[ 1  4  9]\n",
      " [16 25 36]\n",
      " [49 64 81]]\n"
     ]
    }
   ],
   "source": [
    "a = np.arange(1, 10).reshape(3, 3)\n",
    "print(\"a:\")\n",
    "print(a)\n",
    "b = a\n",
    "print(\"b:\")\n",
    "print(a)\n",
    "c = np.multiply(a, b)  #or c = a*b\n",
    "print(\"c:\")\n",
    "print(c)"
   ]
  },
  {
   "cell_type": "markdown",
   "id": "f6300f20-97bf-44d8-b8c3-b5575f998f71",
   "metadata": {
    "id": "f6300f20-97bf-44d8-b8c3-b5575f998f71"
   },
   "source": [
    "####   \n",
    "**3. Finding Matrix Inverse**  \n",
    "You can find the inverse of a matrix via the linalg.inv()"
   ]
  },
  {
   "cell_type": "code",
   "execution_count": 42,
   "id": "fcb33260-0159-4a92-9a31-3342f52c87c4",
   "metadata": {
    "id": "fcb33260-0159-4a92-9a31-3342f52c87c4",
    "outputId": "56b237ab-7963-44bf-f9c8-b2132947bc57"
   },
   "outputs": [
    {
     "name": "stdout",
     "output_type": "stream",
     "text": [
      "[[ 0.36        0.54666667 -0.74666667]\n",
      " [ 0.36        0.21333333 -0.41333333]\n",
      " [-0.52       -0.49333333  0.89333333]]\n"
     ]
    }
   ],
   "source": [
    "r1 = [1, 9, 5]\n",
    "r2 = [8, 5, 9]\n",
    "r3 = [5, 8, 9]\n",
    "nums = np.array([r1, r2, r3])\n",
    "inverse = np.linalg.inv(nums)\n",
    "print(inverse)"
   ]
  },
  {
   "cell_type": "markdown",
   "id": "654c8f6e-fe72-49a4-9689-e5548ffaac66",
   "metadata": {
    "id": "654c8f6e-fe72-49a4-9689-e5548ffaac66"
   },
   "source": [
    "####   \n",
    "**4. Finding Matrix Determinant**  \n",
    "Similarly, the determinant of a matrix can be found using the linalg.det() function"
   ]
  },
  {
   "cell_type": "code",
   "execution_count": 43,
   "id": "bcace256-e497-4c7f-be5c-e60e0ae28f76",
   "metadata": {
    "id": "bcace256-e497-4c7f-be5c-e60e0ae28f76"
   },
   "outputs": [
    {
     "name": "stdout",
     "output_type": "stream",
     "text": [
      "-74.99999999999997\n"
     ]
    }
   ],
   "source": [
    "r1 = [1, 9, 5]\n",
    "r2 = [8, 5, 9]\n",
    "r3 = [5, 8, 9]\n",
    "nums = np.array([r1, r2, r3])\n",
    "determinant = np.linalg.det(nums)\n",
    "print(determinant)"
   ]
  },
  {
   "cell_type": "markdown",
   "id": "4c97d355-a69f-4b86-a7a5-8a70ac0bf986",
   "metadata": {
    "id": "4c97d355-a69f-4b86-a7a5-8a70ac0bf986"
   },
   "source": [
    "####   \n",
    "**5. Finding Matrix Trace**  \n",
    "The trace of a matrix refers to the sum of all the elements along the diagonal of a matrix. To find the trace of a matrix, you can use the trace() function"
   ]
  },
  {
   "cell_type": "code",
   "execution_count": 44,
   "id": "43810c46-859f-428e-a74f-8450ed03559e",
   "metadata": {
    "id": "43810c46-859f-428e-a74f-8450ed03559e",
    "outputId": "36a54073-8816-40df-c91e-97da4c7cbb4e"
   },
   "outputs": [
    {
     "name": "stdout",
     "output_type": "stream",
     "text": [
      "15\n"
     ]
    }
   ],
   "source": [
    "r1 = [1, 9, 5]\n",
    "r2 = [8, 5, 9]\n",
    "r3 = [5, 8, 9]\n",
    "nums = np.array([r1, r2, r3])\n",
    "trace = np.trace(nums)\n",
    "print(trace)"
   ]
  },
  {
   "cell_type": "markdown",
   "id": "a8efe6b5-f54c-4868-8188-e4e85e627a9a",
   "metadata": {
    "id": "a8efe6b5-f54c-4868-8188-e4e85e627a9a"
   },
   "source": [
    "##  \n",
    "### <span style=\"color:#127C02\">*Numpy Arrays and Memory*</span>\n",
    "\n",
    "Numpy uses pass-by-reference semantics so that slice operations are views into the array without implicit copying, which is consistent with Python’s semantics. This is particularly helpful with large arrays that already strain available memory. In Numpy terminology, slicing creates views (no copying) and advanced indexing creates copies. "
   ]
  },
  {
   "cell_type": "code",
   "execution_count": 45,
   "id": "b42f4c13-4985-4be3-8023-3aa12262728f",
   "metadata": {
    "colab": {
     "base_uri": "https://localhost:8080/"
    },
    "executionInfo": {
     "elapsed": 420,
     "status": "ok",
     "timestamp": 1670178594775,
     "user": {
      "displayName": "Thammakorn SAETHANG",
      "userId": "08182570455347153646"
     },
     "user_tz": -420
    },
    "id": "b42f4c13-4985-4be3-8023-3aa12262728f",
    "outputId": "ae703c1c-adc9-4657-bac4-dd23beea2c10"
   },
   "outputs": [
    {
     "name": "stdout",
     "output_type": "stream",
     "text": [
      "Before change\n",
      "[[0. 0. 0.]\n",
      " [0. 0. 0.]\n",
      " [0. 0. 0.]]\n"
     ]
    }
   ],
   "source": [
    "zeros = np.zeros((3, 3))\n",
    "print(\"Before change\")\n",
    "print(zeros)"
   ]
  },
  {
   "cell_type": "code",
   "execution_count": 46,
   "id": "fab08c31-697d-474b-b6ad-de6adb9685ca",
   "metadata": {
    "colab": {
     "base_uri": "https://localhost:8080/"
    },
    "executionInfo": {
     "elapsed": 436,
     "status": "ok",
     "timestamp": 1670178606242,
     "user": {
      "displayName": "Thammakorn SAETHANG",
      "userId": "08182570455347153646"
     },
     "user_tz": -420
    },
    "id": "fab08c31-697d-474b-b6ad-de6adb9685ca",
    "outputId": "485b5f90-790e-49f5-ae7a-710a6758b4a2"
   },
   "outputs": [
    {
     "name": "stdout",
     "output_type": "stream",
     "text": [
      "x:\n",
      "[0. 0. 0.]\n"
     ]
    }
   ],
   "source": [
    "# x is slice of zeros\n",
    "x = zeros[1, :]\n",
    "print(\"x:\")\n",
    "print(x)"
   ]
  },
  {
   "cell_type": "code",
   "execution_count": 47,
   "id": "d066887c-a759-4887-8d6a-4bd9323613f8",
   "metadata": {
    "colab": {
     "base_uri": "https://localhost:8080/"
    },
    "executionInfo": {
     "elapsed": 431,
     "status": "ok",
     "timestamp": 1670178651601,
     "user": {
      "displayName": "Thammakorn SAETHANG",
      "userId": "08182570455347153646"
     },
     "user_tz": -420
    },
    "id": "d066887c-a759-4887-8d6a-4bd9323613f8",
    "outputId": "4dd9a236-b65c-4048-a045-c16321bb2170"
   },
   "outputs": [
    {
     "name": "stdout",
     "output_type": "stream",
     "text": [
      "[1. 0. 0.]\n"
     ]
    }
   ],
   "source": [
    "x[0] = 1\n",
    "print(x)"
   ]
  },
  {
   "cell_type": "code",
   "execution_count": 48,
   "id": "47b51426-58ad-43cc-917c-1a2cc78226b8",
   "metadata": {
    "colab": {
     "base_uri": "https://localhost:8080/"
    },
    "executionInfo": {
     "elapsed": 343,
     "status": "ok",
     "timestamp": 1670178655267,
     "user": {
      "displayName": "Thammakorn SAETHANG",
      "userId": "08182570455347153646"
     },
     "user_tz": -420
    },
    "id": "47b51426-58ad-43cc-917c-1a2cc78226b8",
    "outputId": "cbf95b6b-0eb8-4521-f780-82e75672f03f"
   },
   "outputs": [
    {
     "name": "stdout",
     "output_type": "stream",
     "text": [
      "After change\n",
      "[[0. 0. 0.]\n",
      " [1. 0. 0.]\n",
      " [0. 0. 0.]]\n"
     ]
    }
   ],
   "source": [
    "print(\"After change\")\n",
    "print(zeros)"
   ]
  },
  {
   "cell_type": "markdown",
   "id": "c16d5fde-6c45-4ae1-b400-6e1cb5d73359",
   "metadata": {
    "id": "c16d5fde-6c45-4ae1-b400-6e1cb5d73359"
   },
   "source": [
    "\\\n",
    "Using advanced indexing"
   ]
  },
  {
   "cell_type": "code",
   "execution_count": 49,
   "id": "7e17b84d-8ecb-4ab6-a23a-1b55b9b11e5e",
   "metadata": {
    "colab": {
     "base_uri": "https://localhost:8080/"
    },
    "executionInfo": {
     "elapsed": 412,
     "status": "ok",
     "timestamp": 1670178718779,
     "user": {
      "displayName": "Thammakorn SAETHANG",
      "userId": "08182570455347153646"
     },
     "user_tz": -420
    },
    "id": "7e17b84d-8ecb-4ab6-a23a-1b55b9b11e5e",
    "outputId": "6ce6d42d-2e69-48b0-91ed-79dc0100f762"
   },
   "outputs": [
    {
     "name": "stdout",
     "output_type": "stream",
     "text": [
      "Before change\n",
      "[[0. 0. 0.]\n",
      " [0. 0. 0.]\n",
      " [0. 0. 0.]]\n",
      "x:\n",
      "[[0. 0. 0.]]\n",
      "After change\n",
      "[[0. 0. 0.]\n",
      " [0. 0. 0.]\n",
      " [0. 0. 0.]]\n"
     ]
    }
   ],
   "source": [
    "zeros = np.zeros((3, 3))\n",
    "print(\"Before change\")\n",
    "print(zeros)\n",
    "\n",
    "x = zeros[[1],:] # notice [1]\n",
    "print(\"x:\")\n",
    "print(x)\n",
    "x[0] = 1\n",
    "print(\"After change\")\n",
    "print(zeros)"
   ]
  },
  {
   "cell_type": "markdown",
   "id": "d06a6a1f-27a4-461b-b5e7-0d74ec402d1c",
   "metadata": {
    "id": "d06a6a1f-27a4-461b-b5e7-0d74ec402d1c"
   },
   "source": [
    "\\\n",
    "Using .copy()"
   ]
  },
  {
   "cell_type": "code",
   "execution_count": 50,
   "id": "25dd1cc7-b105-4b5d-9f55-a95127a01117",
   "metadata": {
    "id": "25dd1cc7-b105-4b5d-9f55-a95127a01117",
    "outputId": "c0abbdb8-8599-435b-a7e9-b20c865c9e62"
   },
   "outputs": [
    {
     "name": "stdout",
     "output_type": "stream",
     "text": [
      "Before change\n",
      "[[0. 0. 0.]\n",
      " [0. 0. 0.]\n",
      " [0. 0. 0.]]\n",
      "x:\n",
      "[0. 0. 0.]\n",
      "After change\n",
      "[[0. 0. 0.]\n",
      " [0. 0. 0.]\n",
      " [0. 0. 0.]]\n"
     ]
    }
   ],
   "source": [
    "zeros = np.zeros((3, 3))\n",
    "print(\"Before change\")\n",
    "print(zeros)\n",
    "\n",
    "# x is slice of zeros\n",
    "x = zeros[1, :].copy()\n",
    "print(\"x:\")\n",
    "print(x)\n",
    "x[0] = 1\n",
    "print(\"After change\")\n",
    "print(zeros)"
   ]
  },
  {
   "cell_type": "markdown",
   "id": "2b6ccaf9-da33-4ba2-bdf2-1bdf5979309b",
   "metadata": {
    "id": "2b6ccaf9-da33-4ba2-bdf2-1bdf5979309b"
   },
   "source": [
    "\\\n",
    "As shown in examples above, be careful when assigning (use operator \"=\") an array to variable"
   ]
  },
  {
   "cell_type": "code",
   "execution_count": 51,
   "id": "fcb539b0-0a11-4963-b73c-156fe7507d83",
   "metadata": {
    "colab": {
     "base_uri": "https://localhost:8080/"
    },
    "executionInfo": {
     "elapsed": 326,
     "status": "ok",
     "timestamp": 1670178861671,
     "user": {
      "displayName": "Thammakorn SAETHANG",
      "userId": "08182570455347153646"
     },
     "user_tz": -420
    },
    "id": "fcb539b0-0a11-4963-b73c-156fe7507d83",
    "outputId": "f35200fd-c6b2-403a-dd0d-cdd36276ff53"
   },
   "outputs": [
    {
     "name": "stdout",
     "output_type": "stream",
     "text": [
      "[[nan  0.  0.]\n",
      " [ 0.  0.  0.]\n",
      " [ 0.  0.  0.]]\n"
     ]
    }
   ],
   "source": [
    "zeros = np.zeros((3, 3))\n",
    "x = zeros # pass-by-reference, not copy\n",
    "x[0,0] = np.NaN\n",
    "\n",
    "print(zeros)"
   ]
  },
  {
   "cell_type": "code",
   "execution_count": 52,
   "id": "f786cb55-0936-4f6e-be61-9fb6c8c8d827",
   "metadata": {
    "colab": {
     "base_uri": "https://localhost:8080/"
    },
    "executionInfo": {
     "elapsed": 456,
     "status": "ok",
     "timestamp": 1670178865766,
     "user": {
      "displayName": "Thammakorn SAETHANG",
      "userId": "08182570455347153646"
     },
     "user_tz": -420
    },
    "id": "f786cb55-0936-4f6e-be61-9fb6c8c8d827",
    "outputId": "13d90176-4114-4bc2-fb82-9f768ee63c49"
   },
   "outputs": [
    {
     "name": "stdout",
     "output_type": "stream",
     "text": [
      "[[0. 0. 0.]\n",
      " [0. 0. 0.]\n",
      " [0. 0. 0.]]\n"
     ]
    }
   ],
   "source": [
    "zeros = np.zeros((3, 3))\n",
    "x = zeros.copy()\n",
    "x[0,0] = np.NaN\n",
    "\n",
    "print(zeros)"
   ]
  },
  {
   "cell_type": "markdown",
   "id": "bc8c18df-9fd1-461b-a7ea-72d982b90814",
   "metadata": {
    "id": "bc8c18df-9fd1-461b-a7ea-72d982b90814"
   },
   "source": [
    "##  \n",
    "### <span style=\"color:#127C02\">*Masked Arrays*</span>\n",
    "\n",
    "Numpy also allows for masking sections of Numpy arrays. This is very popular in image processing:"
   ]
  },
  {
   "cell_type": "code",
   "execution_count": 53,
   "id": "7a01ed8d-5609-4c99-bdf7-311367413724",
   "metadata": {
    "colab": {
     "base_uri": "https://localhost:8080/"
    },
    "executionInfo": {
     "elapsed": 413,
     "status": "ok",
     "timestamp": 1670179032636,
     "user": {
      "displayName": "Thammakorn SAETHANG",
      "userId": "08182570455347153646"
     },
     "user_tz": -420
    },
    "id": "7a01ed8d-5609-4c99-bdf7-311367413724",
    "outputId": "85be8353-2aa6-4381-ac9a-27896d7161e1"
   },
   "outputs": [
    {
     "name": "stdout",
     "output_type": "stream",
     "text": [
      "[ 2.  1.  3. nan  5.  2.  3. nan]\n"
     ]
    },
    {
     "data": {
      "text/plain": [
       "nan"
      ]
     },
     "execution_count": 53,
     "metadata": {},
     "output_type": "execute_result"
    }
   ],
   "source": [
    "x = np.array([2, 1, 3, np.nan, 5, 2, 3, np.nan])\n",
    "print(x)\n",
    "np.mean(x)"
   ]
  },
  {
   "cell_type": "code",
   "execution_count": 54,
   "id": "f59670ff-6596-4659-b307-d18796732637",
   "metadata": {
    "colab": {
     "base_uri": "https://localhost:8080/"
    },
    "executionInfo": {
     "elapsed": 350,
     "status": "ok",
     "timestamp": 1670179036669,
     "user": {
      "displayName": "Thammakorn SAETHANG",
      "userId": "08182570455347153646"
     },
     "user_tz": -420
    },
    "id": "f59670ff-6596-4659-b307-d18796732637",
    "outputId": "7e26669c-7811-45ef-82e4-a83eb125d49a"
   },
   "outputs": [
    {
     "name": "stdout",
     "output_type": "stream",
     "text": [
      "[2.0 1.0 3.0 -- 5.0 2.0 3.0 --]\n"
     ]
    },
    {
     "data": {
      "text/plain": [
       "2.6666666666666665"
      ]
     },
     "execution_count": 54,
     "metadata": {},
     "output_type": "execute_result"
    }
   ],
   "source": [
    "m = np.ma.masked_array(x, np.isnan(x))\n",
    "print(m)\n",
    "np.mean(m)"
   ]
  },
  {
   "cell_type": "code",
   "execution_count": 55,
   "id": "0cef4bde-7191-4d7d-8b91-8799133bbbae",
   "metadata": {
    "colab": {
     "base_uri": "https://localhost:8080/"
    },
    "executionInfo": {
     "elapsed": 394,
     "status": "ok",
     "timestamp": 1670179062738,
     "user": {
      "displayName": "Thammakorn SAETHANG",
      "userId": "08182570455347153646"
     },
     "user_tz": -420
    },
    "id": "0cef4bde-7191-4d7d-8b91-8799133bbbae",
    "outputId": "0cde7ac8-3612-4a5e-8c12-eff14cc423c2"
   },
   "outputs": [
    {
     "name": "stdout",
     "output_type": "stream",
     "text": [
      "[2. 1. 3. 0. 5. 2. 3. 0.]\n",
      "[2.0 1.0 3.0 -- 5.0 2.0 3.0 --]\n",
      "2.0\n",
      "2.6666666666666665\n"
     ]
    }
   ],
   "source": [
    "m.fill_value = 0\n",
    "m.filled()\n",
    "c = m.filled()\n",
    "print(c)\n",
    "print(m)\n",
    "print(np.mean(c))\n",
    "print(np.mean(m))"
   ]
  },
  {
   "cell_type": "code",
   "execution_count": 56,
   "id": "7faaf575-4b0a-4cf3-82c1-81134503c9cc",
   "metadata": {
    "colab": {
     "base_uri": "https://localhost:8080/"
    },
    "executionInfo": {
     "elapsed": 340,
     "status": "ok",
     "timestamp": 1670179126872,
     "user": {
      "displayName": "Thammakorn SAETHANG",
      "userId": "08182570455347153646"
     },
     "user_tz": -420
    },
    "id": "7faaf575-4b0a-4cf3-82c1-81134503c9cc",
    "outputId": "77e23a95-421b-4707-e15c-c9ea792aee5e"
   },
   "outputs": [
    {
     "data": {
      "text/plain": [
       "2.0"
      ]
     },
     "execution_count": 56,
     "metadata": {},
     "output_type": "execute_result"
    }
   ],
   "source": [
    "m.fill_value = 0\n",
    "m = m.filled()\n",
    "np.mean(m)"
   ]
  },
  {
   "cell_type": "code",
   "execution_count": 57,
   "id": "11128af8-0b75-46be-9848-546b52791ce5",
   "metadata": {
    "id": "11128af8-0b75-46be-9848-546b52791ce5",
    "outputId": "6a834121-ed23-405e-a31f-0662326d2d5d"
   },
   "outputs": [
    {
     "data": {
      "text/plain": [
       "2.6666666666666665"
      ]
     },
     "execution_count": 57,
     "metadata": {},
     "output_type": "execute_result"
    }
   ],
   "source": [
    "# alternatively\n",
    "np.nanmean(x)"
   ]
  }
 ],
 "metadata": {
  "colab": {
   "collapsed_sections": [
    "9b8d78ee-db6f-4148-bec8-f6bd008e9d7a",
    "fd10e1b5-9def-4584-ba33-b86af826a0ef",
    "eb1e7cd8-137b-434d-8dba-f4614238aa72",
    "7fbe4d80-2285-42f8-beca-5b310ad1adb5",
    "024289bb-7f68-45eb-98e4-b45085600a1d",
    "ba13df7a-23e1-4684-91b0-0b4cf2a604eb",
    "216c1c74-44ab-43dc-a3ea-b2e938719085",
    "6dea9f8a-0787-4854-9933-f1411cd72c1e",
    "b2c88b57-939c-45d9-80d7-75b68925287c",
    "d89f111a-f0a7-4165-bd33-6896fe6c8c14",
    "32c948c8-3b49-4f1b-aae9-cb783f1a8cd8",
    "6c5e9515-b761-443e-aada-9a248c9e2046",
    "b4c6b9a0-6c32-4d1d-a74c-ddfad7358291",
    "0be45742-74b4-4030-9d4d-f04a0eaae559",
    "8a5dfc30-2310-4b7a-a125-c67d40b822b8",
    "f6300f20-97bf-44d8-b8c3-b5575f998f71",
    "654c8f6e-fe72-49a4-9689-e5548ffaac66",
    "4c97d355-a69f-4b86-a7a5-8a70ac0bf986",
    "a8efe6b5-f54c-4868-8188-e4e85e627a9a",
    "bc8c18df-9fd1-461b-a7ea-72d982b90814"
   ],
   "provenance": []
  },
  "kernelspec": {
   "display_name": "Python 3 (ipykernel)",
   "language": "python",
   "name": "python3"
  },
  "language_info": {
   "codemirror_mode": {
    "name": "ipython",
    "version": 3
   },
   "file_extension": ".py",
   "mimetype": "text/x-python",
   "name": "python",
   "nbconvert_exporter": "python",
   "pygments_lexer": "ipython3",
   "version": "3.9.7"
  }
 },
 "nbformat": 4,
 "nbformat_minor": 5
}
