{
 "cells": [
  {
   "cell_type": "markdown",
   "metadata": {
    "id": "U3ArbMi8JHGD"
   },
   "source": [
    "# แบบฝึกหัด 3"
   ]
  },
  {
   "cell_type": "markdown",
   "metadata": {
    "id": "t9RQYuu-JUwP"
   },
   "source": [
    "---"
   ]
  },
  {
   "cell_type": "code",
   "execution_count": 130,
   "metadata": {
    "id": "5LcuhePsgM1w"
   },
   "outputs": [],
   "source": [
    "import numpy as np\n",
    "import pandas as pd\n",
    "import statistics"
   ]
  },
  {
   "cell_type": "code",
   "execution_count": 131,
   "metadata": {
    "colab": {
     "base_uri": "https://localhost:8080/"
    },
    "id": "n33D83i_gzZ2",
    "outputId": "122ce74b-59dc-4427-f4f9-1e00ea1acf2c"
   },
   "outputs": [
    {
     "data": {
      "text/plain": [
       "\"from google.colab import drive\\ndrive.mount('/content/drive')\""
      ]
     },
     "execution_count": 131,
     "metadata": {},
     "output_type": "execute_result"
    }
   ],
   "source": [
    "'''from google.colab import drive\n",
    "drive.mount('/content/drive')'''"
   ]
  },
  {
   "cell_type": "markdown",
   "metadata": {
    "id": "uoKssbJRv2Xu"
   },
   "source": [
    "###  "
   ]
  },
  {
   "cell_type": "markdown",
   "metadata": {
    "id": "O-jANK7-JY2X"
   },
   "source": [
    "3.1 บริษัทให้บริการด้าน IT ครบวงจรแห่งหนึ่งได้เก็บรวบรวมข้อมูลค่าซ่อมบำรุงอุปกรณ์คอมพิวเตอร์แม่ข่ายและจำนวนลูกค้าของบริษัทในปีที่ผ่านมาเป็นดังไฟล์ ex3_1_itcost.csv  \n",
    "จงแสดงวิธีหาค่ามัธยฐานและฐานนิยมของค่าซ่อมบำรุงอุปกรณ์คอมพิวเตอร์แม่ข่าย"
   ]
  },
  {
   "cell_type": "code",
   "execution_count": 132,
   "metadata": {
    "colab": {
     "base_uri": "https://localhost:8080/",
     "height": 206
    },
    "id": "HVfgMVlcI_hm",
    "outputId": "15649054-ff34-4c77-af6a-e7ea7c681169"
   },
   "outputs": [
    {
     "data": {
      "text/html": [
       "<div>\n",
       "<style scoped>\n",
       "    .dataframe tbody tr th:only-of-type {\n",
       "        vertical-align: middle;\n",
       "    }\n",
       "\n",
       "    .dataframe tbody tr th {\n",
       "        vertical-align: top;\n",
       "    }\n",
       "\n",
       "    .dataframe thead th {\n",
       "        text-align: right;\n",
       "    }\n",
       "</style>\n",
       "<table border=\"1\" class=\"dataframe\">\n",
       "  <thead>\n",
       "    <tr style=\"text-align: right;\">\n",
       "      <th></th>\n",
       "      <th>maintenance_cost</th>\n",
       "      <th>num_customer</th>\n",
       "    </tr>\n",
       "  </thead>\n",
       "  <tbody>\n",
       "    <tr>\n",
       "      <th>0</th>\n",
       "      <td>&lt;=5000</td>\n",
       "      <td>33</td>\n",
       "    </tr>\n",
       "    <tr>\n",
       "      <th>1</th>\n",
       "      <td>5001-10000</td>\n",
       "      <td>41</td>\n",
       "    </tr>\n",
       "    <tr>\n",
       "      <th>2</th>\n",
       "      <td>10001-15000</td>\n",
       "      <td>20</td>\n",
       "    </tr>\n",
       "    <tr>\n",
       "      <th>3</th>\n",
       "      <td>15001-20000</td>\n",
       "      <td>17</td>\n",
       "    </tr>\n",
       "    <tr>\n",
       "      <th>4</th>\n",
       "      <td>20001-25000</td>\n",
       "      <td>10</td>\n",
       "    </tr>\n",
       "    <tr>\n",
       "      <th>5</th>\n",
       "      <td>25001-30000</td>\n",
       "      <td>16</td>\n",
       "    </tr>\n",
       "    <tr>\n",
       "      <th>6</th>\n",
       "      <td>&gt;=30001</td>\n",
       "      <td>5</td>\n",
       "    </tr>\n",
       "  </tbody>\n",
       "</table>\n",
       "</div>"
      ],
      "text/plain": [
       "  maintenance_cost  num_customer\n",
       "0           <=5000            33\n",
       "1       5001-10000            41\n",
       "2      10001-15000            20\n",
       "3      15001-20000            17\n",
       "4      20001-25000            10\n",
       "5      25001-30000            16\n",
       "6          >=30001             5"
      ]
     },
     "execution_count": 132,
     "metadata": {},
     "output_type": "execute_result"
    }
   ],
   "source": [
    "df_it = pd.read_csv('ex3_1_itcost.csv')\n",
    "\n",
    "df_it"
   ]
  },
  {
   "cell_type": "code",
   "execution_count": 133,
   "metadata": {
    "id": "7TwxeuVW96Ma"
   },
   "outputs": [
    {
     "name": "stdout",
     "output_type": "stream",
     "text": [
      "ค่ามัธยฐาน: 9634.65\n",
      "ค่าฐานนิยม: 8113.71\n"
     ]
    }
   ],
   "source": [
    "#split \"-\", \"<=\", \">=\"\n",
    "df_it['maintenance_cost'] = df_it['maintenance_cost'].str.replace('<=', '-')\n",
    "df_it['maintenance_cost'] = df_it['maintenance_cost'].str.replace('>=', '')\n",
    "df_it[['cost_from','cost_to']] = df_it['maintenance_cost'].str.split('-',expand=True)\n",
    "df_it['num_customer_cum'] = df_it['num_customer'].cumsum()\n",
    "#display(df_it)\n",
    "# หาค่ามัธยฐาน \n",
    "med_pos = df_it.num_customer.sum()/2\n",
    "for i in df_it.index:\n",
    "    if df_it.num_customer_cum[i] >= med_pos:\n",
    "        e=i\n",
    "        break\n",
    "lower = (int(df_it.cost_from[e])+int(df_it.cost_to[e-1]))/2\n",
    "lower = lower+( (med_pos - df_it.num_customer_cum[e-1]) / df_it.num_customer[e])*5000\n",
    "print(\"ค่ามัธยฐาน: {:.2f}\".format(lower))\n",
    "\n",
    "# ฐานนิยม\n",
    "e = np.argmax(df_it.num_customer)\n",
    "lower = (int(df_it.cost_from[e])+int(df_it.cost_to[e-1]))/2\n",
    "lower += ( df_it.num_customer[e-1]/(df_it.num_customer[e-1]+df_it.num_customer[e+1]) )*5000\n",
    "print(\"ค่าฐานนิยม: {:.2f}\".format(lower))"
   ]
  },
  {
   "cell_type": "markdown",
   "metadata": {
    "id": "BxG0p9G9-qG2",
    "tags": []
   },
   "source": [
    "###   "
   ]
  },
  {
   "cell_type": "markdown",
   "metadata": {
    "id": "JTDVG3rksTto"
   },
   "source": [
    "3.2 สุ่มตัวอย่างนักศึกษามาจำนวนหนึ่ง พบว่าคะแนนสอบวิชาสถิติ เป็นดังตาราง 'ex3_2_score.csv' จงหาค่า"
   ]
  },
  {
   "cell_type": "markdown",
   "metadata": {
    "id": "tGs8uJzvy7AY"
   },
   "source": [
    "**3.2.1 ค่าเฉลี่ย**"
   ]
  },
  {
   "cell_type": "code",
   "execution_count": 136,
   "metadata": {
    "id": "xGfGFa4kvtyH"
   },
   "outputs": [],
   "source": [
    "df_score = pd.read_csv('ex3_2_score.csv')\n",
    "boundary = df_score.score.str.split('-', expand=True).astype(int)\n",
    "df_score['ค่ากึ่งกลาง (x)'] = (boundary[0] + boundary[1]) / 2\n",
    "df_score['x^2'] = df_score['ค่ากึ่งกลาง (x)'] ** 2\n",
    "df_score['fx'] = df_score['ค่ากึ่งกลาง (x)'] * df_score['num_student']\n",
    "df_score['fx^2'] = df_score['fx'] ** 2\n",
    "df_score['num_student_cum'] = df_score['num_student'].cumsum()\n",
    "df_score[['score_from', 'score_to']] = df_score['score'].str.split('-', expand=True)"
   ]
  },
  {
   "cell_type": "code",
   "execution_count": 137,
   "metadata": {
    "id": "pDFVQTNzykLc"
   },
   "outputs": [
    {
     "data": {
      "text/plain": [
       "25.85"
      ]
     },
     "execution_count": 137,
     "metadata": {},
     "output_type": "execute_result"
    }
   ],
   "source": [
    "mean = df_score['fx'].sum() / df_score['num_student'].sum()\n",
    "mean"
   ]
  },
  {
   "cell_type": "markdown",
   "metadata": {
    "id": "HyMa-rkR1ctY"
   },
   "source": [
    "**3.2.2 ค่ามัธยฐาน**"
   ]
  },
  {
   "cell_type": "code",
   "execution_count": 138,
   "metadata": {
    "id": "nEOGj6cF-huH"
   },
   "outputs": [
    {
     "name": "stdout",
     "output_type": "stream",
     "text": [
      "25.78\n"
     ]
    }
   ],
   "source": [
    "med_pos = df_score.num_student.sum()/2\n",
    "for i in df_score.index:\n",
    "    if df_score.num_student_cum[i] >= med_pos:\n",
    "        e=i\n",
    "        break\n",
    "lower = (int(df_score.score_from[e])+int(df_score.score_to[e-1]))/2\n",
    "lower = lower+( (med_pos - df_score.num_student_cum[e-1]) / df_score.num_student[e])*5\n",
    "print(\"{:.2f}\".format(lower))"
   ]
  },
  {
   "cell_type": "markdown",
   "metadata": {
    "id": "zlLBVZ0HcXUZ"
   },
   "source": [
    "**3.2.3 ค่าฐานนิยม**"
   ]
  },
  {
   "cell_type": "code",
   "execution_count": 139,
   "metadata": {
    "id": "lNYzGH_g-mQT"
   },
   "outputs": [
    {
     "data": {
      "text/plain": [
       "22.6875"
      ]
     },
     "execution_count": 139,
     "metadata": {},
     "output_type": "execute_result"
    }
   ],
   "source": [
    "e = np.argmax(df_score.num_student)\n",
    "lower = (int(df_score.score_from[e])+int(df_score.score_to[e-1]))/2\n",
    "lower + ( df_score.num_student[e-1]/(df_score.num_student[e-1]+df_score.num_student[e+1]) )*5"
   ]
  },
  {
   "cell_type": "markdown",
   "metadata": {
    "id": "ONwLjc7wgtn4"
   },
   "source": [
    "**3.2.4 Q<sub>1</sub> และ Q<sub>3</sub>**"
   ]
  },
  {
   "cell_type": "code",
   "execution_count": 140,
   "metadata": {},
   "outputs": [],
   "source": [
    "n = df_score.num_student.sum()\n",
    "def calcul(pos, n, formula):\n",
    "    q1_pos = n*eval(formula)\n",
    "    lower = (int(df_score.score_to[pos-1])+int(df_score.score_from[pos])) / 2\n",
    "    return lower+( (q1_pos-df_score.num_student_cum[pos-1])/df_score.num_student[pos] )*5"
   ]
  },
  {
   "cell_type": "code",
   "execution_count": 141,
   "metadata": {
    "id": "vRq7lL88-xAP"
   },
   "outputs": [
    {
     "name": "stdout",
     "output_type": "stream",
     "text": [
      "Q1 = 19.07\n",
      "Q3 = 33.00\n"
     ]
    }
   ],
   "source": [
    "\n",
    "Q1 = calcul(1, 100, '1/4')\n",
    "Q3 = calcul(4, 100, '3/4')\n",
    "print(\"Q1 = {:.2f}\".format(Q1))\n",
    "print(\"Q3 = {:.2f}\".format(Q3))\n",
    "\n"
   ]
  },
  {
   "cell_type": "markdown",
   "metadata": {
    "id": "eauxI2MaguGC"
   },
   "source": [
    "**3.2.5 D<sub>7</sub>**"
   ]
  },
  {
   "cell_type": "code",
   "execution_count": 142,
   "metadata": {
    "id": "IzmNQl-t-3BZ"
   },
   "outputs": [
    {
     "name": "stdout",
     "output_type": "stream",
     "text": [
      "D7 = 31.44\n"
     ]
    }
   ],
   "source": [
    "print(\"D7 = {:.2f}\".format(calcul(4, 100, '7/10')))"
   ]
  },
  {
   "cell_type": "markdown",
   "metadata": {
    "id": "ULdnf-dHguZj"
   },
   "source": [
    "**3.2.6 P<sub>75</sub>**"
   ]
  },
  {
   "cell_type": "code",
   "execution_count": 143,
   "metadata": {
    "id": "XkSuR48b-56W"
   },
   "outputs": [
    {
     "name": "stdout",
     "output_type": "stream",
     "text": [
      "P75 = 33.00\n"
     ]
    }
   ],
   "source": [
    "print(\"P75 = {:.2f}\".format(calcul(4, 100, '75/100')))"
   ]
  },
  {
   "cell_type": "markdown",
   "metadata": {
    "id": "V8tD6c5Cgu8S"
   },
   "source": [
    "**3.2.7 พิสัย**"
   ]
  },
  {
   "cell_type": "code",
   "execution_count": 144,
   "metadata": {
    "id": "LTk6xNrm-7qZ"
   },
   "outputs": [
    {
     "data": {
      "text/plain": [
       "30.0"
      ]
     },
     "execution_count": 144,
     "metadata": {},
     "output_type": "execute_result"
    }
   ],
   "source": [
    "diff = 0.5\n",
    "range_score = (df_score.score_to.astype(float).max() + diff) - (df_score.score_from.astype(float).min() - diff)\n",
    "range_score"
   ]
  },
  {
   "cell_type": "markdown",
   "metadata": {
    "id": "9MkVinDAgvJx"
   },
   "source": [
    "**3.2.8 ส่วนเบี่ยงเบนควอร์ไทล์**"
   ]
  },
  {
   "cell_type": "code",
   "execution_count": 145,
   "metadata": {
    "id": "iG85sDHu-9eP"
   },
   "outputs": [
    {
     "name": "stdout",
     "output_type": "stream",
     "text": [
      "6.96\n"
     ]
    }
   ],
   "source": [
    "print(\"{:.2f}\".format((Q3 - Q1) / 2))"
   ]
  },
  {
   "cell_type": "markdown",
   "metadata": {
    "id": "iQ82vURdgvXp"
   },
   "source": [
    "**3.2.9 ส่วนเบี่ยงเบนมาตราฐานและความแปรปรวน**"
   ]
  },
  {
   "cell_type": "code",
   "execution_count": 146,
   "metadata": {
    "id": "3XKKNhKE-_iZ"
   },
   "outputs": [
    {
     "name": "stdout",
     "output_type": "stream",
     "text": [
      "ค่าเบี่ยงเบนมาตราฐาน: 8.36\n",
      "ค่าความแปรปรวน: 69.83\n"
     ]
    }
   ],
   "source": [
    "sigma_fx2 = sum( ((df_score.score_from.astype(int)+df_score.score_to.astype(int))/2)**2  * df_score.num_student)\n",
    "s = np.sqrt((sigma_fx2 - n*mean**2) / (n-1))\n",
    "print(\"ค่าเบี่ยงเบนมาตราฐาน: {:.2f}\".format(s))\n",
    "print(\"ค่าความแปรปรวน: {:.2f}\".format(s**2))"
   ]
  },
  {
   "cell_type": "markdown",
   "metadata": {
    "id": "34_0j7kTgvlZ"
   },
   "source": [
    "**3.2.10 สัมประสิทธิ์ของการแปรผัน**"
   ]
  },
  {
   "cell_type": "code",
   "execution_count": 147,
   "metadata": {
    "id": "Av4_wtGo_E_P"
   },
   "outputs": [
    {
     "name": "stdout",
     "output_type": "stream",
     "text": [
      "0.32\n"
     ]
    }
   ],
   "source": [
    "cv = s / (df_score.fx.sum()/100)\n",
    "print(\"{:.2f}\".format(cv))"
   ]
  },
  {
   "cell_type": "markdown",
   "metadata": {
    "id": "UOIZ8YfAT1yH"
   },
   "source": [
    "###   "
   ]
  },
  {
   "cell_type": "markdown",
   "metadata": {
    "id": "yRFqnZpMUMow"
   },
   "source": [
    "3.3 บริษัทเกมแห่งหนึ่งได้ทำการทดสอบ game engine รุ่นใหม่ ในคอมพิวเตอร์ที่มีส่วนประกอบของฮารด์แวร์ต่างๆกัน (เช่น cpu, gpu, ram, ฯลฯ) จำนวน 30 เครื่อง และทำการวัดค่า frames per second (FPS) ได้ผลดังนี้  \n",
    "60.0, 30.2, 33.4, 59.9, 40.1, 25.5, 17.4, 28.6, 45.5, 57.8,  \n",
    "22.5, 50.2, 30.8, 43.1, 50.5, 35.5, 27.4, 29.2, 55.5, 10.2,   \n",
    "32.2, 27.8, 33.8, 53.4, 25.5, 30.4, 36.1, 49.3, 18.6, 50.0   \n",
    "จงคำนวณหาค่าเฉลี่ย, ส่วนเบี่ยงเบนมาตราฐาน, ฐานนิยม, Q<sub>1</sub>, D<sub>3</sub>, P<sub>45</sub> ของค่า FPS ที่ได้จากการทดสอบ"
   ]
  },
  {
   "cell_type": "markdown",
   "metadata": {
    "id": "RrpgMvIVZMAO"
   },
   "source": [
    "ค่าเฉลี่ย:"
   ]
  },
  {
   "cell_type": "code",
   "execution_count": 148,
   "metadata": {
    "id": "WNGFpJJZ_Ne_"
   },
   "outputs": [
    {
     "data": {
      "text/plain": [
       "37.013333333333335"
      ]
     },
     "execution_count": 148,
     "metadata": {},
     "output_type": "execute_result"
    }
   ],
   "source": [
    "fps = [60.0, 30.2, 33.4, 59.9, 40.1, 25.5, 17.4, 28.6, 45.5, 57.8,\n",
    "22.5, 50.2, 30.8, 43.1, 50.5, 35.5, 27.4, 29.2, 55.5, 10.2,\n",
    "32.2, 27.8, 33.8, 53.4, 25.5, 30.4, 36.1, 49.3, 18.6, 50.0]\n",
    "statistics.mean(fps)"
   ]
  },
  {
   "cell_type": "markdown",
   "metadata": {
    "id": "9rKC0-TGZ1Jn"
   },
   "source": [
    "ส่วนเบี่ยงเบนมาตราฐาน:"
   ]
  },
  {
   "cell_type": "code",
   "execution_count": 149,
   "metadata": {
    "id": "7c5z5X4n_P-J"
   },
   "outputs": [
    {
     "data": {
      "text/plain": [
       "13.51187812906528"
      ]
     },
     "execution_count": 149,
     "metadata": {},
     "output_type": "execute_result"
    }
   ],
   "source": [
    "np.std(fps, ddof=1)"
   ]
  },
  {
   "cell_type": "markdown",
   "metadata": {
    "id": "XuKipkyhaKVO"
   },
   "source": [
    "ฐานนิยม:"
   ]
  },
  {
   "cell_type": "code",
   "execution_count": 150,
   "metadata": {
    "id": "epv26Wo-_RRn"
   },
   "outputs": [
    {
     "data": {
      "text/plain": [
       "25.5"
      ]
     },
     "execution_count": 150,
     "metadata": {},
     "output_type": "execute_result"
    }
   ],
   "source": [
    "statistics.mode(fps)"
   ]
  },
  {
   "cell_type": "markdown",
   "metadata": {
    "id": "jeBwd1pdaa-T"
   },
   "source": [
    "Q<sub>1</sub>, D<sub>3</sub> และ P<sub>45</sub>:  "
   ]
  },
  {
   "cell_type": "code",
   "execution_count": 151,
   "metadata": {
    "id": "z2iA5ocP_neI"
   },
   "outputs": [
    {
     "name": "stdout",
     "output_type": "stream",
     "text": [
      "28.00\n",
      "29.02\n",
      "32.26\n"
     ]
    }
   ],
   "source": [
    "print(\"{:.2f}\".format(np.quantile(fps, 0.25)))\n",
    "print(\"{:.2f}\".format(np.percentile(fps, 30)))\n",
    "print(\"{:.2f}\".format(np.percentile(fps, 45)))\n"
   ]
  },
  {
   "cell_type": "markdown",
   "metadata": {
    "id": "rOM3ES47mEaR"
   },
   "source": [
    "###   "
   ]
  },
  {
   "cell_type": "markdown",
   "metadata": {
    "id": "m97H7Z-bmBn5"
   },
   "source": [
    "3.4 หน่วยงานวิจัยแห่งหนึ่งได้รับมอบหมายจากทางรัฐบาลให้ทำการเปรียบเทียบระบบที่ใช้ในการผลิตพลังงานกระแสไฟฟ้าสำหรับนิคมอุตสาหกรรมแห่งหนึ่ง ระบบแรกมีกำลังการผลิตสูงสุด 10,000 เมกะวัตต์ โดยมีค่าเฉลี่ยและส่วนเบี่ยงเบนมาตราฐานของกำลังการผลิตอยู่ที่ 9,000±320 เมกะวัตต์ ระบบที่สองมีกำลังการผลิตสูงสุด 15,000 เมกะวัตต์ โดยมีค่าเฉลี่ยและส่วนเบี่ยงเบนมาตราฐานของกำลังการผลิตอยู่ที่ 14,000±900 เมกะวัตต์ จากข้อมูลนี้ทางสถาบันวิจัยจะสามารถสรุปว่าระบบใดมีกำลังการผลิตที่เที่ยงตรงกว่า\n",
    "\n"
   ]
  },
  {
   "cell_type": "code",
   "execution_count": 152,
   "metadata": {
    "id": "sikR8p5n_uTl"
   },
   "outputs": [
    {
     "name": "stdout",
     "output_type": "stream",
     "text": [
      "ระบบที่ 1 มีกำลังผลิตที่เที่ยงตรงกว่า\n"
     ]
    }
   ],
   "source": [
    "cv1 = 320 * 100 / 9000\n",
    "cv2 = 900 * 100 / 14000\n",
    "print(\"ระบบที่ 1 มีกำลังผลิตที่เที่ยงตรงกว่า\" if cv1 < cv2 else \"ระบบที่ 2 มีกำลังผลิตที่เที่ยงตรงกว่า\")"
   ]
  }
 ],
 "metadata": {
  "colab": {
   "provenance": []
  },
  "kernelspec": {
   "display_name": "Python 3",
   "language": "python",
   "name": "python3"
  },
  "language_info": {
   "codemirror_mode": {
    "name": "ipython",
    "version": 3
   },
   "file_extension": ".py",
   "mimetype": "text/x-python",
   "name": "python",
   "nbconvert_exporter": "python",
   "pygments_lexer": "ipython3",
   "version": "3.10.6"
  },
  "vscode": {
   "interpreter": {
    "hash": "916dbcbb3f70747c44a77c7bcd40155683ae19c65e1c03b4aa3499c5328201f1"
   }
  }
 },
 "nbformat": 4,
 "nbformat_minor": 4
}
