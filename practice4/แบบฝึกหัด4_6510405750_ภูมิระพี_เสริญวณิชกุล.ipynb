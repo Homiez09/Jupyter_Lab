{
 "cells": [
  {
   "cell_type": "markdown",
   "metadata": {
    "id": "U3ArbMi8JHGD"
   },
   "source": [
    "# แบบฝึกหัด 4"
   ]
  },
  {
   "cell_type": "markdown",
   "metadata": {
    "id": "t9RQYuu-JUwP"
   },
   "source": [
    "---"
   ]
  },
  {
   "cell_type": "code",
   "execution_count": 2,
   "metadata": {
    "id": "5LcuhePsgM1w"
   },
   "outputs": [],
   "source": [
    "import numpy as np\n",
    "import pandas as pd\n",
    "import statistics\n",
    "from math import perm, comb"
   ]
  },
  {
   "cell_type": "markdown",
   "metadata": {
    "id": "uoKssbJRv2Xu"
   },
   "source": [
    "###  "
   ]
  },
  {
   "cell_type": "markdown",
   "metadata": {
    "id": "ag3TNOoapF2I"
   },
   "source": [
    "4.1 ในงานเลี้ยงฉลองปีใหม่แห่งหนึ่งมีการจับฉลากรางวัลเป็น iPhone 14 Pro Max โดยในกล่องจับฉลากมีฉลากทั้งหมด 100 ฉลาก และมีเพียง 10 ฉลากที่จะได้ iPhone 14 Pro Max จงหาค่าดังต่อไปนี้  \n",
    "- ความน่าจะเป็นที่จะจับฉลากไม่ได้ iPhone 14 Pro เมื่อได้สิทธิ์จับฉลาก 3 ใบ (จับแบบไม่ใส่คืน)"
   ]
  },
  {
   "cell_type": "code",
   "execution_count": 6,
   "metadata": {
    "id": "sTxJEwzZqEk2"
   },
   "outputs": [
    {
     "data": {
      "text/plain": [
       "0.726530612244898"
      ]
     },
     "execution_count": 6,
     "metadata": {},
     "output_type": "execute_result"
    }
   ],
   "source": [
    "comb(90, 3) / comb(100, 3)"
   ]
  },
  {
   "cell_type": "markdown",
   "metadata": {
    "id": "ED-OCCPQqCRW"
   },
   "source": [
    "- ความน่าจะเป็นที่จะจับฉลากได้ iPhone 14 Pro 1 เครื่องเมื่อได้สิทธิ์จับฉลาก 3 ใบ (จับแบบไม่ใส่คืน)"
   ]
  },
  {
   "cell_type": "code",
   "execution_count": 7,
   "metadata": {
    "id": "XphrKloZXRyR"
   },
   "outputs": [
    {
     "data": {
      "text/plain": [
       "0.24768089053803338"
      ]
     },
     "execution_count": 7,
     "metadata": {},
     "output_type": "execute_result"
    }
   ],
   "source": [
    "comb(10, 1)*comb(90, 2) / comb(100, 3)"
   ]
  },
  {
   "cell_type": "markdown",
   "metadata": {
    "id": "EeXadDqerEhv"
   },
   "source": [
    "- ความน่าจะเป็นที่จะจับฉลากได้ iPhone 14 Pro ***อย่างน้อย*** 1 เครื่องเมื่อได้สิทธิ์จับฉลาก 3 ใบ (จับแบบไม่ใส่คืน)"
   ]
  },
  {
   "cell_type": "code",
   "execution_count": 12,
   "metadata": {
    "id": "gNk7pg80XU_y"
   },
   "outputs": [
    {
     "data": {
      "text/plain": [
       "0.27346938775510204"
      ]
     },
     "execution_count": 12,
     "metadata": {},
     "output_type": "execute_result"
    }
   ],
   "source": [
    "sum(comb(10, i)*comb(90, 3-i)/comb(100,3) for i in range(1,4))"
   ]
  },
  {
   "cell_type": "markdown",
   "metadata": {
    "id": "ccAoGUYJtDas"
   },
   "source": [
    "- หากนาย ก. ตกลงกับเพื่อนที่ไปงานเลี้ยงด้วยกันอีก 9 คนว่าหากใครจับฉลากได้ iPhone 14 Pro จะนำไปขายทอดตลาดและนำเงินมาแบ่งกัน จงความน่าจะเป็นที่จะจับฉลากได้ iPhone 14 Pro ***อย่างน้อย*** 1 เครื่องเมื่อ ทั้ง 10 คนได้สิทธิ์จับฉลากคนละใบ (จับแบบไม่ใส่คืน) หากกำหนดให้ตัวแปรสุ่ม X แทนจำนวนเครื่อง iPhone 14 ที่จับรางวัลได้ จงแสดงค่าของ X และฟังก์ชันความน่าจะเป็นของ X และหาค่า P(X≥1)"
   ]
  },
  {
   "cell_type": "markdown",
   "metadata": {
    "id": "hRMJhQaBX6cE"
   },
   "source": [
    "\\\n",
    "X =  {1, 2, 3, 4, 5, 6, 7, 8, 9, 10}"
   ]
  },
  {
   "cell_type": "markdown",
   "metadata": {
    "id": "bmvqy2B_waAk"
   },
   "source": [
    "\\\n",
    "ฟังก์ชันความน่าจะเป็นของ X:"
   ]
  },
  {
   "cell_type": "code",
   "execution_count": 10,
   "metadata": {
    "id": "kaCtSxufXYk_"
   },
   "outputs": [],
   "source": [
    "def p(x):\n",
    "    return comb(10, x) * comb(90, 10-x) / comb(100,10)"
   ]
  },
  {
   "cell_type": "markdown",
   "metadata": {
    "id": "9pXS-WTSxQ3J"
   },
   "source": [
    "\\\n",
    "ค่าความน่าจะเป็นที่จะจับฉลากได้ iPhone 14 Pro อย่างน้อย 1 เครื่อง, P(X≥1):  "
   ]
  },
  {
   "cell_type": "code",
   "execution_count": 15,
   "metadata": {
    "id": "8kPYDZUjXdBX"
   },
   "outputs": [
    {
     "data": {
      "text/plain": [
       "0.6695237889132748"
      ]
     },
     "execution_count": 15,
     "metadata": {},
     "output_type": "execute_result"
    }
   ],
   "source": [
    "1 - p(0)"
   ]
  },
  {
   "cell_type": "markdown",
   "metadata": {
    "id": "O-jANK7-JY2X"
   },
   "source": [
    "4.2 กล่องใบที่หนึ่งมีลูกบอล 10 ลูก  \n",
    "เป็นสีขาว 5 ลูก สีแดง 3 ลูก และสีน้ำเงิน 2 ลูก   \n",
    "กล่องใบที่สองมีลูกบอล 15 ลูก  \n",
    "เป็นสีขาว 8 ลูก สีแดง 5 ลูก และสีน้ำเงิน 2 ลูก  \n",
    "ถ้าสุ่มหยิบลูกบอล 1 ลูกจาก\n",
    "แต่ละกล่อง จงหาความน่าจะเป็นที่จะได้ลูกบอลสีเดียวกัน"
   ]
  },
  {
   "cell_type": "code",
   "execution_count": 16,
   "metadata": {
    "id": "4ixkdz1cXlVP"
   },
   "outputs": [
    {
     "data": {
      "text/plain": [
       "0.39333333333333337"
      ]
     },
     "execution_count": 16,
     "metadata": {},
     "output_type": "execute_result"
    }
   ],
   "source": [
    "(comb(5,1)/comb(10,1) * comb(8,1)/comb(15,1)) + (comb(3,1)/comb(10,1) * comb(5,1)/comb(15,1)) + (comb(2,1)/comb(10,1) * comb(2,1)/comb(15,1))"
   ]
  },
  {
   "cell_type": "markdown",
   "metadata": {
    "id": "oCLmBTL-0RLG"
   },
   "source": [
    "###  "
   ]
  },
  {
   "cell_type": "markdown",
   "metadata": {
    "id": "QYuXplcT0RLH"
   },
   "source": [
    "4.3 ตู้กาชาปองตู้หนึ่งมีฟิกเกอร์รูปสุนัข 2 ชิ้น และฟิกเกอร์รูปแมว 2 ชิ้น หากนางสาว มิคาสะ ทำการหยอดเหรียญและหมุนกาชาปองสามครั้งโดยแต่ละครั้งจะได้ฟิกเกอร์ 1 ชิ้นแบบสุ่ม โดยนางสาวมิคาสะสนใจการได้ฟิกเกอร์รูปแมว จงแสดงค่าของตัวแปรสุ่ม X ที่สนใจและฟังก์ชันความน่าจะเป็นของ X พร้อมทั้งหาค่าความน่าจะเป็นที่นางสาวมิคาสะจะได้ฟิกเกอร์แมวอย่างน้อย 1 ชิ้น, P(X≥1)"
   ]
  },
  {
   "cell_type": "markdown",
   "metadata": {
    "id": "wIDN4bmrX1SX"
   },
   "source": [
    "\\\n",
    "X = {1, 2}"
   ]
  },
  {
   "cell_type": "markdown",
   "metadata": {
    "id": "Hdq9mqxFGc89"
   },
   "source": [
    "\\\n",
    "ฟังก์ชันความน่าจะเป็นของ X:  "
   ]
  },
  {
   "cell_type": "code",
   "execution_count": 17,
   "metadata": {
    "id": "jbV5MphqXqbq"
   },
   "outputs": [],
   "source": [
    "def p(x):\n",
    "    return comb(2,x)*comb(2,3-x)/comb(4,3)"
   ]
  },
  {
   "cell_type": "markdown",
   "metadata": {
    "id": "ro8FfiO-HOb0"
   },
   "source": [
    "\\\n",
    "ค่า P(X≥1): "
   ]
  },
  {
   "cell_type": "code",
   "execution_count": 35,
   "metadata": {
    "id": "eGMlvK2UXrtE"
   },
   "outputs": [
    {
     "data": {
      "text/plain": [
       "1.0"
      ]
     },
     "execution_count": 35,
     "metadata": {},
     "output_type": "execute_result"
    }
   ],
   "source": [
    "p(1) + p(2) + p(3)"
   ]
  },
  {
   "cell_type": "markdown",
   "metadata": {
    "id": "bxFNNm7ehIX8"
   },
   "source": [
    "###  "
   ]
  },
  {
   "cell_type": "markdown",
   "metadata": {
    "id": "hKMe2agshIX8"
   },
   "source": [
    "4.4 บ่อนการพนันแห่งหนึ่งใช้เหรียญซึ่งถูกถ่วงน้ำหนัก โดยโอกาสที่เหรียญจะออกหัวเป็น 2 เท่าของโอกาสที่จะออกก้อย  \n",
    "ถ้าเหรียญขึ้นหัวเขาจะสุ่มเลข 1 ถึง 9 มา 1 หมายเลข  \n",
    "ถ้าเหรียญขึ้นก้อยเขาจะสุ่มเลข 1 ถึง 5 มา 1 หมายเลข  \n",
    "จงหาความน่าจะเป็นที่จะได้หมายเลขคู่ในการโยนเหรียญแต่ละครั้ง"
   ]
  },
  {
   "cell_type": "code",
   "execution_count": 36,
   "metadata": {
    "id": "k9pHCyxYYD3-"
   },
   "outputs": [
    {
     "data": {
      "text/plain": [
       "0.4296296296296296"
      ]
     },
     "execution_count": 36,
     "metadata": {},
     "output_type": "execute_result"
    }
   ],
   "source": [
    "(2/3)*(4/9) + (1/3)*(2/5)"
   ]
  },
  {
   "cell_type": "markdown",
   "metadata": {
    "id": "spxd7pSGIBBz"
   },
   "source": [
    "###  "
   ]
  },
  {
   "cell_type": "markdown",
   "metadata": {
    "id": "6JFJ4n80IBB0"
   },
   "source": [
    "4.5 ในการแข่งรถ Grand Prix รายการหนึ่ง มีรถเข้าร่วมแข่งขัน 9 คัน โดยทางบริษัท Tesle ได้ส่งรถเข้าร่วมแข่งขัน 4 คัน จงหา  \n",
    "- จำนวนวิธีทั้งหมดที่รถจะเข้าเส้นชัยในอันดับที่ 1, 2 ***และ*** 3  \n",
    "- ความน่าจะเป็นที่รถของทางบริษัท Tesle จะเข้าเส้นชัยในอันดับที่ 1, 2 ***และ*** 3"
   ]
  },
  {
   "cell_type": "markdown",
   "metadata": {
    "id": "aPtOvBWPPOCB"
   },
   "source": [
    "\\\n",
    "จำนวนวิธีทั้งหมดที่รถจะเข้าเส้นชัยในอันดับที่ 1, 2 และ 3:"
   ]
  },
  {
   "cell_type": "code",
   "execution_count": 37,
   "metadata": {
    "id": "yO-fuJuSYHsc"
   },
   "outputs": [
    {
     "data": {
      "text/plain": [
       "504"
      ]
     },
     "execution_count": 37,
     "metadata": {},
     "output_type": "execute_result"
    }
   ],
   "source": [
    "perm(9,3)"
   ]
  },
  {
   "cell_type": "markdown",
   "metadata": {
    "id": "SW556OQfScOK"
   },
   "source": [
    "\\\n",
    "ความน่าจะเป็นที่รถของทางบริษัท Tesle จะเข้าเส้นชัยในอันดับที่ 1, 2 และ 3:"
   ]
  },
  {
   "cell_type": "code",
   "execution_count": 38,
   "metadata": {
    "id": "JeXHIeJFYJSk"
   },
   "outputs": [
    {
     "data": {
      "text/plain": [
       "0.047619047619047616"
      ]
     },
     "execution_count": 38,
     "metadata": {},
     "output_type": "execute_result"
    }
   ],
   "source": [
    "perm(4,3)/perm(9,3)"
   ]
  },
  {
   "cell_type": "markdown",
   "metadata": {
    "id": "APRhD42HT6nZ"
   },
   "source": [
    "###  "
   ]
  },
  {
   "cell_type": "markdown",
   "metadata": {
    "id": "1hLf3dc8T6na"
   },
   "source": [
    "4.6  จากการสำรวจสภาพการมีงานทำของบัณฑิตจบใหม่คณะ ก. และ ข.\n",
    "จำนวน 80 คน ได้ข้อมูลดังตาราง"
   ]
  },
  {
   "cell_type": "markdown",
   "metadata": {
    "id": "Jeg5_4r2T4HI"
   },
   "source": [
    "|คณะ|มีงานทำ|ว่างงาน|\n",
    "|---|------|------|\n",
    "|ก.|40|20|\n",
    "|ข.|13|7|"
   ]
  },
  {
   "cell_type": "markdown",
   "metadata": {
    "id": "QmolidrBVv5v"
   },
   "source": [
    "เมื่อสุ่มมา 1 คน จงหาค่าความน่าจะเป็นดังต่อไปนี้"
   ]
  },
  {
   "cell_type": "markdown",
   "metadata": {
    "id": "Ye1nvhe5WJNA"
   },
   "source": [
    "- จบคณะ ก. และว่างงาน"
   ]
  },
  {
   "cell_type": "markdown",
   "metadata": {
    "id": "5I32Th6fWTOF"
   },
   "source": [
    "- มีงานทำ"
   ]
  },
  {
   "cell_type": "markdown",
   "metadata": {
    "id": "1cAq6LNvWTq4"
   },
   "source": [
    "- จบคณะ ข. และมีงานทำ"
   ]
  },
  {
   "cell_type": "markdown",
   "metadata": {
    "id": "qriQlqXZWUV0"
   },
   "source": [
    "- จบคณะ ข. ถ้าทราบว่าเขามีงานทำ"
   ]
  },
  {
   "cell_type": "markdown",
   "metadata": {
    "id": "cCWWZpQUWUJT"
   },
   "source": [
    "- ว่างงาน ถ้าทราบว่าจบจากคณะ ก."
   ]
  },
  {
   "cell_type": "markdown",
   "metadata": {
    "id": "q902qIytW0Nr"
   },
   "source": [
    "กำหนดให้ A แทนเหตุการณ์จบคณะ ก.  \n",
    "กำหนดให้ B แทนเหตุการณ์จบคณะ ข.  \n",
    "กำหนดให้ J แทนเหตุการณ์มีงานทำ  \n",
    "กำหนดให้ NJ แทนเหตุการณ์ว่างงาน"
   ]
  },
  {
   "cell_type": "markdown",
   "metadata": {
    "id": "Lw5-XIx8X063"
   },
   "source": [
    "\\\n",
    "จบคณะ ก. และว่างงาน:"
   ]
  },
  {
   "cell_type": "code",
   "execution_count": 39,
   "metadata": {
    "id": "Jo6MYffVYTiD"
   },
   "outputs": [
    {
     "data": {
      "text/plain": [
       "0.25"
      ]
     },
     "execution_count": 39,
     "metadata": {},
     "output_type": "execute_result"
    }
   ],
   "source": [
    "20/80"
   ]
  },
  {
   "cell_type": "markdown",
   "metadata": {
    "id": "DEG6dHtuR4hu"
   },
   "source": [
    "\\\n",
    "มีงานทำ:"
   ]
  },
  {
   "cell_type": "code",
   "execution_count": 41,
   "metadata": {
    "id": "25WurgTbYUzL"
   },
   "outputs": [
    {
     "data": {
      "text/plain": [
       "133"
      ]
     },
     "execution_count": 41,
     "metadata": {},
     "output_type": "execute_result"
    }
   ],
   "source": [
    "53+80"
   ]
  },
  {
   "cell_type": "markdown",
   "metadata": {
    "id": "traoodaaSWkF"
   },
   "source": [
    "\\\n",
    "จบคณะ ข. และมีงานทำ:  "
   ]
  },
  {
   "cell_type": "code",
   "execution_count": 42,
   "metadata": {
    "id": "bf_CC5hrYXp4"
   },
   "outputs": [
    {
     "data": {
      "text/plain": [
       "0.1625"
      ]
     },
     "execution_count": 42,
     "metadata": {},
     "output_type": "execute_result"
    }
   ],
   "source": [
    "13/80"
   ]
  },
  {
   "cell_type": "markdown",
   "metadata": {
    "id": "nr2h1OmFTA0p"
   },
   "source": [
    "\\\n",
    "จบคณะ ข. ถ้าทราบว่าเขามีงานทำ:  "
   ]
  },
  {
   "cell_type": "code",
   "execution_count": 43,
   "metadata": {
    "id": "bLKPnfJtYakx"
   },
   "outputs": [
    {
     "data": {
      "text/plain": [
       "0.24528301886792453"
      ]
     },
     "execution_count": 43,
     "metadata": {},
     "output_type": "execute_result"
    }
   ],
   "source": [
    "13/53"
   ]
  },
  {
   "cell_type": "markdown",
   "metadata": {
    "id": "KMbB1ZAGTUCP"
   },
   "source": [
    "\\\n",
    "ว่างงาน ถ้าทราบว่าจบจากคณะ ก.:  "
   ]
  },
  {
   "cell_type": "code",
   "execution_count": 44,
   "metadata": {
    "id": "BqQ9_iA9Ydup"
   },
   "outputs": [
    {
     "data": {
      "text/plain": [
       "0.3333333333333333"
      ]
     },
     "execution_count": 44,
     "metadata": {},
     "output_type": "execute_result"
    }
   ],
   "source": [
    "20/60"
   ]
  },
  {
   "cell_type": "code",
   "execution_count": null,
   "metadata": {
    "id": "43JriVOsSa1k"
   },
   "outputs": [],
   "source": []
  },
  {
   "cell_type": "code",
   "execution_count": null,
   "metadata": {
    "id": "dMfdWHH0Sapf"
   },
   "outputs": [],
   "source": []
  },
  {
   "cell_type": "code",
   "execution_count": null,
   "metadata": {
    "id": "IDenapPZSaQz"
   },
   "outputs": [],
   "source": []
  },
  {
   "cell_type": "code",
   "execution_count": null,
   "metadata": {
    "id": "qJ-5VUoRSaDU"
   },
   "outputs": [],
   "source": []
  },
  {
   "cell_type": "markdown",
   "metadata": {
    "id": "Mu4lT_CApF2I"
   },
   "source": [
    "###  "
   ]
  }
 ],
 "metadata": {
  "colab": {
   "provenance": []
  },
  "kernelspec": {
   "display_name": "Python 3 (ipykernel)",
   "language": "python",
   "name": "python3"
  },
  "language_info": {
   "codemirror_mode": {
    "name": "ipython",
    "version": 3
   },
   "file_extension": ".py",
   "mimetype": "text/x-python",
   "name": "python",
   "nbconvert_exporter": "python",
   "pygments_lexer": "ipython3",
   "version": "3.10.6"
  }
 },
 "nbformat": 4,
 "nbformat_minor": 4
}
