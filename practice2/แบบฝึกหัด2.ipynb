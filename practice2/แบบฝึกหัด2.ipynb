{
 "cells": [
  {
   "cell_type": "markdown",
   "id": "d5a84c25-5dd2-4e1c-9610-0f32b929ab11",
   "metadata": {
    "id": "d5a84c25-5dd2-4e1c-9610-0f32b929ab11"
   },
   "source": [
    "# แบบฝึกหัด 2"
   ]
  },
  {
   "cell_type": "markdown",
   "id": "1de1213a-1891-4a0f-a326-f4b41157e2a2",
   "metadata": {
    "id": "1de1213a-1891-4a0f-a326-f4b41157e2a2"
   },
   "source": [
    "---"
   ]
  },
  {
   "cell_type": "markdown",
   "id": "0b2de3e5-4ca7-4040-b266-c6d233ec55b9",
   "metadata": {
    "id": "0b2de3e5-4ca7-4040-b266-c6d233ec55b9"
   },
   "source": [
    "จากข้อมูล titanic.csv ให้ทำการวิเคราะห์ข้อมูลเบื้องต้นเกี่ยวกับคอลัมน์ cabin  \n",
    "โดยแผนภาพด้านล่างนี้เป็นตำแหน่งของ cabin ตามตัวอักษรตัวแรกของรหัส cabin ที่บันทึกในชุดข้อมูล"
   ]
  },
  {
   "cell_type": "markdown",
   "id": "37cf63dc-319c-4178-9d4e-7b68cb920496",
   "metadata": {
    "id": "37cf63dc-319c-4178-9d4e-7b68cb920496"
   },
   "source": [
    "![titanic-cabin](https://upload.wikimedia.org/wikipedia/commons/thumb/0/0d/Olympic_%26_Titanic_cutaway_diagram.png/800px-Olympic_%26_Titanic_cutaway_diagram.png)"
   ]
  },
  {
   "cell_type": "markdown",
   "id": "2c29c391-d34e-4e5b-832b-8309cc048e38",
   "metadata": {
    "id": "2c29c391-d34e-4e5b-832b-8309cc048e38"
   },
   "source": [
    "ให้นิสิตสร้างคอลัมน์เพิ่ม โดยคอลัมน์ที่เพิ่มมานี้ จะเก็บข้อมูลของตัวอักษรตัวแรกที่ปรากฏในคอลัมน์ Cabin เช่น  \n",
    "- หากในคอลัมน์ Cabin เป็นค่า \"C123\" ในคอลัมน์ที่สร้างจะบันทึก \"C\"  \n",
    "- หากในคอลัมน์ Cabin เป็นค่า \"C23 C25 C27\" ในคอลัมน์ที่สร้างจะบันทึก \"C\" \n",
    "- หากในคอลัมน์ Cabin เป็นค่า \"B58 B60 C2\" ในคอลัมน์ที่สร้างจะบันทึก \"B\" \n",
    "- หากในคอลัมน์ Cabin เป็นค่า \"F2\" ในคอลัมน์ที่สร้างจะบันทึก \"F\" \n",
    "- หากในคอลัมน์ Cabin เป็นค่า NaN ในคอลัมน์ที่สร้างจะบันทึก NaN "
   ]
  },
  {
   "cell_type": "markdown",
   "id": "aae120b9-b64f-4dad-ae93-003c5a5d0ada",
   "metadata": {
    "id": "aae120b9-b64f-4dad-ae93-003c5a5d0ada"
   },
   "source": [
    "จากนั้นให้นิสิตเขียนโค้ดเพื่อตอบคำถามในแต่ละข้อ"
   ]
  },
  {
   "cell_type": "code",
   "execution_count": 19,
   "id": "8bca888a-443e-49fa-8e1e-3be829633c05",
   "metadata": {
    "id": "8bca888a-443e-49fa-8e1e-3be829633c05"
   },
   "outputs": [],
   "source": [
    "import numpy as np\n",
    "import pandas as pd"
   ]
  },
  {
   "cell_type": "code",
   "execution_count": 20,
   "id": "3a2c0f7f-f675-427e-8dab-5ce08d8fbf78",
   "metadata": {
    "id": "3a2c0f7f-f675-427e-8dab-5ce08d8fbf78",
    "outputId": "7bc1f53d-fe4a-40f5-f423-ff083c19918f"
   },
   "outputs": [
    {
     "data": {
      "text/html": [
       "<div>\n",
       "<style scoped>\n",
       "    .dataframe tbody tr th:only-of-type {\n",
       "        vertical-align: middle;\n",
       "    }\n",
       "\n",
       "    .dataframe tbody tr th {\n",
       "        vertical-align: top;\n",
       "    }\n",
       "\n",
       "    .dataframe thead th {\n",
       "        text-align: right;\n",
       "    }\n",
       "</style>\n",
       "<table border=\"1\" class=\"dataframe\">\n",
       "  <thead>\n",
       "    <tr style=\"text-align: right;\">\n",
       "      <th></th>\n",
       "      <th>PassengerId</th>\n",
       "      <th>Survived</th>\n",
       "      <th>Pclass</th>\n",
       "      <th>Name</th>\n",
       "      <th>Sex</th>\n",
       "      <th>Age</th>\n",
       "      <th>SibSp</th>\n",
       "      <th>Parch</th>\n",
       "      <th>Ticket</th>\n",
       "      <th>Fare</th>\n",
       "      <th>Cabin</th>\n",
       "      <th>Embarked</th>\n",
       "    </tr>\n",
       "  </thead>\n",
       "  <tbody>\n",
       "    <tr>\n",
       "      <th>0</th>\n",
       "      <td>1</td>\n",
       "      <td>0</td>\n",
       "      <td>3</td>\n",
       "      <td>Braund, Mr. Owen Harris</td>\n",
       "      <td>male</td>\n",
       "      <td>22.0</td>\n",
       "      <td>1</td>\n",
       "      <td>0</td>\n",
       "      <td>A/5 21171</td>\n",
       "      <td>7.2500</td>\n",
       "      <td>NaN</td>\n",
       "      <td>S</td>\n",
       "    </tr>\n",
       "    <tr>\n",
       "      <th>1</th>\n",
       "      <td>2</td>\n",
       "      <td>1</td>\n",
       "      <td>1</td>\n",
       "      <td>Cumings, Mrs. John Bradley (Florence Briggs Th...</td>\n",
       "      <td>female</td>\n",
       "      <td>38.0</td>\n",
       "      <td>1</td>\n",
       "      <td>0</td>\n",
       "      <td>PC 17599</td>\n",
       "      <td>71.2833</td>\n",
       "      <td>C85</td>\n",
       "      <td>C</td>\n",
       "    </tr>\n",
       "    <tr>\n",
       "      <th>2</th>\n",
       "      <td>3</td>\n",
       "      <td>1</td>\n",
       "      <td>3</td>\n",
       "      <td>Heikkinen, Miss. Laina</td>\n",
       "      <td>female</td>\n",
       "      <td>26.0</td>\n",
       "      <td>0</td>\n",
       "      <td>0</td>\n",
       "      <td>STON/O2. 3101282</td>\n",
       "      <td>7.9250</td>\n",
       "      <td>NaN</td>\n",
       "      <td>S</td>\n",
       "    </tr>\n",
       "    <tr>\n",
       "      <th>3</th>\n",
       "      <td>4</td>\n",
       "      <td>1</td>\n",
       "      <td>1</td>\n",
       "      <td>Futrelle, Mrs. Jacques Heath (Lily May Peel)</td>\n",
       "      <td>female</td>\n",
       "      <td>35.0</td>\n",
       "      <td>1</td>\n",
       "      <td>0</td>\n",
       "      <td>113803</td>\n",
       "      <td>53.1000</td>\n",
       "      <td>C123</td>\n",
       "      <td>S</td>\n",
       "    </tr>\n",
       "    <tr>\n",
       "      <th>4</th>\n",
       "      <td>5</td>\n",
       "      <td>0</td>\n",
       "      <td>3</td>\n",
       "      <td>Allen, Mr. William Henry</td>\n",
       "      <td>male</td>\n",
       "      <td>35.0</td>\n",
       "      <td>0</td>\n",
       "      <td>0</td>\n",
       "      <td>373450</td>\n",
       "      <td>8.0500</td>\n",
       "      <td>NaN</td>\n",
       "      <td>S</td>\n",
       "    </tr>\n",
       "  </tbody>\n",
       "</table>\n",
       "</div>"
      ],
      "text/plain": [
       "   PassengerId  Survived  Pclass  \\\n",
       "0            1         0       3   \n",
       "1            2         1       1   \n",
       "2            3         1       3   \n",
       "3            4         1       1   \n",
       "4            5         0       3   \n",
       "\n",
       "                                                Name     Sex   Age  SibSp  \\\n",
       "0                            Braund, Mr. Owen Harris    male  22.0      1   \n",
       "1  Cumings, Mrs. John Bradley (Florence Briggs Th...  female  38.0      1   \n",
       "2                             Heikkinen, Miss. Laina  female  26.0      0   \n",
       "3       Futrelle, Mrs. Jacques Heath (Lily May Peel)  female  35.0      1   \n",
       "4                           Allen, Mr. William Henry    male  35.0      0   \n",
       "\n",
       "   Parch            Ticket     Fare Cabin Embarked  \n",
       "0      0         A/5 21171   7.2500   NaN        S  \n",
       "1      0          PC 17599  71.2833   C85        C  \n",
       "2      0  STON/O2. 3101282   7.9250   NaN        S  \n",
       "3      0            113803  53.1000  C123        S  \n",
       "4      0            373450   8.0500   NaN        S  "
      ]
     },
     "execution_count": 20,
     "metadata": {},
     "output_type": "execute_result"
    }
   ],
   "source": [
    "df = pd.read_csv(\"titanic.csv\")\n",
    "df.head()"
   ]
  },
  {
   "cell_type": "markdown",
   "id": "a22810d5-b0e3-47d8-95b9-c45da2cc085e",
   "metadata": {
    "id": "a22810d5-b0e3-47d8-95b9-c45da2cc085e"
   },
   "source": [
    "นิสิตแสดงวิธีสร้างคอลัมน์"
   ]
  },
  {
   "cell_type": "code",
   "execution_count": 37,
   "id": "1020deae-43bd-46f1-aa35-3f979ecfbf91",
   "metadata": {
    "id": "1020deae-43bd-46f1-aa35-3f979ecfbf91"
   },
   "outputs": [
    {
     "data": {
      "text/html": [
       "<div>\n",
       "<style scoped>\n",
       "    .dataframe tbody tr th:only-of-type {\n",
       "        vertical-align: middle;\n",
       "    }\n",
       "\n",
       "    .dataframe tbody tr th {\n",
       "        vertical-align: top;\n",
       "    }\n",
       "\n",
       "    .dataframe thead th {\n",
       "        text-align: right;\n",
       "    }\n",
       "</style>\n",
       "<table border=\"1\" class=\"dataframe\">\n",
       "  <thead>\n",
       "    <tr style=\"text-align: right;\">\n",
       "      <th></th>\n",
       "      <th>PassengerId</th>\n",
       "      <th>Survived</th>\n",
       "      <th>Pclass</th>\n",
       "      <th>Name</th>\n",
       "      <th>Sex</th>\n",
       "      <th>Age</th>\n",
       "      <th>SibSp</th>\n",
       "      <th>Parch</th>\n",
       "      <th>Ticket</th>\n",
       "      <th>Fare</th>\n",
       "      <th>Cabin</th>\n",
       "      <th>Embarked</th>\n",
       "      <th>Cabin_2</th>\n",
       "    </tr>\n",
       "  </thead>\n",
       "  <tbody>\n",
       "    <tr>\n",
       "      <th>0</th>\n",
       "      <td>1</td>\n",
       "      <td>0</td>\n",
       "      <td>3</td>\n",
       "      <td>Braund, Mr. Owen Harris</td>\n",
       "      <td>male</td>\n",
       "      <td>22.0</td>\n",
       "      <td>1</td>\n",
       "      <td>0</td>\n",
       "      <td>A/5 21171</td>\n",
       "      <td>7.2500</td>\n",
       "      <td>NaN</td>\n",
       "      <td>S</td>\n",
       "      <td>NaN</td>\n",
       "    </tr>\n",
       "    <tr>\n",
       "      <th>1</th>\n",
       "      <td>2</td>\n",
       "      <td>1</td>\n",
       "      <td>1</td>\n",
       "      <td>Cumings, Mrs. John Bradley (Florence Briggs Th...</td>\n",
       "      <td>female</td>\n",
       "      <td>38.0</td>\n",
       "      <td>1</td>\n",
       "      <td>0</td>\n",
       "      <td>PC 17599</td>\n",
       "      <td>71.2833</td>\n",
       "      <td>C85</td>\n",
       "      <td>C</td>\n",
       "      <td>C</td>\n",
       "    </tr>\n",
       "    <tr>\n",
       "      <th>2</th>\n",
       "      <td>3</td>\n",
       "      <td>1</td>\n",
       "      <td>3</td>\n",
       "      <td>Heikkinen, Miss. Laina</td>\n",
       "      <td>female</td>\n",
       "      <td>26.0</td>\n",
       "      <td>0</td>\n",
       "      <td>0</td>\n",
       "      <td>STON/O2. 3101282</td>\n",
       "      <td>7.9250</td>\n",
       "      <td>NaN</td>\n",
       "      <td>S</td>\n",
       "      <td>NaN</td>\n",
       "    </tr>\n",
       "    <tr>\n",
       "      <th>3</th>\n",
       "      <td>4</td>\n",
       "      <td>1</td>\n",
       "      <td>1</td>\n",
       "      <td>Futrelle, Mrs. Jacques Heath (Lily May Peel)</td>\n",
       "      <td>female</td>\n",
       "      <td>35.0</td>\n",
       "      <td>1</td>\n",
       "      <td>0</td>\n",
       "      <td>113803</td>\n",
       "      <td>53.1000</td>\n",
       "      <td>C123</td>\n",
       "      <td>S</td>\n",
       "      <td>C</td>\n",
       "    </tr>\n",
       "    <tr>\n",
       "      <th>4</th>\n",
       "      <td>5</td>\n",
       "      <td>0</td>\n",
       "      <td>3</td>\n",
       "      <td>Allen, Mr. William Henry</td>\n",
       "      <td>male</td>\n",
       "      <td>35.0</td>\n",
       "      <td>0</td>\n",
       "      <td>0</td>\n",
       "      <td>373450</td>\n",
       "      <td>8.0500</td>\n",
       "      <td>NaN</td>\n",
       "      <td>S</td>\n",
       "      <td>NaN</td>\n",
       "    </tr>\n",
       "    <tr>\n",
       "      <th>...</th>\n",
       "      <td>...</td>\n",
       "      <td>...</td>\n",
       "      <td>...</td>\n",
       "      <td>...</td>\n",
       "      <td>...</td>\n",
       "      <td>...</td>\n",
       "      <td>...</td>\n",
       "      <td>...</td>\n",
       "      <td>...</td>\n",
       "      <td>...</td>\n",
       "      <td>...</td>\n",
       "      <td>...</td>\n",
       "      <td>...</td>\n",
       "    </tr>\n",
       "    <tr>\n",
       "      <th>886</th>\n",
       "      <td>887</td>\n",
       "      <td>0</td>\n",
       "      <td>2</td>\n",
       "      <td>Montvila, Rev. Juozas</td>\n",
       "      <td>male</td>\n",
       "      <td>27.0</td>\n",
       "      <td>0</td>\n",
       "      <td>0</td>\n",
       "      <td>211536</td>\n",
       "      <td>13.0000</td>\n",
       "      <td>NaN</td>\n",
       "      <td>S</td>\n",
       "      <td>NaN</td>\n",
       "    </tr>\n",
       "    <tr>\n",
       "      <th>887</th>\n",
       "      <td>888</td>\n",
       "      <td>1</td>\n",
       "      <td>1</td>\n",
       "      <td>Graham, Miss. Margaret Edith</td>\n",
       "      <td>female</td>\n",
       "      <td>19.0</td>\n",
       "      <td>0</td>\n",
       "      <td>0</td>\n",
       "      <td>112053</td>\n",
       "      <td>30.0000</td>\n",
       "      <td>B42</td>\n",
       "      <td>S</td>\n",
       "      <td>B</td>\n",
       "    </tr>\n",
       "    <tr>\n",
       "      <th>888</th>\n",
       "      <td>889</td>\n",
       "      <td>0</td>\n",
       "      <td>3</td>\n",
       "      <td>Johnston, Miss. Catherine Helen \"Carrie\"</td>\n",
       "      <td>female</td>\n",
       "      <td>NaN</td>\n",
       "      <td>1</td>\n",
       "      <td>2</td>\n",
       "      <td>W./C. 6607</td>\n",
       "      <td>23.4500</td>\n",
       "      <td>NaN</td>\n",
       "      <td>S</td>\n",
       "      <td>NaN</td>\n",
       "    </tr>\n",
       "    <tr>\n",
       "      <th>889</th>\n",
       "      <td>890</td>\n",
       "      <td>1</td>\n",
       "      <td>1</td>\n",
       "      <td>Behr, Mr. Karl Howell</td>\n",
       "      <td>male</td>\n",
       "      <td>26.0</td>\n",
       "      <td>0</td>\n",
       "      <td>0</td>\n",
       "      <td>111369</td>\n",
       "      <td>30.0000</td>\n",
       "      <td>C148</td>\n",
       "      <td>C</td>\n",
       "      <td>C</td>\n",
       "    </tr>\n",
       "    <tr>\n",
       "      <th>890</th>\n",
       "      <td>891</td>\n",
       "      <td>0</td>\n",
       "      <td>3</td>\n",
       "      <td>Dooley, Mr. Patrick</td>\n",
       "      <td>male</td>\n",
       "      <td>32.0</td>\n",
       "      <td>0</td>\n",
       "      <td>0</td>\n",
       "      <td>370376</td>\n",
       "      <td>7.7500</td>\n",
       "      <td>NaN</td>\n",
       "      <td>Q</td>\n",
       "      <td>NaN</td>\n",
       "    </tr>\n",
       "  </tbody>\n",
       "</table>\n",
       "<p>891 rows × 13 columns</p>\n",
       "</div>"
      ],
      "text/plain": [
       "     PassengerId  Survived  Pclass  \\\n",
       "0              1         0       3   \n",
       "1              2         1       1   \n",
       "2              3         1       3   \n",
       "3              4         1       1   \n",
       "4              5         0       3   \n",
       "..           ...       ...     ...   \n",
       "886          887         0       2   \n",
       "887          888         1       1   \n",
       "888          889         0       3   \n",
       "889          890         1       1   \n",
       "890          891         0       3   \n",
       "\n",
       "                                                  Name     Sex   Age  SibSp  \\\n",
       "0                              Braund, Mr. Owen Harris    male  22.0      1   \n",
       "1    Cumings, Mrs. John Bradley (Florence Briggs Th...  female  38.0      1   \n",
       "2                               Heikkinen, Miss. Laina  female  26.0      0   \n",
       "3         Futrelle, Mrs. Jacques Heath (Lily May Peel)  female  35.0      1   \n",
       "4                             Allen, Mr. William Henry    male  35.0      0   \n",
       "..                                                 ...     ...   ...    ...   \n",
       "886                              Montvila, Rev. Juozas    male  27.0      0   \n",
       "887                       Graham, Miss. Margaret Edith  female  19.0      0   \n",
       "888           Johnston, Miss. Catherine Helen \"Carrie\"  female   NaN      1   \n",
       "889                              Behr, Mr. Karl Howell    male  26.0      0   \n",
       "890                                Dooley, Mr. Patrick    male  32.0      0   \n",
       "\n",
       "     Parch            Ticket     Fare Cabin Embarked Cabin_2  \n",
       "0        0         A/5 21171   7.2500   NaN        S     NaN  \n",
       "1        0          PC 17599  71.2833   C85        C       C  \n",
       "2        0  STON/O2. 3101282   7.9250   NaN        S     NaN  \n",
       "3        0            113803  53.1000  C123        S       C  \n",
       "4        0            373450   8.0500   NaN        S     NaN  \n",
       "..     ...               ...      ...   ...      ...     ...  \n",
       "886      0            211536  13.0000   NaN        S     NaN  \n",
       "887      0            112053  30.0000   B42        S       B  \n",
       "888      2        W./C. 6607  23.4500   NaN        S     NaN  \n",
       "889      0            111369  30.0000  C148        C       C  \n",
       "890      0            370376   7.7500   NaN        Q     NaN  \n",
       "\n",
       "[891 rows x 13 columns]"
      ]
     },
     "execution_count": 37,
     "metadata": {},
     "output_type": "execute_result"
    }
   ],
   "source": [
    "cabin_get = df.Cabin.tolist() # รับค่า Cabin มาเก็บใน cabin_get\n",
    "cabin_list = [] \n",
    "\n",
    "for i in cabin_get:\n",
    "    if i is not np.nan:\n",
    "        cabin_list.append(i[0])\n",
    "    else:\n",
    "        cabin_list.append(i)\n",
    "cabin = pd.DataFrame({'Cabin_2': cabin_list,}) # สร้างตารางใหม่ชื่อ cabin และเก็บค่าใน cabin_list ในคอลัมน์ Cabin_2\n",
    "\n",
    "final_data = pd.concat([df, cabin], axis=1) # รวมตาราง df และ cabin ให้เป็นตารางเดียว\n",
    "final_data\n"
   ]
  },
  {
   "cell_type": "markdown",
   "id": "46afd374-6101-4afe-9bf3-c7b0c3d97c61",
   "metadata": {
    "id": "46afd374-6101-4afe-9bf3-c7b0c3d97c61"
   },
   "source": [
    "1. ในแต่ละตัวอักษร Cabin มีจำนวนผู้โดยสารกี่คน และมีจำนวน NaN เท่าไหร่"
   ]
  },
  {
   "cell_type": "code",
   "execution_count": 5,
   "id": "0484cb7d-29b4-44f1-90f5-16fef7266314",
   "metadata": {
    "id": "0484cb7d-29b4-44f1-90f5-16fef7266314",
    "tags": []
   },
   "outputs": [
    {
     "data": {
      "text/plain": [
       "687"
      ]
     },
     "execution_count": 5,
     "metadata": {},
     "output_type": "execute_result"
    }
   ],
   "source": [
    "count_nan = df['Cabin'].isnull().sum()\n",
    "count_nan"
   ]
  },
  {
   "cell_type": "markdown",
   "id": "57a7dce3-b43f-42ac-ba6d-8219ff953804",
   "metadata": {
    "id": "57a7dce3-b43f-42ac-ba6d-8219ff953804"
   },
   "source": [
    "2. ในแต่ละตัวอักษร Cabin มีจำนวนผู้โดยสารที่รอดและเสียชีวิตอย่างละเท่าไหร่ cabin ใดมีจำนวนผู้เสียชีวิตมากที่สุด"
   ]
  },
  {
   "cell_type": "code",
   "execution_count": 97,
   "id": "716596c4-e25a-4ff4-be66-f0c7d17a315b",
   "metadata": {
    "id": "716596c4-e25a-4ff4-be66-f0c7d17a315b"
   },
   "outputs": [
    {
     "name": "stdout",
     "output_type": "stream",
     "text": [
      "cabin A survived: 7, died: 8\n",
      "cabin A survived: 35, died: 12\n",
      "cabin A survived: 35, died: 24\n",
      "cabin A survived: 25, died: 8\n",
      "cabin A survived: 24, died: 8\n",
      "cabin A survived: 8, died: 5\n",
      "cabin A survived: 2, died: 2\n",
      "cabin A survived: 0, died: 1\n",
      "\n",
      "Cabin C had the highest number of fatalities. (24)\n"
     ]
    }
   ],
   "source": [
    "h_cabin = ''\n",
    "h_died = 0\n",
    "final_data['Died'] = final_data.Survived.replace([0, 1], [1, 0]) # แทนค่า 0 ด้วย dead และ 1 ด้วย alive\n",
    "\n",
    "grp = final_data.filter(['Cabin_2', 'Survived', 'Died']).groupby(['Cabin_2']).sum() # กลุ่มตารางตาม Cabin_2\n",
    "for i in range(len(grp.Survived)):\n",
    "    if grp.Died[i] > h_died:\n",
    "        h_cabin = grp.index[i]\n",
    "        h_died = grp.Died[i]\n",
    "    print('cabin A survived: {}, died: {}'.format(grp.Survived[i], grp.Died[i])) # แสดงผลค่าที่ต้องการ\n",
    "print('\\nCabin {} had the highest number of fatalities. ({})'.format(h_cabin, h_died))\n"
   ]
  },
  {
   "cell_type": "markdown",
   "id": "ffe01048-7001-44ed-a318-f46c79e49fb8",
   "metadata": {
    "id": "ffe01048-7001-44ed-a318-f46c79e49fb8"
   },
   "source": [
    "3. cabin ใดมีค่า ratio ผู้รอดชีวิต / ผู้เสียชีวิต สูงสุด"
   ]
  },
  {
   "cell_type": "code",
   "execution_count": null,
   "id": "f38c0470-9acf-491d-8233-32acc258714d",
   "metadata": {
    "id": "f38c0470-9acf-491d-8233-32acc258714d"
   },
   "outputs": [],
   "source": [
    "#your code"
   ]
  },
  {
   "cell_type": "markdown",
   "id": "e2069dfd-233b-4979-83dd-b2408928d1d1",
   "metadata": {
    "id": "e2069dfd-233b-4979-83dd-b2408928d1d1"
   },
   "source": [
    "3. cabin ใดมีค่าเฉลี่ยราคาตั๋ว (Fare) สูงสุด"
   ]
  },
  {
   "cell_type": "code",
   "execution_count": null,
   "id": "ad74e21d-2d51-467d-8e90-c41d61d76c52",
   "metadata": {
    "id": "ad74e21d-2d51-467d-8e90-c41d61d76c52"
   },
   "outputs": [],
   "source": [
    "#your code"
   ]
  },
  {
   "cell_type": "markdown",
   "id": "629756d5-c13f-45e9-96d4-a26457fc61b7",
   "metadata": {
    "id": "629756d5-c13f-45e9-96d4-a26457fc61b7"
   },
   "source": [
    "4. จงแสดงค่าเฉลี่ยราคาตั๋ว (Fare) ของผู้รอดชีวิต และผู้เสียชีวิต ในแต่ละ cabin หากเปรียบเทียบราคาเฉลี่ยของผู้ที่รอดและเสียชีวิตจะพบว่า"
   ]
  },
  {
   "cell_type": "code",
   "execution_count": null,
   "id": "cbd636f4-6aa5-4766-8bd1-5eae44209c86",
   "metadata": {
    "id": "cbd636f4-6aa5-4766-8bd1-5eae44209c86"
   },
   "outputs": [],
   "source": [
    "#your code"
   ]
  },
  {
   "cell_type": "markdown",
   "id": "d88f552b-3d5d-45ed-b821-e27655e25115",
   "metadata": {
    "id": "d88f552b-3d5d-45ed-b821-e27655e25115"
   },
   "source": [
    "5. ในแต่ละ cabin มีจำนวนผู้โดยสารแยกตาม Pclass อย่างละกี่คน"
   ]
  },
  {
   "cell_type": "code",
   "execution_count": null,
   "id": "be145608-4da3-4dac-8ca1-35ef78518366",
   "metadata": {
    "id": "be145608-4da3-4dac-8ca1-35ef78518366"
   },
   "outputs": [],
   "source": [
    "#your code"
   ]
  }
 ],
 "metadata": {
  "colab": {
   "provenance": []
  },
  "kernelspec": {
   "display_name": "py38",
   "language": "python",
   "name": "python3"
  },
  "language_info": {
   "codemirror_mode": {
    "name": "ipython",
    "version": 3
   },
   "file_extension": ".py",
   "mimetype": "text/x-python",
   "name": "python",
   "nbconvert_exporter": "python",
   "pygments_lexer": "ipython3",
   "version": "3.8.12"
  },
  "vscode": {
   "interpreter": {
    "hash": "349e2672f11a642f218539d7d401b5c0e6778d7e53395089974a1584a4f9578c"
   }
  }
 },
 "nbformat": 4,
 "nbformat_minor": 5
}
