{
  "cells": [
    {
      "cell_type": "markdown",
      "metadata": {
        "id": "U3ArbMi8JHGD"
      },
      "source": [
        "# แบบฝึกหัด 4"
      ]
    },
    {
      "cell_type": "markdown",
      "metadata": {
        "id": "t9RQYuu-JUwP"
      },
      "source": [
        "---"
      ]
    },
    {
      "cell_type": "code",
      "execution_count": 1,
      "metadata": {
        "id": "5LcuhePsgM1w"
      },
      "outputs": [],
      "source": [
        "import numpy as np\n",
        "import pandas as pd\n",
        "import statistics\n",
        "from math import perm, comb"
      ]
    },
    {
      "cell_type": "markdown",
      "metadata": {
        "id": "uoKssbJRv2Xu"
      },
      "source": [
        "###  "
      ]
    },
    {
      "cell_type": "markdown",
      "metadata": {
        "id": "ag3TNOoapF2I"
      },
      "source": [
        "4.1 ในงานเลี้ยงฉลองปีใหม่แห่งหนึ่งมีการจับฉลากรางวัลเป็น iPhone 14 Pro Max โดยในกล่องจับฉลากมีฉลากทั้งหมด 100 ฉลาก และมีเพียง 10 ฉลากที่จะได้ iPhone 14 Pro Max จงหาค่าดังต่อไปนี้  \n",
        "- ความน่าจะเป็นที่จะจับฉลากไม่ได้ iPhone 14 Pro เมื่อได้สิทธิ์จับฉลาก 3 ใบ (จับแบบไม่ใส่คืน)"
      ]
    },
    {
      "cell_type": "markdown",
      "metadata": {
        "id": "9v2y-kAAqQiT"
      },
      "source": [
        "จับไม่ได้ iPhone 14 Pro คือจับ 3 ใบ จาก 90 ใบ ที่ไม่มีรางวัล"
      ]
    },
    {
      "cell_type": "code",
      "execution_count": 2,
      "metadata": {
        "colab": {
          "base_uri": "https://localhost:8080/"
        },
        "id": "sTxJEwzZqEk2",
        "outputId": "4eb5024f-4a8c-4d4f-88c7-0c890f177846"
      },
      "outputs": [
        {
          "data": {
            "text/plain": [
              "0.726530612244898"
            ]
          },
          "execution_count": 2,
          "metadata": {},
          "output_type": "execute_result"
        }
      ],
      "source": [
        "comb(90, 3)/comb(100, 3)"
      ]
    },
    {
      "cell_type": "markdown",
      "metadata": {
        "id": "HaY4RqkQdQ2F"
      },
      "source": [
        "หลายคนอาจแย้งว่าสูตรที่ใช้ด้านบนคือการจับทีเดียว 3 ใบไม่ใช่จับทีละใบ  \n",
        "แต่ความน่าจะเป็นที่ได้ไม่แตกต่างจากการจับที่ละครั้งแบบไม่ใส่คืน  \n",
        "ด้านล่างนี้คือการคิดความน่าจะเป็นแบบจับทีละใบ:  \n",
        "จับไม่ได้ใบ1 \\* จับไม่ได้ใบ2 \\* จับไม่ได้ใบ3"
      ]
    },
    {
      "cell_type": "code",
      "execution_count": 3,
      "metadata": {
        "colab": {
          "base_uri": "https://localhost:8080/"
        },
        "id": "at-decTpcZO8",
        "outputId": "5cd79083-9702-4f80-fbdf-f1da360259cf"
      },
      "outputs": [
        {
          "data": {
            "text/plain": [
              "0.726530612244898"
            ]
          },
          "execution_count": 3,
          "metadata": {},
          "output_type": "execute_result"
        }
      ],
      "source": [
        "comb(90, 1)/comb(100, 1)*comb(89, 1)/comb(99, 1)*comb(88, 1)/comb(98, 1)"
      ]
    },
    {
      "cell_type": "markdown",
      "metadata": {
        "id": "ED-OCCPQqCRW"
      },
      "source": [
        "- ความน่าจะเป็นที่จะจับฉลากได้ iPhone 14 Pro 1 เครื่องเมื่อได้สิทธิ์จับฉลาก 3 ใบ (จับแบบไม่ใส่คืน)"
      ]
    },
    {
      "cell_type": "markdown",
      "metadata": {
        "id": "uPr_mF5eoGEs"
      },
      "source": [
        "จับได้ 1 เครื่องคือได้ฉลากที่มีรางวัล 1 ใบ จาก 10 ใบ และ  \n",
        "ได้ฉลากที่ไม่มีรางวัลอีก 2 ใบ จาก 90 ใบ"
      ]
    },
    {
      "cell_type": "code",
      "execution_count": 4,
      "metadata": {
        "colab": {
          "base_uri": "https://localhost:8080/"
        },
        "id": "37M99PWLpIhL",
        "outputId": "d5fb1d27-05d8-4159-9585-9446a7dc0472"
      },
      "outputs": [
        {
          "data": {
            "text/plain": [
              "0.24768089053803338"
            ]
          },
          "execution_count": 4,
          "metadata": {},
          "output_type": "execute_result"
        }
      ],
      "source": [
        "comb(10,1)*comb(90,2) / comb(100, 3)"
      ]
    },
    {
      "cell_type": "markdown",
      "metadata": {
        "id": "WcfHcU4ZelFg"
      },
      "source": [
        "ด้านล่างนี้คือการคิดความน่าจะเป็นแบบจับทีละใบ:  \n",
        "จับได้ใบ1 \\* จับไม่ได้ใบ2 \\* จับไม่ได้ใบ3 \\*3 (เนื่องจากอาจจับได้ในครั้งที่ 1, 2 หรือ 3 ก็ได้)"
      ]
    },
    {
      "cell_type": "code",
      "execution_count": 5,
      "metadata": {
        "colab": {
          "base_uri": "https://localhost:8080/"
        },
        "id": "k1cC-CfjelFo",
        "outputId": "717c05b7-9bd7-4e94-9fe6-17b969b98692"
      },
      "outputs": [
        {
          "data": {
            "text/plain": [
              "0.24768089053803344"
            ]
          },
          "execution_count": 5,
          "metadata": {},
          "output_type": "execute_result"
        }
      ],
      "source": [
        "comb(10, 1)/comb(100, 1) * comb(90, 1)/comb(99, 1) * comb(89, 1)/comb(98, 1) * 3 #คูณ 3 เนื่องจากอาจจับได้ในครั้งที่ 1, 2 หรือ 3 ก็ได้"
      ]
    },
    {
      "cell_type": "markdown",
      "metadata": {
        "id": "EeXadDqerEhv"
      },
      "source": [
        "- ความน่าจะเป็นที่จะจับฉลากได้ iPhone 14 Pro ***อย่างน้อย*** 1 เครื่องเมื่อได้สิทธิ์จับฉลาก 3 ใบ (จับแบบไม่ใส่คืน)"
      ]
    },
    {
      "cell_type": "markdown",
      "metadata": {
        "id": "wIkOO0b1rEhw"
      },
      "source": [
        "ความน่าจะเป็นที่จะจับฉลากได้ iPhone 14 Pro อย่างน้อย 1 = p(ได้ 1) + p(ได้ 2) + p(ได้ 3)"
      ]
    },
    {
      "cell_type": "code",
      "execution_count": 6,
      "metadata": {
        "colab": {
          "base_uri": "https://localhost:8080/"
        },
        "id": "FZFD-VC6rEhw",
        "outputId": "06b23a44-1412-46ad-88ee-51bf299d4822"
      },
      "outputs": [
        {
          "data": {
            "text/plain": [
              "0.27346938775510204"
            ]
          },
          "execution_count": 6,
          "metadata": {},
          "output_type": "execute_result"
        }
      ],
      "source": [
        "(comb(10,1)*comb(90,2) + comb(10,2)*comb(90,1) + comb(10,3)*comb(90,0))/ comb(100, 3)"
      ]
    },
    {
      "cell_type": "markdown",
      "metadata": {
        "id": "ccAoGUYJtDas"
      },
      "source": [
        "- หากนาย ก. ตกลงกับเพื่อนที่ไปงานเลี้ยงด้วยกันอีก 9 คนว่าหากใครจับฉลากได้ iPhone 14 Pro จะนำไปขายทอดตลาดและนำเงินมาแบ่งกัน จงความน่าจะเป็นที่จะจับฉลากได้ iPhone 14 Pro ***อย่างน้อย*** 1 เครื่องเมื่อ ทั้ง 10 คนได้สิทธิ์จับฉลากคนละใบ (จับแบบไม่ใส่คืน) หากกำหนดให้ตัวแปรสุ่ม X แทนจำนวนเครื่อง iPhone 14 ที่จับรางวัลได้ จงแสดงค่าของ X และฟังก์ชันความน่าจะเป็นของ X และหาค่า P(X≥1)"
      ]
    },
    {
      "cell_type": "markdown",
      "metadata": {
        "id": "K9XOHEs9tDat"
      },
      "source": [
        "จับฉลาก 10 ใบ สนใจการจับได้รางวัล iPhone 14 Pro  \n",
        "ดังนั้นตัวแปนสุ่ม X = {0, 1, 2, 3, 4, 5, 6, 7, 8, 9, 10}"
      ]
    },
    {
      "cell_type": "markdown",
      "metadata": {
        "id": "bmvqy2B_waAk"
      },
      "source": [
        "\\\n",
        "ฟังก์ชันความน่าจะเป็นของ X:"
      ]
    },
    {
      "cell_type": "code",
      "execution_count": 7,
      "metadata": {
        "id": "BxQvXuQAweeU"
      },
      "outputs": [],
      "source": [
        "def p(x):\n",
        "  return comb(10, x)*comb(90, 10-x)/comb(100, 10)"
      ]
    },
    {
      "cell_type": "markdown",
      "metadata": {
        "id": "9pXS-WTSxQ3J"
      },
      "source": [
        "\\\n",
        "ค่าความน่าจะเป็นที่จะจับฉลากได้ iPhone 14 Pro อย่างน้อย 1 เครื่อง, P(X≥1):  "
      ]
    },
    {
      "cell_type": "code",
      "execution_count": 8,
      "metadata": {
        "colab": {
          "base_uri": "https://localhost:8080/"
        },
        "id": "Suezb_PLtDat",
        "outputId": "13e48525-d198-40a5-a7ba-0717635b4c7d"
      },
      "outputs": [
        {
          "data": {
            "text/plain": [
              "0.6695237889132748"
            ]
          },
          "execution_count": 8,
          "metadata": {},
          "output_type": "execute_result"
        }
      ],
      "source": [
        "sum([p(x) for  x in range(1,11)])"
      ]
    },
    {
      "cell_type": "markdown",
      "metadata": {
        "id": "afE4cf3xybRk"
      },
      "source": [
        "\\\n",
        "หรือ อีกวิธีหนึ่ง  \n",
        "เนื่องจาก P(X≥1) = 1-P(X=0) ซึ่งมีค่า"
      ]
    },
    {
      "cell_type": "code",
      "execution_count": 9,
      "metadata": {
        "colab": {
          "base_uri": "https://localhost:8080/"
        },
        "id": "61v1TC51yvzF",
        "outputId": "51bb7eb9-810b-4c1d-95a2-0e34a3b9b887"
      },
      "outputs": [
        {
          "data": {
            "text/plain": [
              "0.6695237889132748"
            ]
          },
          "execution_count": 9,
          "metadata": {},
          "output_type": "execute_result"
        }
      ],
      "source": [
        "1-p(0)"
      ]
    },
    {
      "cell_type": "markdown",
      "metadata": {
        "id": "sko5rsVdz7YZ"
      },
      "source": [
        "###  "
      ]
    },
    {
      "cell_type": "markdown",
      "metadata": {
        "id": "O-jANK7-JY2X"
      },
      "source": [
        "4.2 กล่องใบที่หนึ่งมีลูกบอล 10 ลูก  \n",
        "เป็นสีขาว 5 ลูก สีแดง 3 ลูก และสีน้ำเงิน 2 ลูก   \n",
        "กล่องใบที่สองมีลูกบอล 15 ลูก  \n",
        "เป็นสีขาว 8 ลูก สีแดง 5 ลูก และสีน้ำเงิน 2 ลูก  \n",
        "ถ้าสุ่มหยิบลูกบอล 1 ลูกจาก\n",
        "แต่ละกล่อง จงหาความน่าจะเป็นที่จะได้ลูกบอลสีเดียวกัน"
      ]
    },
    {
      "cell_type": "markdown",
      "metadata": {
        "id": "bVNlaZjmZZZn"
      },
      "source": [
        "\\\n",
        "จำนวนเหตุการณ์ได้บอลสีเดียวกัน:"
      ]
    },
    {
      "cell_type": "code",
      "execution_count": 10,
      "metadata": {
        "colab": {
          "base_uri": "https://localhost:8080/"
        },
        "id": "HVfgMVlcI_hm",
        "outputId": "ecbf3790-8eb7-4a8d-fefc-c3247acf2125"
      },
      "outputs": [
        {
          "data": {
            "text/plain": [
              "59"
            ]
          },
          "execution_count": 10,
          "metadata": {},
          "output_type": "execute_result"
        }
      ],
      "source": [
        "#ขาว 2 ลูก + แดง 2 ลูก + น้ำเงิน 2 ลูก\n",
        "comb(5,1)*comb(8,1) + comb(3,1)*comb(5,1) + comb(2,1)*comb(2,1)"
      ]
    },
    {
      "cell_type": "markdown",
      "metadata": {
        "id": "1Bov9AMxZgzj"
      },
      "source": [
        "\\\n",
        "จำนวนเหตุการณ์ที่เป็นไปได้ทั้งหมด:"
      ]
    },
    {
      "cell_type": "code",
      "execution_count": 11,
      "metadata": {
        "colab": {
          "base_uri": "https://localhost:8080/"
        },
        "id": "ZOrjFGRyZr0S",
        "outputId": "e7202b9c-18b2-4fec-d5b3-1a3dc126205c"
      },
      "outputs": [
        {
          "data": {
            "text/plain": [
              "150"
            ]
          },
          "execution_count": 11,
          "metadata": {},
          "output_type": "execute_result"
        }
      ],
      "source": [
        "comb(10,1)*comb(15,1)"
      ]
    },
    {
      "cell_type": "markdown",
      "metadata": {
        "id": "4IQvEcLaZ6Dr"
      },
      "source": [
        "\\\n",
        "ความน่าจะเป็นที่จะได้ลูกบอลสีเดียวกัน:"
      ]
    },
    {
      "cell_type": "code",
      "execution_count": 12,
      "metadata": {
        "colab": {
          "base_uri": "https://localhost:8080/"
        },
        "id": "DFRE62VOZrrx",
        "outputId": "49c5636f-00bf-4f8a-cb2d-c2bf6c507d23"
      },
      "outputs": [
        {
          "data": {
            "text/plain": [
              "0.3933333333333333"
            ]
          },
          "execution_count": 12,
          "metadata": {},
          "output_type": "execute_result"
        }
      ],
      "source": [
        "(comb(5,1)*comb(8,1) + comb(3,1)*comb(5,1) + comb(2,1)*comb(2,1)) / (comb(10,1)*comb(15,1))"
      ]
    },
    {
      "cell_type": "markdown",
      "metadata": {
        "id": "oCLmBTL-0RLG"
      },
      "source": [
        "###  "
      ]
    },
    {
      "cell_type": "markdown",
      "metadata": {
        "id": "QYuXplcT0RLH"
      },
      "source": [
        "4.3 ตู้กาชาปองตู้หนึ่งมีฟิกเกอร์รูปสุนัข 2 ชิ้น และฟิกเกอร์รูปแมว 2 ชิ้น หากนางสาว มิคาสะ ทำการหยอดเหรียญและหมุนกาชาปองสามครั้งโดยแต่ละครั้งจะได้ฟิกเกอร์ 1 ชิ้นแบบสุ่ม โดยนางสาวมิคาสะสนใจการได้ฟิกเกอร์รูปแมว จงแสดงค่าของตัวแปรสุ่ม X ที่สนใจและฟังก์ชันความน่าจะเป็นของ X พร้อมทั้งหาค่าความน่าจะเป็นที่นางสาวมิคาสะจะได้ฟิกเกอร์แมวอย่างน้อย 1 ชิ้น, P(X≥1)"
      ]
    },
    {
      "cell_type": "markdown",
      "metadata": {
        "id": "kFieVMhKE6j6"
      },
      "source": [
        "ฟิกเกอร์ในตู้กาชาปองมีทั้งหมด 4 ชิ้น ดังนั้นหากหมุน 3 ครั้งจะต้องได้ฟิกเกอร์แมวอย่างน้อย 1 ชิ้น และจะได้ฟิกเกอร์แมวมากสุด 2 ชิ้น    \n",
        "X = {1,2}"
      ]
    },
    {
      "cell_type": "markdown",
      "metadata": {
        "id": "Hdq9mqxFGc89"
      },
      "source": [
        "\\\n",
        "ฟังก์ชันความน่าจะเป็นของ X:  "
      ]
    },
    {
      "cell_type": "code",
      "execution_count": 13,
      "metadata": {
        "id": "_MHguhj-Go-W"
      },
      "outputs": [],
      "source": [
        "def p(x):\n",
        "  return comb(2, x)*comb(2, 3-x)/comb(4, 3)"
      ]
    },
    {
      "cell_type": "markdown",
      "metadata": {
        "id": "ro8FfiO-HOb0"
      },
      "source": [
        "\\\n",
        "ค่า P(X≥1): ความจริงข้อนี้รู้คำตอบอยู่แล้วว่าได้ 1 เพราะการหมุน 3 ครั้งจะต้องได้ฟิกเกอร์แมวอย่างน้อย 1 ครั้งเสมอ"
      ]
    },
    {
      "cell_type": "code",
      "execution_count": 14,
      "metadata": {
        "colab": {
          "base_uri": "https://localhost:8080/"
        },
        "id": "qlCBRv4C0Sa_",
        "outputId": "0ff62473-7180-4d16-c076-2c2cd7b9aa75"
      },
      "outputs": [
        {
          "data": {
            "text/plain": [
              "1.0"
            ]
          },
          "execution_count": 14,
          "metadata": {},
          "output_type": "execute_result"
        }
      ],
      "source": [
        "sum([p(x) for x in [1,2]])"
      ]
    },
    {
      "cell_type": "markdown",
      "metadata": {
        "id": "bxFNNm7ehIX8"
      },
      "source": [
        "###  "
      ]
    },
    {
      "cell_type": "markdown",
      "metadata": {
        "id": "hKMe2agshIX8"
      },
      "source": [
        "4.4 บ่อนการพนันแห่งหนึ่งใช้เหรียญซึ่งถูกถ่วงน้ำหนัก โดยโอกาสที่เหรียญจะออกหัวเป็น 2 เท่าของโอกาสที่จะออกก้อย  \n",
        "ถ้าเหรียญขึ้นหัวเขาจะสุ่มเลข 1 ถึง 9 มา 1 หมายเลข  \n",
        "ถ้าเหรียญขึ้นก้อยเขาจะสุ่มเลข 1 ถึง 5 มา 1 หมายเลข  \n",
        "จงหาความน่าจะเป็นที่จะได้หมายเลขคู่ในการโยนเหรียญแต่ละครั้ง"
      ]
    },
    {
      "cell_type": "markdown",
      "metadata": {
        "id": "n9e9vqGThIX8"
      },
      "source": [
        "\\\n",
        "ความน่าจะเป็นที่เหรียญออกหัวและได้เลขคู่:"
      ]
    },
    {
      "cell_type": "code",
      "execution_count": 15,
      "metadata": {
        "colab": {
          "base_uri": "https://localhost:8080/"
        },
        "id": "91TMtRncYdI_",
        "outputId": "ad78e449-a472-4186-ea7f-9909351d778d"
      },
      "outputs": [
        {
          "data": {
            "text/plain": [
              "0.2962962962962963"
            ]
          },
          "execution_count": 15,
          "metadata": {},
          "output_type": "execute_result"
        }
      ],
      "source": [
        "(2/3)*comb(4,1)/comb(9,1)"
      ]
    },
    {
      "cell_type": "markdown",
      "metadata": {
        "id": "Cso9STkJoAtl"
      },
      "source": [
        "\\\n",
        "ความน่าจะเป็นที่เหรียญออกก้อยและได้เลขคู่:"
      ]
    },
    {
      "cell_type": "code",
      "execution_count": 16,
      "metadata": {
        "colab": {
          "base_uri": "https://localhost:8080/"
        },
        "id": "EZTSiTsBkIOs",
        "outputId": "f4e22bd3-2e24-4918-ebe9-0a694a682c63"
      },
      "outputs": [
        {
          "data": {
            "text/plain": [
              "0.13333333333333333"
            ]
          },
          "execution_count": 16,
          "metadata": {},
          "output_type": "execute_result"
        }
      ],
      "source": [
        "(1/3)*comb(2,1)/comb(5,1)"
      ]
    },
    {
      "cell_type": "markdown",
      "metadata": {
        "id": "AR1-jQNqoKOj"
      },
      "source": [
        "\\\n",
        "ดังนั้นความน่าจะเป็นที่จะได้เลขคู่:"
      ]
    },
    {
      "cell_type": "code",
      "execution_count": 17,
      "metadata": {
        "colab": {
          "base_uri": "https://localhost:8080/"
        },
        "id": "DNkoH_nkkKyN",
        "outputId": "399faad8-4cbf-4b42-bcc0-cb79d713e560"
      },
      "outputs": [
        {
          "data": {
            "text/plain": [
              "0.4296296296296296"
            ]
          },
          "execution_count": 17,
          "metadata": {},
          "output_type": "execute_result"
        }
      ],
      "source": [
        "(2/3)*comb(4,1)/comb(9,1)+(1/3)*comb(2,1)/comb(5,1)"
      ]
    },
    {
      "cell_type": "markdown",
      "metadata": {
        "id": "spxd7pSGIBBz"
      },
      "source": [
        "###  "
      ]
    },
    {
      "cell_type": "markdown",
      "metadata": {
        "id": "6JFJ4n80IBB0"
      },
      "source": [
        "4.5 ในการแข่งรถ Grand Prix รายการหนึ่ง มีรถเข้าร่วมแข่งขัน 9 คัน โดยทางบริษัท Tesle ได้ส่งรถเข้าร่วมแข่งขัน 4 คัน จงหา  \n",
        "- จำนวนวิธีทั้งหมดที่รถจะเข้าเส้นชัยในอันดับที่ 1, 2 ***และ*** 3  \n",
        "- ความน่าจะเป็นที่รถของทางบริษัท Tesle จะเข้าเส้นชัยในอันดับที่ 1, 2 ***และ*** 3"
      ]
    },
    {
      "cell_type": "markdown",
      "metadata": {
        "id": "aPtOvBWPPOCB"
      },
      "source": [
        "\\\n",
        "จำนวนวิธีทั้งหมดที่รถจะเข้าเส้นชัยในอันดับที่ 1, 2 และ 3:"
      ]
    },
    {
      "cell_type": "code",
      "execution_count": 18,
      "metadata": {
        "colab": {
          "base_uri": "https://localhost:8080/"
        },
        "id": "KCakRgF8PO5A",
        "outputId": "01440e87-a698-4637-f6cc-4e0b91599eb7"
      },
      "outputs": [
        {
          "data": {
            "text/plain": [
              "504"
            ]
          },
          "execution_count": 18,
          "metadata": {},
          "output_type": "execute_result"
        }
      ],
      "source": [
        "perm(9,3)"
      ]
    },
    {
      "cell_type": "markdown",
      "metadata": {
        "id": "SW556OQfScOK"
      },
      "source": [
        "\\\n",
        "ความน่าจะเป็นที่รถของทางบริษัท Tesle จะเข้าเส้นชัยในอันดับที่ 1, 2 และ 3:"
      ]
    },
    {
      "cell_type": "code",
      "execution_count": 19,
      "metadata": {
        "colab": {
          "base_uri": "https://localhost:8080/"
        },
        "id": "N2KcukkHPPp_",
        "outputId": "4f5cb160-8aff-4910-9ab1-2c248aa9df3e"
      },
      "outputs": [
        {
          "data": {
            "text/plain": [
              "0.047619047619047616"
            ]
          },
          "execution_count": 19,
          "metadata": {},
          "output_type": "execute_result"
        }
      ],
      "source": [
        "perm(4,3) / perm(9,3)"
      ]
    },
    {
      "cell_type": "markdown",
      "metadata": {
        "id": "APRhD42HT6nZ"
      },
      "source": [
        "###  "
      ]
    },
    {
      "cell_type": "markdown",
      "metadata": {
        "id": "1hLf3dc8T6na"
      },
      "source": [
        "4.6  จากการสำรวจสภาพการมีงานทำของบัณฑิตจบใหม่คณะ ก. และ ข.\n",
        "จำนวน 80 คน ได้ข้อมูลดังตาราง"
      ]
    },
    {
      "cell_type": "markdown",
      "metadata": {
        "id": "Jeg5_4r2T4HI"
      },
      "source": [
        "|คณะ|มีงานทำ|ว่างงาน|\n",
        "|---|------|------|\n",
        "|ก.|40|20|\n",
        "|ข.|13|7|"
      ]
    },
    {
      "cell_type": "markdown",
      "metadata": {
        "id": "QmolidrBVv5v"
      },
      "source": [
        "เมื่อสุ่มมา 1 คน จงหาค่าความน่าจะเป็นดังต่อไปนี้"
      ]
    },
    {
      "cell_type": "markdown",
      "metadata": {
        "id": "Ye1nvhe5WJNA"
      },
      "source": [
        "- จบคณะ ก. และว่างงาน"
      ]
    },
    {
      "cell_type": "markdown",
      "metadata": {
        "id": "5I32Th6fWTOF"
      },
      "source": [
        "- มีงานทำ"
      ]
    },
    {
      "cell_type": "markdown",
      "metadata": {
        "id": "1cAq6LNvWTq4"
      },
      "source": [
        "- จบคณะ ข. และมีงานทำ"
      ]
    },
    {
      "cell_type": "markdown",
      "metadata": {
        "id": "qriQlqXZWUV0"
      },
      "source": [
        "- จบคณะ ข. ถ้าทราบว่าเขามีงานทำ"
      ]
    },
    {
      "cell_type": "markdown",
      "metadata": {
        "id": "cCWWZpQUWUJT"
      },
      "source": [
        "- ว่างงาน ถ้าทราบว่าจบจากคณะ ก."
      ]
    },
    {
      "cell_type": "markdown",
      "metadata": {
        "id": "q902qIytW0Nr"
      },
      "source": [
        "กำหนดให้ A แทนเหตุการณ์จบคณะ ก.  \n",
        "กำหนดให้ B แทนเหตุการณ์จบคณะ ข.  \n",
        "กำหนดให้ J แทนเหตุการณ์มีงานทำ  \n",
        "กำหนดให้ NJ แทนเหตุการณ์ว่างงาน"
      ]
    },
    {
      "cell_type": "markdown",
      "metadata": {
        "id": "Lw5-XIx8X063"
      },
      "source": [
        "\\\n",
        "จบคณะ ก. และว่างงาน:"
      ]
    },
    {
      "cell_type": "markdown",
      "metadata": {
        "id": "xiBgY3HqX6OA"
      },
      "source": [
        "หาค่า P(A ∩ NJ) ซึ่งจะมีค่าเท่ากับ P(A|NJ)*P(NJ)"
      ]
    },
    {
      "cell_type": "code",
      "execution_count": 20,
      "metadata": {
        "colab": {
          "base_uri": "https://localhost:8080/"
        },
        "id": "3M9hRWIiVvUX",
        "outputId": "bfbc80c2-8af9-4a1f-abb7-6e6ffe92af53"
      },
      "outputs": [
        {
          "data": {
            "text/plain": [
              "0.25"
            ]
          },
          "execution_count": 20,
          "metadata": {},
          "output_type": "execute_result"
        }
      ],
      "source": [
        "(20/(20+7))*((20+7)/80)"
      ]
    },
    {
      "cell_type": "markdown",
      "metadata": {
        "id": "DEG6dHtuR4hu"
      },
      "source": [
        "\\\n",
        "มีงานทำ:"
      ]
    },
    {
      "cell_type": "code",
      "execution_count": 21,
      "metadata": {
        "colab": {
          "base_uri": "https://localhost:8080/"
        },
        "id": "mo5AqCUyPPgI",
        "outputId": "b484d85f-aeed-4c98-ffa4-8aca694d6288"
      },
      "outputs": [
        {
          "data": {
            "text/plain": [
              "0.6625"
            ]
          },
          "execution_count": 21,
          "metadata": {},
          "output_type": "execute_result"
        }
      ],
      "source": [
        "53/80"
      ]
    },
    {
      "cell_type": "markdown",
      "metadata": {
        "id": "traoodaaSWkF"
      },
      "source": [
        "\\\n",
        "จบคณะ ข. และมีงานทำ:  \n",
        "หาค่า P(B ∩ J) ซึ่งจะมีค่าเท่ากับ P(B|J)*P(J)"
      ]
    },
    {
      "cell_type": "code",
      "execution_count": 22,
      "metadata": {
        "colab": {
          "base_uri": "https://localhost:8080/"
        },
        "id": "jEaKkTQySZpw",
        "outputId": "25e0eaca-1db6-4b63-f500-37dd6df5e584"
      },
      "outputs": [
        {
          "data": {
            "text/plain": [
              "0.1625"
            ]
          },
          "execution_count": 22,
          "metadata": {},
          "output_type": "execute_result"
        }
      ],
      "source": [
        "(13/53)*(53/80)"
      ]
    },
    {
      "cell_type": "markdown",
      "metadata": {
        "id": "nr2h1OmFTA0p"
      },
      "source": [
        "\\\n",
        "จบคณะ ข. ถ้าทราบว่าเขามีงานทำ:  \n",
        "หาค่า P(B | J) "
      ]
    },
    {
      "cell_type": "code",
      "execution_count": 23,
      "metadata": {
        "colab": {
          "base_uri": "https://localhost:8080/"
        },
        "id": "5RX9MY6tTA0p",
        "outputId": "25e0eaca-1db6-4b63-f500-37dd6df5e584"
      },
      "outputs": [
        {
          "data": {
            "text/plain": [
              "0.24528301886792453"
            ]
          },
          "execution_count": 23,
          "metadata": {},
          "output_type": "execute_result"
        }
      ],
      "source": [
        "(13/53)"
      ]
    },
    {
      "cell_type": "markdown",
      "metadata": {
        "id": "KMbB1ZAGTUCP"
      },
      "source": [
        "\\\n",
        "ว่างงาน ถ้าทราบว่าจบจากคณะ ก.:  \n",
        "หาค่า P(NJ | A) "
      ]
    },
    {
      "cell_type": "code",
      "execution_count": 24,
      "metadata": {
        "colab": {
          "base_uri": "https://localhost:8080/"
        },
        "id": "fn2d29-yTUCP",
        "outputId": "25e0eaca-1db6-4b63-f500-37dd6df5e584"
      },
      "outputs": [
        {
          "data": {
            "text/plain": [
              "0.3333333333333333"
            ]
          },
          "execution_count": 24,
          "metadata": {},
          "output_type": "execute_result"
        }
      ],
      "source": [
        "(20/60)"
      ]
    },
    {
      "cell_type": "code",
      "execution_count": null,
      "metadata": {
        "id": "43JriVOsSa1k"
      },
      "outputs": [],
      "source": []
    },
    {
      "cell_type": "code",
      "execution_count": null,
      "metadata": {
        "id": "dMfdWHH0Sapf"
      },
      "outputs": [],
      "source": []
    },
    {
      "cell_type": "code",
      "execution_count": null,
      "metadata": {
        "id": "IDenapPZSaQz"
      },
      "outputs": [],
      "source": []
    },
    {
      "cell_type": "code",
      "execution_count": null,
      "metadata": {
        "id": "qJ-5VUoRSaDU"
      },
      "outputs": [],
      "source": []
    },
    {
      "cell_type": "markdown",
      "metadata": {
        "id": "Mu4lT_CApF2I"
      },
      "source": [
        "###  "
      ]
    }
  ],
  "metadata": {
    "colab": {
      "provenance": []
    },
    "kernelspec": {
      "display_name": "base",
      "language": "python",
      "name": "python3"
    },
    "language_info": {
      "codemirror_mode": {
        "name": "ipython",
        "version": 3
      },
      "file_extension": ".py",
      "mimetype": "text/x-python",
      "name": "python",
      "nbconvert_exporter": "python",
      "pygments_lexer": "ipython3",
      "version": "3.9.7"
    },
    "vscode": {
      "interpreter": {
        "hash": "adb9d2aed883c8aaa9bd7ee3c2df9bef48ab1637ec6f32d61aa1d00319d9197a"
      }
    }
  },
  "nbformat": 4,
  "nbformat_minor": 0
}
