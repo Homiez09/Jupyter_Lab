{
  "cells": [
    {
      "cell_type": "markdown",
      "id": "d5a84c25-5dd2-4e1c-9610-0f32b929ab11",
      "metadata": {
        "id": "d5a84c25-5dd2-4e1c-9610-0f32b929ab11"
      },
      "source": [
        "# แบบฝึกหัด 2"
      ]
    },
    {
      "cell_type": "markdown",
      "id": "1de1213a-1891-4a0f-a326-f4b41157e2a2",
      "metadata": {
        "id": "1de1213a-1891-4a0f-a326-f4b41157e2a2"
      },
      "source": [
        "---"
      ]
    },
    {
      "cell_type": "markdown",
      "id": "0b2de3e5-4ca7-4040-b266-c6d233ec55b9",
      "metadata": {
        "id": "0b2de3e5-4ca7-4040-b266-c6d233ec55b9"
      },
      "source": [
        "จากข้อมูล titanic.csv ให้ทำการวิเคราะห์ข้อมูลเบื้องต้นเกี่ยวกับคอลัมน์ cabin  \n",
        "โดยแผนภาพด้านล่างนี้เป็นตำแหน่งของ cabin ตามตัวอักษรตัวแรกของรหัส cabin ที่บันทึกในชุดข้อมูล"
      ]
    },
    {
      "cell_type": "markdown",
      "id": "37cf63dc-319c-4178-9d4e-7b68cb920496",
      "metadata": {
        "id": "37cf63dc-319c-4178-9d4e-7b68cb920496"
      },
      "source": [
        "![titanic-cabin](https://upload.wikimedia.org/wikipedia/commons/thumb/0/0d/Olympic_%26_Titanic_cutaway_diagram.png/800px-Olympic_%26_Titanic_cutaway_diagram.png)"
      ]
    },
    {
      "cell_type": "markdown",
      "id": "2c29c391-d34e-4e5b-832b-8309cc048e38",
      "metadata": {
        "id": "2c29c391-d34e-4e5b-832b-8309cc048e38"
      },
      "source": [
        "ให้นิสิตสร้างคอลัมน์เพิ่ม โดยคอลัมน์ที่เพิ่มมานี้ จะเก็บข้อมูลของตัวอักษรตัวแรกที่ปรากฏในคอลัมน์ Cabin เช่น  \n",
        "- หากในคอลัมน์ Cabin เป็นค่า \"C123\" ในคอลัมน์ที่สร้างจะบันทึก \"C\"  \n",
        "- หากในคอลัมน์ Cabin เป็นค่า \"C23 C25 C27\" ในคอลัมน์ที่สร้างจะบันทึก \"C\" \n",
        "- หากในคอลัมน์ Cabin เป็นค่า \"B58 B60 C2\" ในคอลัมน์ที่สร้างจะบันทึก \"B\" \n",
        "- หากในคอลัมน์ Cabin เป็นค่า \"F2\" ในคอลัมน์ที่สร้างจะบันทึก \"F\" \n",
        "- หากในคอลัมน์ Cabin เป็นค่า NaN ในคอลัมน์ที่สร้างจะบันทึก NaN "
      ]
    },
    {
      "cell_type": "markdown",
      "id": "aae120b9-b64f-4dad-ae93-003c5a5d0ada",
      "metadata": {
        "id": "aae120b9-b64f-4dad-ae93-003c5a5d0ada"
      },
      "source": [
        "จากนั้นให้นิสิตเขียนโค้ดเพื่อตอบคำถามในแต่ละข้อ"
      ]
    },
    {
      "cell_type": "code",
      "execution_count": 1,
      "id": "8bca888a-443e-49fa-8e1e-3be829633c05",
      "metadata": {
        "id": "8bca888a-443e-49fa-8e1e-3be829633c05"
      },
      "outputs": [],
      "source": [
        "import numpy as np\n",
        "import pandas as pd"
      ]
    },
    {
      "cell_type": "code",
      "execution_count": 2,
      "id": "_tzaXv7EyFsL",
      "metadata": {
        "colab": {
          "base_uri": "https://localhost:8080/"
        },
        "id": "_tzaXv7EyFsL",
        "outputId": "c3e32635-f4ad-412f-da59-9c0ad0c3ae20"
      },
      "outputs": [
        {
          "data": {
            "text/plain": [
              "\" from google.colab import drive\\ndrive.mount('/content/drive') \""
            ]
          },
          "execution_count": 2,
          "metadata": {},
          "output_type": "execute_result"
        }
      ],
      "source": [
        "''' from google.colab import drive\n",
        "drive.mount('/content/drive') '''"
      ]
    },
    {
      "cell_type": "code",
      "execution_count": 3,
      "id": "3a2c0f7f-f675-427e-8dab-5ce08d8fbf78",
      "metadata": {
        "colab": {
          "base_uri": "https://localhost:8080/",
          "height": 250
        },
        "id": "3a2c0f7f-f675-427e-8dab-5ce08d8fbf78",
        "outputId": "e7100930-0bcf-4323-9a51-40e65c2fc1f1"
      },
      "outputs": [
        {
          "data": {
            "text/html": [
              "<div>\n",
              "<style scoped>\n",
              "    .dataframe tbody tr th:only-of-type {\n",
              "        vertical-align: middle;\n",
              "    }\n",
              "\n",
              "    .dataframe tbody tr th {\n",
              "        vertical-align: top;\n",
              "    }\n",
              "\n",
              "    .dataframe thead th {\n",
              "        text-align: right;\n",
              "    }\n",
              "</style>\n",
              "<table border=\"1\" class=\"dataframe\">\n",
              "  <thead>\n",
              "    <tr style=\"text-align: right;\">\n",
              "      <th></th>\n",
              "      <th>PassengerId</th>\n",
              "      <th>Survived</th>\n",
              "      <th>Pclass</th>\n",
              "      <th>Name</th>\n",
              "      <th>Sex</th>\n",
              "      <th>Age</th>\n",
              "      <th>SibSp</th>\n",
              "      <th>Parch</th>\n",
              "      <th>Ticket</th>\n",
              "      <th>Fare</th>\n",
              "      <th>Cabin</th>\n",
              "      <th>Embarked</th>\n",
              "    </tr>\n",
              "  </thead>\n",
              "  <tbody>\n",
              "    <tr>\n",
              "      <th>0</th>\n",
              "      <td>1</td>\n",
              "      <td>0</td>\n",
              "      <td>3</td>\n",
              "      <td>Braund, Mr. Owen Harris</td>\n",
              "      <td>male</td>\n",
              "      <td>22.0</td>\n",
              "      <td>1</td>\n",
              "      <td>0</td>\n",
              "      <td>A/5 21171</td>\n",
              "      <td>7.2500</td>\n",
              "      <td>NaN</td>\n",
              "      <td>S</td>\n",
              "    </tr>\n",
              "    <tr>\n",
              "      <th>1</th>\n",
              "      <td>2</td>\n",
              "      <td>1</td>\n",
              "      <td>1</td>\n",
              "      <td>Cumings, Mrs. John Bradley (Florence Briggs Th...</td>\n",
              "      <td>female</td>\n",
              "      <td>38.0</td>\n",
              "      <td>1</td>\n",
              "      <td>0</td>\n",
              "      <td>PC 17599</td>\n",
              "      <td>71.2833</td>\n",
              "      <td>C85</td>\n",
              "      <td>C</td>\n",
              "    </tr>\n",
              "    <tr>\n",
              "      <th>2</th>\n",
              "      <td>3</td>\n",
              "      <td>1</td>\n",
              "      <td>3</td>\n",
              "      <td>Heikkinen, Miss. Laina</td>\n",
              "      <td>female</td>\n",
              "      <td>26.0</td>\n",
              "      <td>0</td>\n",
              "      <td>0</td>\n",
              "      <td>STON/O2. 3101282</td>\n",
              "      <td>7.9250</td>\n",
              "      <td>NaN</td>\n",
              "      <td>S</td>\n",
              "    </tr>\n",
              "    <tr>\n",
              "      <th>3</th>\n",
              "      <td>4</td>\n",
              "      <td>1</td>\n",
              "      <td>1</td>\n",
              "      <td>Futrelle, Mrs. Jacques Heath (Lily May Peel)</td>\n",
              "      <td>female</td>\n",
              "      <td>35.0</td>\n",
              "      <td>1</td>\n",
              "      <td>0</td>\n",
              "      <td>113803</td>\n",
              "      <td>53.1000</td>\n",
              "      <td>C123</td>\n",
              "      <td>S</td>\n",
              "    </tr>\n",
              "    <tr>\n",
              "      <th>4</th>\n",
              "      <td>5</td>\n",
              "      <td>0</td>\n",
              "      <td>3</td>\n",
              "      <td>Allen, Mr. William Henry</td>\n",
              "      <td>male</td>\n",
              "      <td>35.0</td>\n",
              "      <td>0</td>\n",
              "      <td>0</td>\n",
              "      <td>373450</td>\n",
              "      <td>8.0500</td>\n",
              "      <td>NaN</td>\n",
              "      <td>S</td>\n",
              "    </tr>\n",
              "  </tbody>\n",
              "</table>\n",
              "</div>"
            ],
            "text/plain": [
              "   PassengerId  Survived  Pclass  \\\n",
              "0            1         0       3   \n",
              "1            2         1       1   \n",
              "2            3         1       3   \n",
              "3            4         1       1   \n",
              "4            5         0       3   \n",
              "\n",
              "                                                Name     Sex   Age  SibSp  \\\n",
              "0                            Braund, Mr. Owen Harris    male  22.0      1   \n",
              "1  Cumings, Mrs. John Bradley (Florence Briggs Th...  female  38.0      1   \n",
              "2                             Heikkinen, Miss. Laina  female  26.0      0   \n",
              "3       Futrelle, Mrs. Jacques Heath (Lily May Peel)  female  35.0      1   \n",
              "4                           Allen, Mr. William Henry    male  35.0      0   \n",
              "\n",
              "   Parch            Ticket     Fare Cabin Embarked  \n",
              "0      0         A/5 21171   7.2500   NaN        S  \n",
              "1      0          PC 17599  71.2833   C85        C  \n",
              "2      0  STON/O2. 3101282   7.9250   NaN        S  \n",
              "3      0            113803  53.1000  C123        S  \n",
              "4      0            373450   8.0500   NaN        S  "
            ]
          },
          "execution_count": 3,
          "metadata": {},
          "output_type": "execute_result"
        }
      ],
      "source": [
        "df = pd.read_csv(\"titanic.csv\")\n",
        "df.head()"
      ]
    },
    {
      "cell_type": "markdown",
      "id": "a22810d5-b0e3-47d8-95b9-c45da2cc085e",
      "metadata": {
        "id": "a22810d5-b0e3-47d8-95b9-c45da2cc085e"
      },
      "source": [
        "นิสิตแสดงวิธีสร้างคอลัมน์"
      ]
    },
    {
      "cell_type": "code",
      "execution_count": 4,
      "id": "IVvKEN05no6D",
      "metadata": {
        "colab": {
          "base_uri": "https://localhost:8080/",
          "height": 842
        },
        "id": "IVvKEN05no6D",
        "outputId": "c7fd63ac-3503-43c5-f83d-23fd9e550adc"
      },
      "outputs": [],
      "source": [
        "df['CabinLetter'] = df['Cabin'].str[0]"
      ]
    },
    {
      "cell_type": "code",
      "execution_count": 6,
      "id": "1020deae-43bd-46f1-aa35-3f979ecfbf91",
      "metadata": {
        "colab": {
          "base_uri": "https://localhost:8080/",
          "height": 842
        },
        "id": "1020deae-43bd-46f1-aa35-3f979ecfbf91",
        "outputId": "e9040c6d-3130-4116-e6a6-34660d399945"
      },
      "outputs": [
        {
          "data": {
            "text/html": [
              "<div>\n",
              "<style scoped>\n",
              "    .dataframe tbody tr th:only-of-type {\n",
              "        vertical-align: middle;\n",
              "    }\n",
              "\n",
              "    .dataframe tbody tr th {\n",
              "        vertical-align: top;\n",
              "    }\n",
              "\n",
              "    .dataframe thead th {\n",
              "        text-align: right;\n",
              "    }\n",
              "</style>\n",
              "<table border=\"1\" class=\"dataframe\">\n",
              "  <thead>\n",
              "    <tr style=\"text-align: right;\">\n",
              "      <th></th>\n",
              "      <th>PassengerId</th>\n",
              "      <th>Survived</th>\n",
              "      <th>Pclass</th>\n",
              "      <th>Name</th>\n",
              "      <th>Sex</th>\n",
              "      <th>Age</th>\n",
              "      <th>SibSp</th>\n",
              "      <th>Parch</th>\n",
              "      <th>Ticket</th>\n",
              "      <th>Fare</th>\n",
              "      <th>Cabin</th>\n",
              "      <th>Embarked</th>\n",
              "      <th>CabinLetter</th>\n",
              "    </tr>\n",
              "  </thead>\n",
              "  <tbody>\n",
              "    <tr>\n",
              "      <th>0</th>\n",
              "      <td>1</td>\n",
              "      <td>0</td>\n",
              "      <td>3</td>\n",
              "      <td>Braund, Mr. Owen Harris</td>\n",
              "      <td>male</td>\n",
              "      <td>22.0</td>\n",
              "      <td>1</td>\n",
              "      <td>0</td>\n",
              "      <td>A/5 21171</td>\n",
              "      <td>7.2500</td>\n",
              "      <td>NaN</td>\n",
              "      <td>S</td>\n",
              "      <td>NaN</td>\n",
              "    </tr>\n",
              "    <tr>\n",
              "      <th>1</th>\n",
              "      <td>2</td>\n",
              "      <td>1</td>\n",
              "      <td>1</td>\n",
              "      <td>Cumings, Mrs. John Bradley (Florence Briggs Th...</td>\n",
              "      <td>female</td>\n",
              "      <td>38.0</td>\n",
              "      <td>1</td>\n",
              "      <td>0</td>\n",
              "      <td>PC 17599</td>\n",
              "      <td>71.2833</td>\n",
              "      <td>C85</td>\n",
              "      <td>C</td>\n",
              "      <td>C</td>\n",
              "    </tr>\n",
              "    <tr>\n",
              "      <th>2</th>\n",
              "      <td>3</td>\n",
              "      <td>1</td>\n",
              "      <td>3</td>\n",
              "      <td>Heikkinen, Miss. Laina</td>\n",
              "      <td>female</td>\n",
              "      <td>26.0</td>\n",
              "      <td>0</td>\n",
              "      <td>0</td>\n",
              "      <td>STON/O2. 3101282</td>\n",
              "      <td>7.9250</td>\n",
              "      <td>NaN</td>\n",
              "      <td>S</td>\n",
              "      <td>NaN</td>\n",
              "    </tr>\n",
              "    <tr>\n",
              "      <th>3</th>\n",
              "      <td>4</td>\n",
              "      <td>1</td>\n",
              "      <td>1</td>\n",
              "      <td>Futrelle, Mrs. Jacques Heath (Lily May Peel)</td>\n",
              "      <td>female</td>\n",
              "      <td>35.0</td>\n",
              "      <td>1</td>\n",
              "      <td>0</td>\n",
              "      <td>113803</td>\n",
              "      <td>53.1000</td>\n",
              "      <td>C123</td>\n",
              "      <td>S</td>\n",
              "      <td>C</td>\n",
              "    </tr>\n",
              "    <tr>\n",
              "      <th>4</th>\n",
              "      <td>5</td>\n",
              "      <td>0</td>\n",
              "      <td>3</td>\n",
              "      <td>Allen, Mr. William Henry</td>\n",
              "      <td>male</td>\n",
              "      <td>35.0</td>\n",
              "      <td>0</td>\n",
              "      <td>0</td>\n",
              "      <td>373450</td>\n",
              "      <td>8.0500</td>\n",
              "      <td>NaN</td>\n",
              "      <td>S</td>\n",
              "      <td>NaN</td>\n",
              "    </tr>\n",
              "    <tr>\n",
              "      <th>...</th>\n",
              "      <td>...</td>\n",
              "      <td>...</td>\n",
              "      <td>...</td>\n",
              "      <td>...</td>\n",
              "      <td>...</td>\n",
              "      <td>...</td>\n",
              "      <td>...</td>\n",
              "      <td>...</td>\n",
              "      <td>...</td>\n",
              "      <td>...</td>\n",
              "      <td>...</td>\n",
              "      <td>...</td>\n",
              "      <td>...</td>\n",
              "    </tr>\n",
              "    <tr>\n",
              "      <th>886</th>\n",
              "      <td>887</td>\n",
              "      <td>0</td>\n",
              "      <td>2</td>\n",
              "      <td>Montvila, Rev. Juozas</td>\n",
              "      <td>male</td>\n",
              "      <td>27.0</td>\n",
              "      <td>0</td>\n",
              "      <td>0</td>\n",
              "      <td>211536</td>\n",
              "      <td>13.0000</td>\n",
              "      <td>NaN</td>\n",
              "      <td>S</td>\n",
              "      <td>NaN</td>\n",
              "    </tr>\n",
              "    <tr>\n",
              "      <th>887</th>\n",
              "      <td>888</td>\n",
              "      <td>1</td>\n",
              "      <td>1</td>\n",
              "      <td>Graham, Miss. Margaret Edith</td>\n",
              "      <td>female</td>\n",
              "      <td>19.0</td>\n",
              "      <td>0</td>\n",
              "      <td>0</td>\n",
              "      <td>112053</td>\n",
              "      <td>30.0000</td>\n",
              "      <td>B42</td>\n",
              "      <td>S</td>\n",
              "      <td>B</td>\n",
              "    </tr>\n",
              "    <tr>\n",
              "      <th>888</th>\n",
              "      <td>889</td>\n",
              "      <td>0</td>\n",
              "      <td>3</td>\n",
              "      <td>Johnston, Miss. Catherine Helen \"Carrie\"</td>\n",
              "      <td>female</td>\n",
              "      <td>NaN</td>\n",
              "      <td>1</td>\n",
              "      <td>2</td>\n",
              "      <td>W./C. 6607</td>\n",
              "      <td>23.4500</td>\n",
              "      <td>NaN</td>\n",
              "      <td>S</td>\n",
              "      <td>NaN</td>\n",
              "    </tr>\n",
              "    <tr>\n",
              "      <th>889</th>\n",
              "      <td>890</td>\n",
              "      <td>1</td>\n",
              "      <td>1</td>\n",
              "      <td>Behr, Mr. Karl Howell</td>\n",
              "      <td>male</td>\n",
              "      <td>26.0</td>\n",
              "      <td>0</td>\n",
              "      <td>0</td>\n",
              "      <td>111369</td>\n",
              "      <td>30.0000</td>\n",
              "      <td>C148</td>\n",
              "      <td>C</td>\n",
              "      <td>C</td>\n",
              "    </tr>\n",
              "    <tr>\n",
              "      <th>890</th>\n",
              "      <td>891</td>\n",
              "      <td>0</td>\n",
              "      <td>3</td>\n",
              "      <td>Dooley, Mr. Patrick</td>\n",
              "      <td>male</td>\n",
              "      <td>32.0</td>\n",
              "      <td>0</td>\n",
              "      <td>0</td>\n",
              "      <td>370376</td>\n",
              "      <td>7.7500</td>\n",
              "      <td>NaN</td>\n",
              "      <td>Q</td>\n",
              "      <td>NaN</td>\n",
              "    </tr>\n",
              "  </tbody>\n",
              "</table>\n",
              "<p>891 rows × 13 columns</p>\n",
              "</div>"
            ],
            "text/plain": [
              "     PassengerId  Survived  Pclass  \\\n",
              "0              1         0       3   \n",
              "1              2         1       1   \n",
              "2              3         1       3   \n",
              "3              4         1       1   \n",
              "4              5         0       3   \n",
              "..           ...       ...     ...   \n",
              "886          887         0       2   \n",
              "887          888         1       1   \n",
              "888          889         0       3   \n",
              "889          890         1       1   \n",
              "890          891         0       3   \n",
              "\n",
              "                                                  Name     Sex   Age  SibSp  \\\n",
              "0                              Braund, Mr. Owen Harris    male  22.0      1   \n",
              "1    Cumings, Mrs. John Bradley (Florence Briggs Th...  female  38.0      1   \n",
              "2                               Heikkinen, Miss. Laina  female  26.0      0   \n",
              "3         Futrelle, Mrs. Jacques Heath (Lily May Peel)  female  35.0      1   \n",
              "4                             Allen, Mr. William Henry    male  35.0      0   \n",
              "..                                                 ...     ...   ...    ...   \n",
              "886                              Montvila, Rev. Juozas    male  27.0      0   \n",
              "887                       Graham, Miss. Margaret Edith  female  19.0      0   \n",
              "888           Johnston, Miss. Catherine Helen \"Carrie\"  female   NaN      1   \n",
              "889                              Behr, Mr. Karl Howell    male  26.0      0   \n",
              "890                                Dooley, Mr. Patrick    male  32.0      0   \n",
              "\n",
              "     Parch            Ticket     Fare Cabin Embarked CabinLetter  \n",
              "0        0         A/5 21171   7.2500   NaN        S         NaN  \n",
              "1        0          PC 17599  71.2833   C85        C           C  \n",
              "2        0  STON/O2. 3101282   7.9250   NaN        S         NaN  \n",
              "3        0            113803  53.1000  C123        S           C  \n",
              "4        0            373450   8.0500   NaN        S         NaN  \n",
              "..     ...               ...      ...   ...      ...         ...  \n",
              "886      0            211536  13.0000   NaN        S         NaN  \n",
              "887      0            112053  30.0000   B42        S           B  \n",
              "888      2        W./C. 6607  23.4500   NaN        S         NaN  \n",
              "889      0            111369  30.0000  C148        C           C  \n",
              "890      0            370376   7.7500   NaN        Q         NaN  \n",
              "\n",
              "[891 rows x 13 columns]"
            ]
          },
          "execution_count": 6,
          "metadata": {},
          "output_type": "execute_result"
        }
      ],
      "source": [
        "df"
      ]
    },
    {
      "cell_type": "markdown",
      "id": "46afd374-6101-4afe-9bf3-c7b0c3d97c61",
      "metadata": {
        "id": "46afd374-6101-4afe-9bf3-c7b0c3d97c61"
      },
      "source": [
        "1. ในแต่ละตัวอักษร Cabin มีจำนวนผู้โดยสารกี่คน และมีจำนวน NaN เท่าไหร่"
      ]
    },
    {
      "cell_type": "code",
      "execution_count": 8,
      "id": "0484cb7d-29b4-44f1-90f5-16fef7266314",
      "metadata": {
        "colab": {
          "base_uri": "https://localhost:8080/"
        },
        "id": "0484cb7d-29b4-44f1-90f5-16fef7266314",
        "outputId": "b6ad205e-3393-4689-e5b3-9e4d6aeb0149",
        "tags": []
      },
      "outputs": [
        {
          "data": {
            "text/plain": [
              "NaN    687\n",
              "C       59\n",
              "B       47\n",
              "D       33\n",
              "E       32\n",
              "A       15\n",
              "F       13\n",
              "G        4\n",
              "T        1\n",
              "Name: CabinLetter, dtype: int64"
            ]
          },
          "execution_count": 8,
          "metadata": {},
          "output_type": "execute_result"
        }
      ],
      "source": [
        "df['CabinLetter'].value_counts(dropna = False)"
      ]
    },
    {
      "attachments": {},
      "cell_type": "markdown",
      "id": "57a7dce3-b43f-42ac-ba6d-8219ff953804",
      "metadata": {
        "id": "57a7dce3-b43f-42ac-ba6d-8219ff953804"
      },
      "source": [
        "2. ในแต่ละตัวอักษร Cabin มีจำนวนผู้โดยสารที่รอดและเสียชีวิตอย่างละเท่าไหร่ cabin ใดมีจำนวนผู้เสียชีวิตมากที่สุด"
      ]
    },
    {
      "cell_type": "code",
      "execution_count": 16,
      "id": "716596c4-e25a-4ff4-be66-f0c7d17a315b",
      "metadata": {
        "colab": {
          "base_uri": "https://localhost:8080/",
          "height": 332
        },
        "id": "716596c4-e25a-4ff4-be66-f0c7d17a315b",
        "outputId": "67ee4215-6f15-46e7-a1ad-f0205e989bdd"
      },
      "outputs": [
        {
          "data": {
            "text/html": [
              "<div>\n",
              "<style scoped>\n",
              "    .dataframe tbody tr th:only-of-type {\n",
              "        vertical-align: middle;\n",
              "    }\n",
              "\n",
              "    .dataframe tbody tr th {\n",
              "        vertical-align: top;\n",
              "    }\n",
              "\n",
              "    .dataframe thead th {\n",
              "        text-align: right;\n",
              "    }\n",
              "</style>\n",
              "<table border=\"1\" class=\"dataframe\">\n",
              "  <thead>\n",
              "    <tr style=\"text-align: right;\">\n",
              "      <th>Survived</th>\n",
              "      <th>0</th>\n",
              "      <th>1</th>\n",
              "    </tr>\n",
              "    <tr>\n",
              "      <th>CabinLetter</th>\n",
              "      <th></th>\n",
              "      <th></th>\n",
              "    </tr>\n",
              "  </thead>\n",
              "  <tbody>\n",
              "    <tr>\n",
              "      <th>C</th>\n",
              "      <td>24</td>\n",
              "      <td>35</td>\n",
              "    </tr>\n",
              "    <tr>\n",
              "      <th>B</th>\n",
              "      <td>12</td>\n",
              "      <td>35</td>\n",
              "    </tr>\n",
              "    <tr>\n",
              "      <th>A</th>\n",
              "      <td>8</td>\n",
              "      <td>7</td>\n",
              "    </tr>\n",
              "    <tr>\n",
              "      <th>D</th>\n",
              "      <td>8</td>\n",
              "      <td>25</td>\n",
              "    </tr>\n",
              "    <tr>\n",
              "      <th>E</th>\n",
              "      <td>8</td>\n",
              "      <td>24</td>\n",
              "    </tr>\n",
              "    <tr>\n",
              "      <th>F</th>\n",
              "      <td>5</td>\n",
              "      <td>8</td>\n",
              "    </tr>\n",
              "    <tr>\n",
              "      <th>G</th>\n",
              "      <td>2</td>\n",
              "      <td>2</td>\n",
              "    </tr>\n",
              "    <tr>\n",
              "      <th>T</th>\n",
              "      <td>1</td>\n",
              "      <td>0</td>\n",
              "    </tr>\n",
              "  </tbody>\n",
              "</table>\n",
              "</div>"
            ],
            "text/plain": [
              "Survived      0   1\n",
              "CabinLetter        \n",
              "C            24  35\n",
              "B            12  35\n",
              "A             8   7\n",
              "D             8  25\n",
              "E             8  24\n",
              "F             5   8\n",
              "G             2   2\n",
              "T             1   0"
            ]
          },
          "execution_count": 16,
          "metadata": {},
          "output_type": "execute_result"
        }
      ],
      "source": [
        "CabinLetterSurvived = pd.crosstab(df['CabinLetter'], df['Survived'], margins=0)\n",
        "CabinLetterSurvived.sort_values(by=0, ascending=0)"
      ]
    },
    {
      "cell_type": "code",
      "execution_count": 36,
      "id": "c483c114",
      "metadata": {},
      "outputs": [
        {
          "data": {
            "text/plain": [
              "'C'"
            ]
          },
          "execution_count": 36,
          "metadata": {},
          "output_type": "execute_result"
        }
      ],
      "source": [
        "CabinLetterSurvived.index[np.argmax(CabinLetterSurvived[0])]"
      ]
    },
    {
      "cell_type": "markdown",
      "id": "ffe01048-7001-44ed-a318-f46c79e49fb8",
      "metadata": {
        "id": "ffe01048-7001-44ed-a318-f46c79e49fb8"
      },
      "source": [
        "3. cabin ใดมีค่า ratio ผู้รอดชีวิต / ผู้เสียชีวิต สูงสุด"
      ]
    },
    {
      "cell_type": "code",
      "execution_count": 38,
      "id": "f38c0470-9acf-491d-8233-32acc258714d",
      "metadata": {
        "colab": {
          "base_uri": "https://localhost:8080/",
          "height": 332
        },
        "id": "f38c0470-9acf-491d-8233-32acc258714d",
        "outputId": "0ec33097-c177-4e6c-f91c-6b221b14f2fe"
      },
      "outputs": [
        {
          "data": {
            "text/html": [
              "<div>\n",
              "<style scoped>\n",
              "    .dataframe tbody tr th:only-of-type {\n",
              "        vertical-align: middle;\n",
              "    }\n",
              "\n",
              "    .dataframe tbody tr th {\n",
              "        vertical-align: top;\n",
              "    }\n",
              "\n",
              "    .dataframe thead th {\n",
              "        text-align: right;\n",
              "    }\n",
              "</style>\n",
              "<table border=\"1\" class=\"dataframe\">\n",
              "  <thead>\n",
              "    <tr style=\"text-align: right;\">\n",
              "      <th>Survived</th>\n",
              "      <th>0</th>\n",
              "      <th>1</th>\n",
              "      <th>ratio</th>\n",
              "    </tr>\n",
              "    <tr>\n",
              "      <th>CabinLetter</th>\n",
              "      <th></th>\n",
              "      <th></th>\n",
              "      <th></th>\n",
              "    </tr>\n",
              "  </thead>\n",
              "  <tbody>\n",
              "    <tr>\n",
              "      <th>D</th>\n",
              "      <td>8</td>\n",
              "      <td>25</td>\n",
              "      <td>3.125000</td>\n",
              "    </tr>\n",
              "    <tr>\n",
              "      <th>E</th>\n",
              "      <td>8</td>\n",
              "      <td>24</td>\n",
              "      <td>3.000000</td>\n",
              "    </tr>\n",
              "    <tr>\n",
              "      <th>B</th>\n",
              "      <td>12</td>\n",
              "      <td>35</td>\n",
              "      <td>2.916667</td>\n",
              "    </tr>\n",
              "    <tr>\n",
              "      <th>F</th>\n",
              "      <td>5</td>\n",
              "      <td>8</td>\n",
              "      <td>1.600000</td>\n",
              "    </tr>\n",
              "    <tr>\n",
              "      <th>C</th>\n",
              "      <td>24</td>\n",
              "      <td>35</td>\n",
              "      <td>1.458333</td>\n",
              "    </tr>\n",
              "    <tr>\n",
              "      <th>G</th>\n",
              "      <td>2</td>\n",
              "      <td>2</td>\n",
              "      <td>1.000000</td>\n",
              "    </tr>\n",
              "    <tr>\n",
              "      <th>A</th>\n",
              "      <td>8</td>\n",
              "      <td>7</td>\n",
              "      <td>0.875000</td>\n",
              "    </tr>\n",
              "    <tr>\n",
              "      <th>T</th>\n",
              "      <td>1</td>\n",
              "      <td>0</td>\n",
              "      <td>0.000000</td>\n",
              "    </tr>\n",
              "  </tbody>\n",
              "</table>\n",
              "</div>"
            ],
            "text/plain": [
              "Survived      0   1     ratio\n",
              "CabinLetter                  \n",
              "D             8  25  3.125000\n",
              "E             8  24  3.000000\n",
              "B            12  35  2.916667\n",
              "F             5   8  1.600000\n",
              "C            24  35  1.458333\n",
              "G             2   2  1.000000\n",
              "A             8   7  0.875000\n",
              "T             1   0  0.000000"
            ]
          },
          "execution_count": 38,
          "metadata": {},
          "output_type": "execute_result"
        }
      ],
      "source": [
        "CabinLetterSurvived['ratio'] = CabinLetterSurvived[1] / CabinLetterSurvived[0]\n",
        "CabinLetterSurvived.sort_values(by='ratio', ascending=0)"
      ]
    },
    {
      "cell_type": "code",
      "execution_count": 45,
      "id": "ban30qxnyxGO",
      "metadata": {
        "colab": {
          "base_uri": "https://localhost:8080/",
          "height": 36
        },
        "id": "ban30qxnyxGO",
        "outputId": "06a37fa3-5c7a-4eb7-be43-6254678320ed"
      },
      "outputs": [
        {
          "data": {
            "text/plain": [
              "'D'"
            ]
          },
          "execution_count": 45,
          "metadata": {},
          "output_type": "execute_result"
        }
      ],
      "source": [
        "CabinLetterSurvived.index[np.argmax(CabinLetterSurvived['ratio'])]"
      ]
    },
    {
      "cell_type": "markdown",
      "id": "e2069dfd-233b-4979-83dd-b2408928d1d1",
      "metadata": {
        "id": "e2069dfd-233b-4979-83dd-b2408928d1d1"
      },
      "source": [
        "3. cabin ใดมีค่าเฉลี่ยราคาตั๋ว (Fare) สูงสุด"
      ]
    },
    {
      "cell_type": "code",
      "execution_count": 50,
      "id": "ad74e21d-2d51-467d-8e90-c41d61d76c52",
      "metadata": {
        "colab": {
          "base_uri": "https://localhost:8080/",
          "height": 332
        },
        "id": "ad74e21d-2d51-467d-8e90-c41d61d76c52",
        "outputId": "0cc4ae91-7f69-4e5f-b87a-82389d81e229"
      },
      "outputs": [
        {
          "data": {
            "text/html": [
              "<div>\n",
              "<style scoped>\n",
              "    .dataframe tbody tr th:only-of-type {\n",
              "        vertical-align: middle;\n",
              "    }\n",
              "\n",
              "    .dataframe tbody tr th {\n",
              "        vertical-align: top;\n",
              "    }\n",
              "\n",
              "    .dataframe thead th {\n",
              "        text-align: right;\n",
              "    }\n",
              "</style>\n",
              "<table border=\"1\" class=\"dataframe\">\n",
              "  <thead>\n",
              "    <tr style=\"text-align: right;\">\n",
              "      <th></th>\n",
              "      <th>PassengerId</th>\n",
              "      <th>Survived</th>\n",
              "      <th>Pclass</th>\n",
              "      <th>Age</th>\n",
              "      <th>SibSp</th>\n",
              "      <th>Parch</th>\n",
              "      <th>Fare</th>\n",
              "    </tr>\n",
              "    <tr>\n",
              "      <th>CabinLetter</th>\n",
              "      <th></th>\n",
              "      <th></th>\n",
              "      <th></th>\n",
              "      <th></th>\n",
              "      <th></th>\n",
              "      <th></th>\n",
              "      <th></th>\n",
              "    </tr>\n",
              "  </thead>\n",
              "  <tbody>\n",
              "    <tr>\n",
              "      <th>B</th>\n",
              "      <td>521.808511</td>\n",
              "      <td>0.744681</td>\n",
              "      <td>1.000000</td>\n",
              "      <td>34.955556</td>\n",
              "      <td>0.361702</td>\n",
              "      <td>0.574468</td>\n",
              "      <td>113.505764</td>\n",
              "    </tr>\n",
              "    <tr>\n",
              "      <th>C</th>\n",
              "      <td>406.440678</td>\n",
              "      <td>0.593220</td>\n",
              "      <td>1.000000</td>\n",
              "      <td>36.086667</td>\n",
              "      <td>0.644068</td>\n",
              "      <td>0.474576</td>\n",
              "      <td>100.151341</td>\n",
              "    </tr>\n",
              "    <tr>\n",
              "      <th>D</th>\n",
              "      <td>475.939394</td>\n",
              "      <td>0.757576</td>\n",
              "      <td>1.121212</td>\n",
              "      <td>39.032258</td>\n",
              "      <td>0.424242</td>\n",
              "      <td>0.303030</td>\n",
              "      <td>57.244576</td>\n",
              "    </tr>\n",
              "    <tr>\n",
              "      <th>E</th>\n",
              "      <td>502.437500</td>\n",
              "      <td>0.750000</td>\n",
              "      <td>1.312500</td>\n",
              "      <td>38.116667</td>\n",
              "      <td>0.312500</td>\n",
              "      <td>0.312500</td>\n",
              "      <td>46.026694</td>\n",
              "    </tr>\n",
              "    <tr>\n",
              "      <th>A</th>\n",
              "      <td>439.600000</td>\n",
              "      <td>0.466667</td>\n",
              "      <td>1.000000</td>\n",
              "      <td>44.833333</td>\n",
              "      <td>0.133333</td>\n",
              "      <td>0.133333</td>\n",
              "      <td>39.623887</td>\n",
              "    </tr>\n",
              "    <tr>\n",
              "      <th>T</th>\n",
              "      <td>340.000000</td>\n",
              "      <td>0.000000</td>\n",
              "      <td>1.000000</td>\n",
              "      <td>45.000000</td>\n",
              "      <td>0.000000</td>\n",
              "      <td>0.000000</td>\n",
              "      <td>35.500000</td>\n",
              "    </tr>\n",
              "    <tr>\n",
              "      <th>F</th>\n",
              "      <td>370.384615</td>\n",
              "      <td>0.615385</td>\n",
              "      <td>2.384615</td>\n",
              "      <td>19.954545</td>\n",
              "      <td>0.538462</td>\n",
              "      <td>0.538462</td>\n",
              "      <td>18.696792</td>\n",
              "    </tr>\n",
              "    <tr>\n",
              "      <th>G</th>\n",
              "      <td>216.000000</td>\n",
              "      <td>0.500000</td>\n",
              "      <td>3.000000</td>\n",
              "      <td>14.750000</td>\n",
              "      <td>0.500000</td>\n",
              "      <td>1.250000</td>\n",
              "      <td>13.581250</td>\n",
              "    </tr>\n",
              "  </tbody>\n",
              "</table>\n",
              "</div>"
            ],
            "text/plain": [
              "             PassengerId  Survived    Pclass        Age     SibSp     Parch  \\\n",
              "CabinLetter                                                                   \n",
              "B             521.808511  0.744681  1.000000  34.955556  0.361702  0.574468   \n",
              "C             406.440678  0.593220  1.000000  36.086667  0.644068  0.474576   \n",
              "D             475.939394  0.757576  1.121212  39.032258  0.424242  0.303030   \n",
              "E             502.437500  0.750000  1.312500  38.116667  0.312500  0.312500   \n",
              "A             439.600000  0.466667  1.000000  44.833333  0.133333  0.133333   \n",
              "T             340.000000  0.000000  1.000000  45.000000  0.000000  0.000000   \n",
              "F             370.384615  0.615385  2.384615  19.954545  0.538462  0.538462   \n",
              "G             216.000000  0.500000  3.000000  14.750000  0.500000  1.250000   \n",
              "\n",
              "                   Fare  \n",
              "CabinLetter              \n",
              "B            113.505764  \n",
              "C            100.151341  \n",
              "D             57.244576  \n",
              "E             46.026694  \n",
              "A             39.623887  \n",
              "T             35.500000  \n",
              "F             18.696792  \n",
              "G             13.581250  "
            ]
          },
          "execution_count": 50,
          "metadata": {},
          "output_type": "execute_result"
        }
      ],
      "source": [
        "df.filter(['Fare', 'CabinLetter']).groupby(['CabinLetter']).mean().sort_values(by='Fare', ascending=0)\n"
      ]
    },
    {
      "cell_type": "markdown",
      "id": "629756d5-c13f-45e9-96d4-a26457fc61b7",
      "metadata": {
        "id": "629756d5-c13f-45e9-96d4-a26457fc61b7"
      },
      "source": [
        "4. จงแสดงค่าเฉลี่ยราคาตั๋ว (Fare) ของผู้รอดชีวิต และผู้เสียชีวิต ในแต่ละ cabin หากเปรียบเทียบราคาเฉลี่ยของผู้ที่รอดและเสียชีวิตจะพบว่า"
      ]
    },
    {
      "cell_type": "code",
      "execution_count": 51,
      "id": "cbd636f4-6aa5-4766-8bd1-5eae44209c86",
      "metadata": {
        "colab": {
          "base_uri": "https://localhost:8080/",
          "height": 551
        },
        "id": "cbd636f4-6aa5-4766-8bd1-5eae44209c86",
        "outputId": "96943f9f-1e03-4e8a-f92d-fce150a45fd4"
      },
      "outputs": [
        {
          "data": {
            "text/html": [
              "<div>\n",
              "<style scoped>\n",
              "    .dataframe tbody tr th:only-of-type {\n",
              "        vertical-align: middle;\n",
              "    }\n",
              "\n",
              "    .dataframe tbody tr th {\n",
              "        vertical-align: top;\n",
              "    }\n",
              "\n",
              "    .dataframe thead th {\n",
              "        text-align: right;\n",
              "    }\n",
              "</style>\n",
              "<table border=\"1\" class=\"dataframe\">\n",
              "  <thead>\n",
              "    <tr style=\"text-align: right;\">\n",
              "      <th></th>\n",
              "      <th></th>\n",
              "      <th>Fare</th>\n",
              "    </tr>\n",
              "    <tr>\n",
              "      <th>CabinLetter</th>\n",
              "      <th>Survived</th>\n",
              "      <th></th>\n",
              "    </tr>\n",
              "  </thead>\n",
              "  <tbody>\n",
              "    <tr>\n",
              "      <th rowspan=\"2\" valign=\"top\">A</th>\n",
              "      <th>0</th>\n",
              "      <td>35.496350</td>\n",
              "    </tr>\n",
              "    <tr>\n",
              "      <th>1</th>\n",
              "      <td>44.341071</td>\n",
              "    </tr>\n",
              "    <tr>\n",
              "      <th rowspan=\"2\" valign=\"top\">B</th>\n",
              "      <th>0</th>\n",
              "      <td>57.137500</td>\n",
              "    </tr>\n",
              "    <tr>\n",
              "      <th>1</th>\n",
              "      <td>132.832026</td>\n",
              "    </tr>\n",
              "    <tr>\n",
              "      <th rowspan=\"2\" valign=\"top\">C</th>\n",
              "      <th>0</th>\n",
              "      <td>99.972396</td>\n",
              "    </tr>\n",
              "    <tr>\n",
              "      <th>1</th>\n",
              "      <td>100.274046</td>\n",
              "    </tr>\n",
              "    <tr>\n",
              "      <th rowspan=\"2\" valign=\"top\">D</th>\n",
              "      <th>0</th>\n",
              "      <td>53.770825</td>\n",
              "    </tr>\n",
              "    <tr>\n",
              "      <th>1</th>\n",
              "      <td>58.356176</td>\n",
              "    </tr>\n",
              "    <tr>\n",
              "      <th rowspan=\"2\" valign=\"top\">E</th>\n",
              "      <th>0</th>\n",
              "      <td>43.715625</td>\n",
              "    </tr>\n",
              "    <tr>\n",
              "      <th>1</th>\n",
              "      <td>46.797050</td>\n",
              "    </tr>\n",
              "    <tr>\n",
              "      <th rowspan=\"2\" valign=\"top\">F</th>\n",
              "      <th>0</th>\n",
              "      <td>11.340000</td>\n",
              "    </tr>\n",
              "    <tr>\n",
              "      <th>1</th>\n",
              "      <td>23.294787</td>\n",
              "    </tr>\n",
              "    <tr>\n",
              "      <th rowspan=\"2\" valign=\"top\">G</th>\n",
              "      <th>0</th>\n",
              "      <td>10.462500</td>\n",
              "    </tr>\n",
              "    <tr>\n",
              "      <th>1</th>\n",
              "      <td>16.700000</td>\n",
              "    </tr>\n",
              "    <tr>\n",
              "      <th>T</th>\n",
              "      <th>0</th>\n",
              "      <td>35.500000</td>\n",
              "    </tr>\n",
              "  </tbody>\n",
              "</table>\n",
              "</div>"
            ],
            "text/plain": [
              "                            Fare\n",
              "CabinLetter Survived            \n",
              "A           0          35.496350\n",
              "            1          44.341071\n",
              "B           0          57.137500\n",
              "            1         132.832026\n",
              "C           0          99.972396\n",
              "            1         100.274046\n",
              "D           0          53.770825\n",
              "            1          58.356176\n",
              "E           0          43.715625\n",
              "            1          46.797050\n",
              "F           0          11.340000\n",
              "            1          23.294787\n",
              "G           0          10.462500\n",
              "            1          16.700000\n",
              "T           0          35.500000"
            ]
          },
          "execution_count": 51,
          "metadata": {},
          "output_type": "execute_result"
        }
      ],
      "source": [
        "df.filter(['Survived', 'Fare', 'CabinLetter']).groupby(['CabinLetter', 'Survived']).mean()"
      ]
    },
    {
      "cell_type": "markdown",
      "id": "gyhPjhlv1miU",
      "metadata": {
        "id": "gyhPjhlv1miU"
      },
      "source": [
        "ค่าเฉลี่ยราคาตั๋วผู้รอดสูงกว่าผู้เสียชีวิต (แต่ยังไม่สามารถสรุปได้ว่ามีนัยสำคัญหรือไม่)"
      ]
    },
    {
      "cell_type": "markdown",
      "id": "d88f552b-3d5d-45ed-b821-e27655e25115",
      "metadata": {
        "id": "d88f552b-3d5d-45ed-b821-e27655e25115"
      },
      "source": [
        "5. ในแต่ละ cabin มีจำนวนผู้โดยสารแยกตาม Pclass อย่างละกี่คน"
      ]
    },
    {
      "cell_type": "code",
      "execution_count": 52,
      "id": "be145608-4da3-4dac-8ca1-35ef78518366",
      "metadata": {
        "colab": {
          "base_uri": "https://localhost:8080/",
          "height": 332
        },
        "id": "be145608-4da3-4dac-8ca1-35ef78518366",
        "outputId": "5fe4c759-f383-49c5-fb1f-20363cd29626"
      },
      "outputs": [
        {
          "data": {
            "text/html": [
              "<div>\n",
              "<style scoped>\n",
              "    .dataframe tbody tr th:only-of-type {\n",
              "        vertical-align: middle;\n",
              "    }\n",
              "\n",
              "    .dataframe tbody tr th {\n",
              "        vertical-align: top;\n",
              "    }\n",
              "\n",
              "    .dataframe thead th {\n",
              "        text-align: right;\n",
              "    }\n",
              "</style>\n",
              "<table border=\"1\" class=\"dataframe\">\n",
              "  <thead>\n",
              "    <tr style=\"text-align: right;\">\n",
              "      <th>Pclass</th>\n",
              "      <th>1</th>\n",
              "      <th>2</th>\n",
              "      <th>3</th>\n",
              "    </tr>\n",
              "    <tr>\n",
              "      <th>CabinLetter</th>\n",
              "      <th></th>\n",
              "      <th></th>\n",
              "      <th></th>\n",
              "    </tr>\n",
              "  </thead>\n",
              "  <tbody>\n",
              "    <tr>\n",
              "      <th>A</th>\n",
              "      <td>15</td>\n",
              "      <td>0</td>\n",
              "      <td>0</td>\n",
              "    </tr>\n",
              "    <tr>\n",
              "      <th>B</th>\n",
              "      <td>47</td>\n",
              "      <td>0</td>\n",
              "      <td>0</td>\n",
              "    </tr>\n",
              "    <tr>\n",
              "      <th>C</th>\n",
              "      <td>59</td>\n",
              "      <td>0</td>\n",
              "      <td>0</td>\n",
              "    </tr>\n",
              "    <tr>\n",
              "      <th>D</th>\n",
              "      <td>29</td>\n",
              "      <td>4</td>\n",
              "      <td>0</td>\n",
              "    </tr>\n",
              "    <tr>\n",
              "      <th>E</th>\n",
              "      <td>25</td>\n",
              "      <td>4</td>\n",
              "      <td>3</td>\n",
              "    </tr>\n",
              "    <tr>\n",
              "      <th>F</th>\n",
              "      <td>0</td>\n",
              "      <td>8</td>\n",
              "      <td>5</td>\n",
              "    </tr>\n",
              "    <tr>\n",
              "      <th>G</th>\n",
              "      <td>0</td>\n",
              "      <td>0</td>\n",
              "      <td>4</td>\n",
              "    </tr>\n",
              "    <tr>\n",
              "      <th>T</th>\n",
              "      <td>1</td>\n",
              "      <td>0</td>\n",
              "      <td>0</td>\n",
              "    </tr>\n",
              "  </tbody>\n",
              "</table>\n",
              "</div>"
            ],
            "text/plain": [
              "Pclass        1  2  3\n",
              "CabinLetter          \n",
              "A            15  0  0\n",
              "B            47  0  0\n",
              "C            59  0  0\n",
              "D            29  4  0\n",
              "E            25  4  3\n",
              "F             0  8  5\n",
              "G             0  0  4\n",
              "T             1  0  0"
            ]
          },
          "execution_count": 52,
          "metadata": {},
          "output_type": "execute_result"
        }
      ],
      "source": [
        "pd.crosstab(df['CabinLetter'], df['Pclass'])"
      ]
    },
    {
      "cell_type": "code",
      "execution_count": null,
      "id": "72204156",
      "metadata": {},
      "outputs": [],
      "source": []
    }
  ],
  "metadata": {
    "colab": {
      "provenance": []
    },
    "kernelspec": {
      "display_name": "base",
      "language": "python",
      "name": "python3"
    },
    "language_info": {
      "codemirror_mode": {
        "name": "ipython",
        "version": 3
      },
      "file_extension": ".py",
      "mimetype": "text/x-python",
      "name": "python",
      "nbconvert_exporter": "python",
      "pygments_lexer": "ipython3",
      "version": "3.9.7"
    },
    "vscode": {
      "interpreter": {
        "hash": "adb9d2aed883c8aaa9bd7ee3c2df9bef48ab1637ec6f32d61aa1d00319d9197a"
      }
    }
  },
  "nbformat": 4,
  "nbformat_minor": 5
}
