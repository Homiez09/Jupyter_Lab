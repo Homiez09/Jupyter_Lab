{
 "cells": [
  {
   "cell_type": "markdown",
   "metadata": {
    "id": "U3ArbMi8JHGD"
   },
   "source": [
    "# แบบฝึกหัด 5"
   ]
  },
  {
   "cell_type": "markdown",
   "metadata": {
    "id": "t9RQYuu-JUwP"
   },
   "source": [
    "---"
   ]
  },
  {
   "cell_type": "code",
   "execution_count": 1,
   "metadata": {
    "id": "5LcuhePsgM1w"
   },
   "outputs": [],
   "source": [
    "import numpy as np\n",
    "import pandas as pd\n",
    "from scipy import stats\n",
    "import statistics\n",
    "from math import perm, comb"
   ]
  },
  {
   "cell_type": "markdown",
   "metadata": {
    "id": "uoKssbJRv2Xu"
   },
   "source": [
    "###  "
   ]
  },
  {
   "cell_type": "markdown",
   "metadata": {
    "id": "ag3TNOoapF2I"
   },
   "source": [
    "5.1 จากการวิจัยพบว่า 10% ของผู้สูบบุหรี่มากกว่า 2 มวนต่อวันจะพบความผิดปกติของปอด หากทำการสุ่มตัวอย่างผู้ที่สูบบุหรี่มากกว่า 2 มวนต่อวันจำนวน 10 คน จงหาความน่าจะเป็นของกรณีดังต่อไปนี้  \n",
    "- พบผู้ที่มีความผิดปกติของปอด 3 คน  "
   ]
  },
  {
   "cell_type": "code",
   "execution_count": 2,
   "metadata": {
    "id": "eGMlvK2UXrtE"
   },
   "outputs": [
    {
     "data": {
      "text/plain": [
       "0.05739562799999998"
      ]
     },
     "execution_count": 2,
     "metadata": {},
     "output_type": "execute_result"
    }
   ],
   "source": [
    "p, n = 0.1, 10\n",
    "stats.binom.pmf(p = p, n = n, k = 3)"
   ]
  },
  {
   "cell_type": "markdown",
   "metadata": {
    "id": "SOtKXJZ0Yhby"
   },
   "source": [
    "- ไม่มีผู้ที่ปอดมีความผิดปกติเลย"
   ]
  },
  {
   "cell_type": "code",
   "execution_count": 3,
   "metadata": {
    "id": "-h3uR0QVYlFA"
   },
   "outputs": [
    {
     "data": {
      "text/plain": [
       "0.6513215598999998"
      ]
     },
     "execution_count": 3,
     "metadata": {},
     "output_type": "execute_result"
    }
   ],
   "source": [
    "1 - stats.binom.pmf(p = p, n = n, k = 0)"
   ]
  },
  {
   "cell_type": "markdown",
   "metadata": {
    "id": "gvjrsGthYycb"
   },
   "source": [
    "- พบผู้ที่มีความผิดปกติของปอดอย่างน้อย 1 คน"
   ]
  },
  {
   "cell_type": "code",
   "execution_count": 4,
   "metadata": {
    "id": "NXgJ3SXgYmIC"
   },
   "outputs": [
    {
     "data": {
      "text/plain": [
       "0.6125795110000003"
      ]
     },
     "execution_count": 4,
     "metadata": {},
     "output_type": "execute_result"
    }
   ],
   "source": [
    "k = 1\n",
    "1 - stats.binom.pmf(p = p, n = n, k = k)"
   ]
  },
  {
   "cell_type": "markdown",
   "metadata": {
    "id": "sbZ2sthm9YOB"
   },
   "source": [
    "###  "
   ]
  },
  {
   "cell_type": "markdown",
   "metadata": {
    "id": "t7i3BrqK9YOB"
   },
   "source": [
    "5.2 ในพื้นที่สัมปทานเหมืองแร่ทองคำแห่งหนี่ง พบว่าในการออกพื้นที่สำรวจจะมีโอกาสพบสายแร่ทองคำ 15% หากบริษัท A ได้กำหนดพื้นที่เพื่อทำการสำรวจทั้งหมด 12 จุด จงหาความน่าจะเป็นของเหตุการณ์ต่อไปนี้ \n",
    "- พบสายแร่ทองคำทั้ง 12 จุด    "
   ]
  },
  {
   "cell_type": "code",
   "execution_count": 5,
   "metadata": {
    "id": "iqE8-wJaYvtI"
   },
   "outputs": [
    {
     "data": {
      "text/plain": [
       "1.2974633789062497e-10"
      ]
     },
     "execution_count": 5,
     "metadata": {},
     "output_type": "execute_result"
    }
   ],
   "source": [
    "p, n = 0.15, 12\n",
    "stats.binom.pmf(p = p, n = n, k = 12)"
   ]
  },
  {
   "cell_type": "markdown",
   "metadata": {
    "id": "H4G_eeDQ9TSd"
   },
   "source": [
    "- ไม่พบสายแร่ทองคำทั้ง 12 จุด"
   ]
  },
  {
   "cell_type": "code",
   "execution_count": 6,
   "metadata": {
    "id": "QZX4Vti1Yw3j"
   },
   "outputs": [
    {
     "data": {
      "text/plain": [
       "0.14224175713617204"
      ]
     },
     "execution_count": 6,
     "metadata": {},
     "output_type": "execute_result"
    }
   ],
   "source": [
    "k = 0\n",
    "stats.binom.pmf(p = p, n = n, k = k)"
   ]
  },
  {
   "cell_type": "markdown",
   "metadata": {
    "id": "hcYW6v-qAJDw"
   },
   "source": [
    "- พบสายแร่ทองคำ 1 จุดเท่านั้น"
   ]
  },
  {
   "cell_type": "code",
   "execution_count": 7,
   "metadata": {
    "id": "hSdEoTSqYyjh"
   },
   "outputs": [
    {
     "data": {
      "text/plain": [
       "0.3012178386413057"
      ]
     },
     "execution_count": 7,
     "metadata": {},
     "output_type": "execute_result"
    }
   ],
   "source": [
    "k = 1\n",
    "stats.binom.pmf(p = p, n = n, k = k)"
   ]
  },
  {
   "cell_type": "markdown",
   "metadata": {
    "id": "tjBxzS5IAezo"
   },
   "source": [
    "- พบสายแร่ทองคำอย่างน้อย 3 จุด"
   ]
  },
  {
   "cell_type": "code",
   "execution_count": 8,
   "metadata": {
    "id": "qDwjL7utYzeA"
   },
   "outputs": [
    {
     "data": {
      "text/plain": [
       "0.2641819137765491"
      ]
     },
     "execution_count": 8,
     "metadata": {},
     "output_type": "execute_result"
    }
   ],
   "source": [
    "1 - sum([stats.binom.pmf(p = p, n = n, k = k) for k in range(0, 3)])"
   ]
  },
  {
   "cell_type": "markdown",
   "metadata": {
    "id": "yif8FzhRBNSq"
   },
   "source": [
    "###  "
   ]
  },
  {
   "cell_type": "markdown",
   "metadata": {
    "id": "FgWhB3I9BNSq"
   },
   "source": [
    "5.3 จากการเก็บข้อมูลการเล่นเกมส์ออนไลน์เกมส์หนึ่งพบว่า ผู้เล่นที่มีเลเวล 50 ขึ้นไป 10 คน จะมีผู้เล่นที่ซื้อแพ็กเกจ VIP จำนวน 3 คนโดยประมาณ หากสุ่มตัวอย่างผู้เล่นที่มีเลเวล 50 ขึ้นไปจำนวน 15 คน จงหาค่าความน่าจะเป็นของเหตุการณ์ต่อไปนี้  \n",
    "  \n",
    "- มีผู้เล่นอย่างน้อย 1 คนซื้อแพ็กเกจ VIP    "
   ]
  },
  {
   "cell_type": "code",
   "execution_count": 9,
   "metadata": {
    "id": "RqvCLlbzY1lq"
   },
   "outputs": [
    {
     "data": {
      "text/plain": [
       "0.995252438490057"
      ]
     },
     "execution_count": 9,
     "metadata": {},
     "output_type": "execute_result"
    }
   ],
   "source": [
    "p, n = 3 / 10, 15\n",
    "1 - sum([stats.binom.pmf(p = p, n = n, k = k) for k in range(0, 1)])\n"
   ]
  },
  {
   "cell_type": "markdown",
   "metadata": {
    "id": "WhCBSP4mGDDk"
   },
   "source": [
    "- ไม่มีผู้เล่นซื้อแพ็กเกจ VIP เลย"
   ]
  },
  {
   "cell_type": "code",
   "execution_count": 10,
   "metadata": {
    "id": "w6t6uwHrY4Dv"
   },
   "outputs": [
    {
     "data": {
      "text/plain": [
       "0.004747561509942994"
      ]
     },
     "execution_count": 10,
     "metadata": {},
     "output_type": "execute_result"
    }
   ],
   "source": [
    "stats.binom.pmf(p = p, n = n, k = 0)"
   ]
  },
  {
   "cell_type": "markdown",
   "metadata": {
    "id": "KDo2aR-0GewE"
   },
   "source": [
    "- มีผู้เล่นน้อยกว่า 4 คนซื้อแพ็กเกจ VIP"
   ]
  },
  {
   "cell_type": "code",
   "execution_count": 11,
   "metadata": {
    "id": "uOJJMG3MY4-w"
   },
   "outputs": [
    {
     "data": {
      "text/plain": [
       "0.7031320721129524"
      ]
     },
     "execution_count": 11,
     "metadata": {},
     "output_type": "execute_result"
    }
   ],
   "source": [
    "1 - sum([stats.binom.pmf(p = p, n = n, k = k) for k in range(0, 4)])"
   ]
  },
  {
   "cell_type": "markdown",
   "metadata": {
    "id": "nwSlXUPSHkQL"
   },
   "source": [
    "###  "
   ]
  },
  {
   "cell_type": "markdown",
   "metadata": {
    "id": "v04rtFN2HkQL"
   },
   "source": [
    "5.4 จำนวนอุบัติเหตุอันเนื่องมาจากการจราจรที่สี่แยกแห่งหนึ่งโดยเฉลี่ยมี 3 รายต่อสัปดาห์ จงหาความ\n",
    "น่าจะเป็นที่จะมีอุบัติเหตุ 5 รายที่แยกแห่งนี้ในสัปดาห์หนึ่ง        "
   ]
  },
  {
   "cell_type": "code",
   "execution_count": 12,
   "metadata": {
    "id": "5RsjQd4AY_TX"
   },
   "outputs": [
    {
     "data": {
      "text/plain": [
       "0.10081881344492458"
      ]
     },
     "execution_count": 12,
     "metadata": {},
     "output_type": "execute_result"
    }
   ],
   "source": [
    "stats.poisson.pmf(k = 5, mu = 3)"
   ]
  },
  {
   "cell_type": "markdown",
   "metadata": {
    "id": "LeBrVUJUKdo9"
   },
   "source": [
    "###  "
   ]
  },
  {
   "cell_type": "markdown",
   "metadata": {
    "id": "LoAlPE5XKdo9"
   },
   "source": [
    "5.5 จากการเก็บข้อมูลพบว่า server ของทางภาควิชาฯ จะถูกโจมตีจากผู้ไม่หวังดีโดยเฉลี่ย 6 ครั้งใน 1 วันจงหาความน่าจะเป็นที่ใน 1 วัน server ของทางภาควิชาฯ จะถูกโจมตี 6 - 8 ครั้ง        "
   ]
  },
  {
   "cell_type": "code",
   "execution_count": 13,
   "metadata": {
    "id": "TeGeHVgMZDfr"
   },
   "outputs": [
    {
     "data": {
      "text/plain": [
       "0.40155785261995003"
      ]
     },
     "execution_count": 13,
     "metadata": {},
     "output_type": "execute_result"
    }
   ],
   "source": [
    "sum([stats.poisson.pmf(k = k, mu = 6) for k in range(6, 9)])"
   ]
  },
  {
   "cell_type": "markdown",
   "metadata": {
    "id": "r_ZjNP1PL2uu"
   },
   "source": [
    "###  "
   ]
  },
  {
   "cell_type": "markdown",
   "metadata": {
    "id": "STASxmjEL2uu"
   },
   "source": [
    "5.6 จากการเก็บข้อมูลอายุของเด็กที่ติดเกมส์มือถือพบว่ามีการแจกแจงของอายุเป็นแบบปกติ และมีค่าเฉลี่ยเท่ากับ 11.5 ปี\n",
    "และค่าเบี่ยงเบนมาตรฐานเท่ากับ 3 ปี   \n",
    "หากพบเด็กคนหนึ่งติดเกมส์ จงหาความน่าจะเป็นที่เด็กผู้นี้  \n",
    "- มีอายุอยู่ระหว่าง 8.5 และ 14.5 ปี  "
   ]
  },
  {
   "cell_type": "code",
   "execution_count": 14,
   "metadata": {
    "id": "rVbSeQ9-ZGf9"
   },
   "outputs": [
    {
     "data": {
      "text/plain": [
       "0.6826894921370859"
      ]
     },
     "execution_count": 14,
     "metadata": {},
     "output_type": "execute_result"
    }
   ],
   "source": [
    "a = (8.5 - 11.5) / 3\n",
    "b = (14.5 - 11.5) / 3\n",
    "\n",
    "stats.norm.cdf(b)-stats.norm.cdf(a)"
   ]
  },
  {
   "cell_type": "markdown",
   "metadata": {
    "id": "7S4XGGO5P4tI"
   },
   "source": [
    "- มีอายุต่ำกว่า 12 ปี"
   ]
  },
  {
   "cell_type": "code",
   "execution_count": 15,
   "metadata": {
    "id": "AWfLt0NZZHqY"
   },
   "outputs": [
    {
     "data": {
      "text/plain": [
       "0.5661838326109037"
      ]
     },
     "execution_count": 15,
     "metadata": {},
     "output_type": "execute_result"
    }
   ],
   "source": [
    "a = (12 - 11.5) / 3\n",
    "stats.norm.cdf(a) # ตั้งแต่ 0-12"
   ]
  },
  {
   "cell_type": "markdown",
   "metadata": {
    "id": "2g0qLDviQY8b"
   },
   "source": [
    "- มีอายุเกินกว่า 10 ปีขึ้นไป"
   ]
  },
  {
   "cell_type": "code",
   "execution_count": 16,
   "metadata": {
    "id": "U1H1mx2ZZI6I"
   },
   "outputs": [
    {
     "data": {
      "text/plain": [
       "0.6914624612740131"
      ]
     },
     "execution_count": 16,
     "metadata": {},
     "output_type": "execute_result"
    }
   ],
   "source": [
    "a = (10 - 11.5) / 3\n",
    "1- stats.norm.cdf(a) # หรือสามารถใช้ stats.norm.sf(a) แทน"
   ]
  },
  {
   "cell_type": "markdown",
   "metadata": {
    "id": "floehrzxQp4u"
   },
   "source": [
    "###  "
   ]
  },
  {
   "cell_type": "markdown",
   "metadata": {
    "id": "xMohIA7jQp4u"
   },
   "source": [
    "5.7 ถ้าระดับค่าคลอเรสเตอรอลในประชากรกลุ่มหนึ่งมีการแจกแจงแบบปกติ มีค่าเฉลี่ยเท่ากับ 200 mg/\n",
    "100 ml และค่าเบี่ยงเบนมาตรฐานเท่ากับ 20 mg/100 ml จงหาความน่าจะเป็นที่จะเลือกได้บุคคลหนึ่ง\n",
    "จากประชากรกลุ่มนี้ แล้วพบว่าระดับคอเรสเตอรอลมีค่า  \n",
    "- ระหว่าง 180 และ 200 mg/100 ml  "
   ]
  },
  {
   "cell_type": "code",
   "execution_count": 17,
   "metadata": {
    "id": "-A17QfPuZM77"
   },
   "outputs": [
    {
     "data": {
      "text/plain": [
       "0.3413447460685429"
      ]
     },
     "execution_count": 17,
     "metadata": {},
     "output_type": "execute_result"
    }
   ],
   "source": [
    "a = (180 - 200) / 20\n",
    "b = (200 - 200) / 20\n",
    "stats.norm.cdf(b) - stats.norm.cdf(a)"
   ]
  },
  {
   "cell_type": "markdown",
   "metadata": {
    "id": "VrDTcamkTDlO"
   },
   "source": [
    "- เกินกว่า 225 mg/100 ml "
   ]
  },
  {
   "cell_type": "code",
   "execution_count": 18,
   "metadata": {
    "id": "vKuF704LZOX_"
   },
   "outputs": [
    {
     "data": {
      "text/plain": [
       "0.10564977366685535"
      ]
     },
     "execution_count": 18,
     "metadata": {},
     "output_type": "execute_result"
    }
   ],
   "source": [
    "a = (225 - 200) / 20\n",
    "1 - stats.norm.cdf(a)"
   ]
  },
  {
   "cell_type": "markdown",
   "metadata": {
    "id": "wnACIhNsTEdT"
   },
   "source": [
    "- ระหว่าง 190 และ 210 mg/100 ml"
   ]
  },
  {
   "cell_type": "code",
   "execution_count": 19,
   "metadata": {
    "id": "8N-XVkZTZP9S"
   },
   "outputs": [
    {
     "data": {
      "text/plain": [
       "0.38292492254802624"
      ]
     },
     "execution_count": 19,
     "metadata": {},
     "output_type": "execute_result"
    }
   ],
   "source": [
    "a = (190 - 200) / 20\n",
    "b = (210 - 200) / 20\n",
    "stats.norm.cdf(b) - stats.norm.cdf(a)"
   ]
  },
  {
   "cell_type": "markdown",
   "metadata": {
    "id": "00fXCreGTFAM"
   },
   "source": [
    "- น้อยกว่า 150 mg/100 ml"
   ]
  },
  {
   "cell_type": "code",
   "execution_count": 20,
   "metadata": {
    "id": "mZZ7T_QdZRQb"
   },
   "outputs": [
    {
     "data": {
      "text/plain": [
       "0.006209665325776132"
      ]
     },
     "execution_count": 20,
     "metadata": {},
     "output_type": "execute_result"
    }
   ],
   "source": [
    "a = (150 - 200) / 20\n",
    "stats.norm.cdf(a)"
   ]
  },
  {
   "cell_type": "markdown",
   "metadata": {
    "id": "Mu4lT_CApF2I"
   },
   "source": [
    "###  "
   ]
  }
 ],
 "metadata": {
  "colab": {
   "provenance": []
  },
  "kernelspec": {
   "display_name": "py38",
   "language": "python",
   "name": "python3"
  },
  "language_info": {
   "codemirror_mode": {
    "name": "ipython",
    "version": 3
   },
   "file_extension": ".py",
   "mimetype": "text/x-python",
   "name": "python",
   "nbconvert_exporter": "python",
   "pygments_lexer": "ipython3",
   "version": "3.8.12"
  },
  "vscode": {
   "interpreter": {
    "hash": "349e2672f11a642f218539d7d401b5c0e6778d7e53395089974a1584a4f9578c"
   }
  }
 },
 "nbformat": 4,
 "nbformat_minor": 4
}
